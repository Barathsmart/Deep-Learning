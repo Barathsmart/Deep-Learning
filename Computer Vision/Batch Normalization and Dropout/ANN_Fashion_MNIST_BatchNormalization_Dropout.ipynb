{
  "nbformat": 4,
  "nbformat_minor": 0,
  "metadata": {
    "kernelspec": {
      "display_name": "Python 3",
      "language": "python",
      "name": "python3"
    },
    "language_info": {
      "codemirror_mode": {
        "name": "ipython",
        "version": 3
      },
      "file_extension": ".py",
      "mimetype": "text/x-python",
      "name": "python",
      "nbconvert_exporter": "python",
      "pygments_lexer": "ipython3",
      "version": "3.8.5"
    },
    "colab": {
      "name": "ANN_Fashion_MNIST_BatchNormalization_Dropout.ipynb",
      "provenance": [],
      "collapsed_sections": [
        "hCchiNO4j3AJ",
        "bPJdLQa-j3AK"
      ]
    }
  },
  "cells": [
    {
      "cell_type": "markdown",
      "metadata": {
        "id": "pmUFPEFdj2_V"
      },
      "source": [
        "# Artificial Neural Network Working for Fashion MNIST Classification Prediction of 10 product Categories"
      ]
    },
    {
      "cell_type": "code",
      "metadata": {
        "id": "QOHMDix9j2_Z"
      },
      "source": [
        "import numpy as np\n",
        "import pandas as pd\n",
        "%matplotlib inline\n",
        "import matplotlib as mpl\n",
        "import matplotlib.pyplot as plt\n",
        "import cv2"
      ],
      "execution_count": 1,
      "outputs": []
    },
    {
      "cell_type": "markdown",
      "metadata": {
        "id": "73DO9r5_j2_c"
      },
      "source": [
        "## Building an Image Classifier\n",
        "First let's install and import TensorFlow and Keras"
      ]
    },
    {
      "cell_type": "markdown",
      "metadata": {
        "id": "_ciwSZFaj2_e"
      },
      "source": [
        "> conda install tensorflow\n",
        "\n",
        "> conda install pip \n",
        "\n",
        "> pip install --upgrade tensorflow==2.0.0-rc1"
      ]
    },
    {
      "cell_type": "code",
      "metadata": {
        "id": "K4lx_CxMj2_g"
      },
      "source": [
        "import tensorflow as tf\n",
        "from tensorflow import keras\n",
        "from keras.models import Sequential\n",
        "from keras.layers.core import Dense,Activation,Dropout\n",
        "from tensorflow.keras.layers import BatchNormalization"
      ],
      "execution_count": 59,
      "outputs": []
    },
    {
      "cell_type": "code",
      "metadata": {
        "colab": {
          "base_uri": "https://localhost:8080/",
          "height": 35
        },
        "id": "F8SOklhBj2_i",
        "outputId": "9c7d63ed-db64-46f3-9a43-5511bfe6c924"
      },
      "source": [
        "keras.__version__"
      ],
      "execution_count": 3,
      "outputs": [
        {
          "output_type": "execute_result",
          "data": {
            "text/plain": [
              "'2.8.0'"
            ],
            "application/vnd.google.colaboratory.intrinsic+json": {
              "type": "string"
            }
          },
          "metadata": {},
          "execution_count": 3
        }
      ]
    },
    {
      "cell_type": "code",
      "metadata": {
        "colab": {
          "base_uri": "https://localhost:8080/",
          "height": 35
        },
        "id": "vbe3HzPEj2_l",
        "outputId": "b04142aa-e5cd-4434-9254-317d193c4f8f"
      },
      "source": [
        "tf.__version__\n"
      ],
      "execution_count": 4,
      "outputs": [
        {
          "output_type": "execute_result",
          "data": {
            "text/plain": [
              "'2.8.0'"
            ],
            "application/vnd.google.colaboratory.intrinsic+json": {
              "type": "string"
            }
          },
          "metadata": {},
          "execution_count": 4
        }
      ]
    },
    {
      "cell_type": "markdown",
      "metadata": {
        "id": "p0kwgbVkj2_o"
      },
      "source": [
        "Link  https://keras.io/datasets/#fashion-mnist-database-of-fashion-articles\n",
        "\n",
        "Dataset of 60,000 28x28 grayscale images of 10 fashion categories, along with a test set of 10,000 images. The class labels are:\n",
        "\n",
        "| Label |\tDescription |\n",
        "--- | --- |\n",
        "| 0\t| T-shirt/top\n",
        "| 1\t| Trouser\n",
        "| 2\t| Pullover\n",
        "| 3\t| Dress\n",
        "| 4\t| Coat\n",
        "| 5\t| Sandal\n",
        "| 6\t| Shirt\n",
        "| 7\t| Sneaker\n",
        "| 8\t| Bag\n",
        "| 9\t| Ankle boot\n",
        "\n",
        "![image.png](attachment:image.png)\n",
        "\n",
        "### Usage:\n",
        "from keras.datasets import fashion_mnist\n",
        "\n",
        "> (x_train, y_train), (x_test, y_test) = fashion_mnist.load_data()\n",
        "\n",
        "Returns:\n",
        "2 tuples:\n",
        "1. x_train, x_test: uint8 array of grayscale image data with shape (num_samples, 28, 28).\n",
        "2. y_train, y_test: uint8 array of labels (integers in range 0-9) with shape (num_samples,)."
      ]
    },
    {
      "cell_type": "code",
      "metadata": {
        "id": "QGTWBdWCj2_r"
      },
      "source": [
        "fashion_mnist = keras.datasets.fashion_mnist\n",
        "(X_train, y_train), (X_test, y_test) = fashion_mnist.load_data()"
      ],
      "execution_count": 10,
      "outputs": []
    },
    {
      "cell_type": "code",
      "metadata": {
        "colab": {
          "base_uri": "https://localhost:8080/"
        },
        "id": "4lVEpwG0mDgk",
        "outputId": "6b791372-69ec-4ebc-efb5-614ede1fefd9"
      },
      "source": [
        "# selecting the first sample\n",
        "x = X_train[10]\n",
        "print(\"The dimension of x is 2D matrix as \", x.shape)\n",
        "# Resizing the image\n",
        "x = cv2.resize(x, (18,18))"
      ],
      "execution_count": 11,
      "outputs": [
        {
          "output_type": "stream",
          "name": "stdout",
          "text": [
            "The dimension of x is 2D matrix as  (28, 28)\n"
          ]
        }
      ]
    },
    {
      "cell_type": "code",
      "metadata": {
        "colab": {
          "base_uri": "https://localhost:8080/"
        },
        "id": "b-BUXfrhmQR-",
        "outputId": "2352ecf9-6276-446e-fb26-cfc8e8834759"
      },
      "source": [
        "print(\"The range of pixel varies between 0 to 255\")\n",
        "print(\"The pixel having black is more close to 0 and pixel which is white is more close to 255\")\n",
        "print(x)"
      ],
      "execution_count": 12,
      "outputs": [
        {
          "output_type": "stream",
          "name": "stdout",
          "text": [
            "The range of pixel varies between 0 to 255\n",
            "The pixel having black is more close to 0 and pixel which is white is more close to 255\n",
            "[[  0   0   0   0  55 165 164  59  44  39  56  86 187  97   9   0   0   0]\n",
            " [  0   0   0  52 177 186 192 212 196 157 204 189 192 184 143   0   0   0]\n",
            " [  0   0   0 137 155 173 175 183 182 183 185 183 180 167 169  32   0   0]\n",
            " [  0   0   1 164 146 168 180 184 182 178 185 191 189 175 171  60   0   0]\n",
            " [  0   0  18 166 147 137 171 175 178 175 173 182 176 157 162  74   0   0]\n",
            " [  0   0  31 142 190 126 144 160 160 156 155 169 142 195 155 103   0   0]\n",
            " [  0   0  15  78 153 144 157 155 158 159 160 179 169 128 169  53   0   0]\n",
            " [  0   0   0   0   0  80 169 154 158 162 164 166 192   0   0   0   0   0]\n",
            " [  0   0   0   1   1  36 162 159 160 161 164 163 200   0   1   0   0   0]\n",
            " [  0   0   0   0   2  45 157 163 162 162 164 167 162   4   2   0   0   0]\n",
            " [  0   0   0   0   2 108 161 165 165 161 169 163 169  23   4   0   0   0]\n",
            " [  0   0   0   1   1 158 164 170 170 163 171 166 168  52   3   0   0   0]\n",
            " [  0   0   0   3   8 154 165 174 173 165 173 168 169  81   0   0   0   0]\n",
            " [  0   0   0   4  34 172 170 177 180 174 170 178 166  87   0   1   0   0]\n",
            " [  0   0   0   4  53 185 180 172 182 181 160 195 169 108   0   1   0   0]\n",
            " [  0   0   0   5  68 176 187 158 188 198 157 206 169 115   0   2   0   0]\n",
            " [  0   0   0   5  68 174 178 161 197 202 163 205 168 111   0   2   0   0]\n",
            " [  0   0   0   3  65 148 132 115 134 148 120 152 129  94   0   1   0   0]]\n"
          ]
        }
      ]
    },
    {
      "cell_type": "code",
      "metadata": {
        "colab": {
          "base_uri": "https://localhost:8080/",
          "height": 282
        },
        "id": "ivgbymIoj2_t",
        "outputId": "3f738c70-8b1e-4ebc-ab1d-bc649c071274"
      },
      "source": [
        "plt.imshow(X_train[10])"
      ],
      "execution_count": 14,
      "outputs": [
        {
          "output_type": "execute_result",
          "data": {
            "text/plain": [
              "<matplotlib.image.AxesImage at 0x7f149e99cfd0>"
            ]
          },
          "metadata": {},
          "execution_count": 14
        },
        {
          "output_type": "display_data",
          "data": {
            "text/plain": [
              "<Figure size 432x288 with 1 Axes>"
            ],
            "image/png": "[encoded data removed]"
          },
          "metadata": {
            "needs_background": "light"
          }
        }
      ]
    },
    {
      "cell_type": "code",
      "metadata": {
        "colab": {
          "base_uri": "https://localhost:8080/"
        },
        "id": "jeJadF2Jj2_u",
        "outputId": "569b61f7-5ddd-4e12-af13-d93b4fed3ada"
      },
      "source": [
        "y_train[10]"
      ],
      "execution_count": 15,
      "outputs": [
        {
          "output_type": "execute_result",
          "data": {
            "text/plain": [
              "0"
            ]
          },
          "metadata": {},
          "execution_count": 15
        }
      ]
    },
    {
      "cell_type": "code",
      "metadata": {
        "colab": {
          "base_uri": "https://localhost:8080/",
          "height": 282
        },
        "id": "SaRfz050j2_w",
        "outputId": "04878e17-746d-4ed9-943f-6ddefb483cb6"
      },
      "source": [
        "plt.imshow(X_train[0])"
      ],
      "execution_count": 16,
      "outputs": [
        {
          "output_type": "execute_result",
          "data": {
            "text/plain": [
              "<matplotlib.image.AxesImage at 0x7f149e90e710>"
            ]
          },
          "metadata": {},
          "execution_count": 16
        },
        {
          "output_type": "display_data",
          "data": {
            "text/plain": [
              "<Figure size 432x288 with 1 Axes>"
            ],
            "image/png": "[encoded data removed]"
          },
          "metadata": {
            "needs_background": "light"
          }
        }
      ]
    },
    {
      "cell_type": "code",
      "metadata": {
        "colab": {
          "base_uri": "https://localhost:8080/"
        },
        "id": "VM_s5lU7j2_x",
        "outputId": "54ee44f1-d148-4107-ed70-fcef64edb459"
      },
      "source": [
        "y_train[0]"
      ],
      "execution_count": 17,
      "outputs": [
        {
          "output_type": "execute_result",
          "data": {
            "text/plain": [
              "9"
            ]
          },
          "metadata": {},
          "execution_count": 17
        }
      ]
    },
    {
      "cell_type": "code",
      "metadata": {
        "colab": {
          "base_uri": "https://localhost:8080/",
          "height": 282
        },
        "id": "QJlgP-Qnj2_y",
        "outputId": "dd24dad5-048e-4da6-d28d-cc881714740b"
      },
      "source": [
        "plt.imshow(X_train[1])"
      ],
      "execution_count": 18,
      "outputs": [
        {
          "output_type": "execute_result",
          "data": {
            "text/plain": [
              "<matplotlib.image.AxesImage at 0x7f149e874e10>"
            ]
          },
          "metadata": {},
          "execution_count": 18
        },
        {
          "output_type": "display_data",
          "data": {
            "text/plain": [
              "<Figure size 432x288 with 1 Axes>"
            ],
            "image/png": "[encoded data removed]"
          },
          "metadata": {
            "needs_background": "light"
          }
        }
      ]
    },
    {
      "cell_type": "code",
      "metadata": {
        "colab": {
          "base_uri": "https://localhost:8080/"
        },
        "id": "8fIB772Sj2_0",
        "outputId": "a2a67d94-ce59-4092-8756-fc081c019b31"
      },
      "source": [
        "y_train[1]"
      ],
      "execution_count": 19,
      "outputs": [
        {
          "output_type": "execute_result",
          "data": {
            "text/plain": [
              "0"
            ]
          },
          "metadata": {},
          "execution_count": 19
        }
      ]
    },
    {
      "cell_type": "code",
      "metadata": {
        "colab": {
          "base_uri": "https://localhost:8080/",
          "height": 282
        },
        "id": "tTMM9ghFj2_1",
        "outputId": "cbca1506-8647-41da-a862-87fd93bcb3f1"
      },
      "source": [
        "plt.imshow(X_train[5])"
      ],
      "execution_count": 20,
      "outputs": [
        {
          "output_type": "execute_result",
          "data": {
            "text/plain": [
              "<matplotlib.image.AxesImage at 0x7f149e8684d0>"
            ]
          },
          "metadata": {},
          "execution_count": 20
        },
        {
          "output_type": "display_data",
          "data": {
            "text/plain": [
              "<Figure size 432x288 with 1 Axes>"
            ],
            "image/png": "[encoded data removed]"
          },
          "metadata": {
            "needs_background": "light"
          }
        }
      ]
    },
    {
      "cell_type": "code",
      "metadata": {
        "colab": {
          "base_uri": "https://localhost:8080/"
        },
        "id": "MNjxeXs0j2_2",
        "outputId": "001df8d2-c8cc-4001-8a05-ac0daa5afd05"
      },
      "source": [
        "y_train[5]"
      ],
      "execution_count": 21,
      "outputs": [
        {
          "output_type": "execute_result",
          "data": {
            "text/plain": [
              "2"
            ]
          },
          "metadata": {},
          "execution_count": 21
        }
      ]
    },
    {
      "cell_type": "code",
      "metadata": {
        "id": "gJqRfDlrj2_4"
      },
      "source": [
        "class_names = [\"T-shirt/top\", \"Trouser\", \"Pullover\", \"Dress\", \"Coat\",\n",
        "               \"Sandal\", \"Shirt\", \"Sneaker\", \"Bag\", \"Ankle boot\"]"
      ],
      "execution_count": 22,
      "outputs": []
    },
    {
      "cell_type": "code",
      "metadata": {
        "colab": {
          "base_uri": "https://localhost:8080/",
          "height": 35
        },
        "id": "LvDFYR9Gj2_5",
        "outputId": "6371d328-dd3f-4bb6-e6e4-0d4744538a03"
      },
      "source": [
        "class_names[y_train[10]]"
      ],
      "execution_count": 23,
      "outputs": [
        {
          "output_type": "execute_result",
          "data": {
            "text/plain": [
              "'T-shirt/top'"
            ],
            "application/vnd.google.colaboratory.intrinsic+json": {
              "type": "string"
            }
          },
          "metadata": {},
          "execution_count": 23
        }
      ]
    },
    {
      "cell_type": "code",
      "metadata": {
        "colab": {
          "base_uri": "https://localhost:8080/",
          "height": 282
        },
        "id": "3tmWONG8j2_6",
        "outputId": "9153fde2-49e8-4391-83ef-b6b6aa3efbe5"
      },
      "source": [
        "plt.imshow(X_train[10])"
      ],
      "execution_count": 24,
      "outputs": [
        {
          "output_type": "execute_result",
          "data": {
            "text/plain": [
              "<matplotlib.image.AxesImage at 0x7f149e7d6090>"
            ]
          },
          "metadata": {},
          "execution_count": 24
        },
        {
          "output_type": "display_data",
          "data": {
            "text/plain": [
              "<Figure size 432x288 with 1 Axes>"
            ],
            "image/png": "[encoded data removed]"
          },
          "metadata": {
            "needs_background": "light"
          }
        }
      ]
    },
    {
      "cell_type": "markdown",
      "metadata": {
        "id": "ZgnM6p_Tj2_7"
      },
      "source": [
        "#### X_train_full[10] is giving information abour the 28*28 pixel of image present at index 10 in x_train_full data. where in result we will find the pixel value in first row (28 pixel), 2nd row (28 pixel) upto 28 row (28 pixel). pixel value 0 indicate pixel is black and 255 indicate pixel is white"
      ]
    },
    {
      "cell_type": "code",
      "metadata": {
        "colab": {
          "base_uri": "https://localhost:8080/"
        },
        "id": "0j4wsep2j2_8",
        "outputId": "eac5f737-8b6f-4451-aecc-2541b23471fe"
      },
      "source": [
        "X_train[10]"
      ],
      "execution_count": 25,
      "outputs": [
        {
          "output_type": "execute_result",
          "data": {
            "text/plain": [
              "array([[  0,   0,   0,   0,   0,   0,   0,  11, 142, 200, 106,   0,   0,\n",
              "          0,   0,   0,   0,   0,  85, 185, 112,   0,   0,   0,   0,   0,\n",
              "          0,   0],\n",
              "       [  0,   0,   0,   0,   0,   0, 152, 214, 217, 194, 236, 216, 187,\n",
              "        149, 135, 153, 211, 217, 231, 205, 217, 188,  34,   0,   0,   0,\n",
              "          0,   0],\n",
              "       [  0,   0,   0,   0,   0,  66, 185, 166, 180, 181, 190, 211, 221,\n",
              "        197, 146, 198, 206, 191, 168, 190, 172, 188, 175,   0,   0,   0,\n",
              "          0,   0],\n",
              "       [  0,   0,   0,   0,   0, 135, 153, 160, 175, 180, 170, 186, 187,\n",
              "        190, 188, 190, 187, 174, 195, 185, 174, 161, 175,  59,   0,   0,\n",
              "          0,   0],\n",
              "       [  0,   0,   0,   0,   0, 161, 147, 160, 170, 178, 177, 180, 168,\n",
              "        173, 174, 171, 185, 184, 185, 172, 171, 164, 174, 120,   0,   0,\n",
              "          0,   0],\n",
              "       [  0,   0,   0,   0,   2, 175, 146, 145, 168, 178, 181, 185, 180,\n",
              "        184, 178, 179, 187, 191, 193, 190, 181, 171, 172, 158,   0,   0,\n",
              "          0,   0],\n",
              "       [  0,   0,   0,   0,  35, 177, 155, 140, 151, 172, 191, 187, 186,\n",
              "        187, 186, 187, 182, 191, 194, 188, 180, 161, 161, 185,   0,   0,\n",
              "          0,   0],\n",
              "       [  0,   0,   0,   0,  59, 170, 153, 141, 120, 154, 160, 161, 172,\n",
              "        168, 166, 161, 165, 172, 170, 164, 139, 149, 162, 166,  21,   0,\n",
              "          0,   0],\n",
              "       [  0,   0,   0,   0,  79, 145, 160, 214, 123, 128, 153, 160, 164,\n",
              "        158, 157, 154, 155, 170, 165, 141, 195, 193, 152, 166,  61,   0,\n",
              "          0,   0],\n",
              "       [  0,   0,   0,   0, 100, 157, 225, 245, 175, 113, 174, 158, 158,\n",
              "        160, 155, 160, 164, 178, 188, 135, 185, 240, 201, 172, 108,   0,\n",
              "          0,   0],\n",
              "       [  0,   0,   0,   0,   0,  31, 174,  28, 126, 153, 166, 152, 158,\n",
              "        158, 160, 161, 157, 168, 191, 188,  18, 132, 159,   7,   0,   0,\n",
              "          0,   0],\n",
              "       [  0,   0,   0,   0,   0,   0,   0,   0,  82, 187, 159, 153, 157,\n",
              "        158, 162, 164, 164, 154, 187, 190,   0,   0,   0,   0,   0,   0,\n",
              "          0,   0],\n",
              "       [  0,   0,   0,   0,   1,   3,   5,   0,  37, 175, 158, 155, 162,\n",
              "        158, 160, 162, 165, 153, 177, 205,   0,   0,   3,   3,   0,   0,\n",
              "          0,   0],\n",
              "       [  0,   0,   0,   0,   0,   0,   1,   0,  25, 175, 152, 160, 158,\n",
              "        161, 160, 164, 164, 161, 166, 200,   0,   0,   1,   0,   0,   0,\n",
              "          0,   0],\n",
              "       [  0,   0,   0,   0,   0,   0,   4,   0,  30, 171, 147, 164, 155,\n",
              "        165, 161, 165, 162, 170, 164, 162,   0,   0,   2,   0,   0,   0,\n",
              "          0,   0],\n",
              "       [  0,   0,   0,   0,   0,   0,   4,   0,  57, 166, 155, 164, 166,\n",
              "        161, 161, 164, 167, 165, 165, 162,  28,   0,   3,   0,   0,   0,\n",
              "          0,   0],\n",
              "       [  0,   0,   0,   0,   0,   0,   3,   0, 114, 161, 161, 166, 159,\n",
              "        168, 161, 161, 172, 162, 165, 171,  50,   0,   5,   0,   0,   0,\n",
              "          0,   0],\n",
              "       [  0,   0,   0,   0,   0,   0,   1,   0, 149, 157, 167, 172, 159,\n",
              "        172, 164, 161, 172, 170, 160, 171,  89,   0,   4,   0,   0,   0,\n",
              "          0,   0],\n",
              "       [  0,   0,   0,   0,   0,   2,   0,   4, 171, 164, 166, 173, 159,\n",
              "        179, 166, 160, 174, 167, 162, 166, 128,   0,   2,   0,   0,   0,\n",
              "          0,   0],\n",
              "       [  0,   0,   0,   0,   0,   3,   0,  18, 152, 173, 160, 179, 154,\n",
              "        181, 166, 164, 175, 170, 166, 170, 164,   0,   0,   1,   0,   0,\n",
              "          0,   0],\n",
              "       [  0,   0,   0,   0,   0,   4,   0,  47, 165, 172, 167, 185, 153,\n",
              "        187, 173, 165, 174, 179, 166, 166, 158,   5,   0,   3,   0,   0,\n",
              "          0,   0],\n",
              "       [  0,   0,   0,   0,   0,   4,   0,  87, 180, 162, 179, 179, 157,\n",
              "        191, 182, 165, 168, 190, 173, 165, 166,  20,   0,   4,   0,   0,\n",
              "          0,   0],\n",
              "       [  0,   0,   0,   0,   0,   4,   0, 105, 187, 157, 194, 175, 161,\n",
              "        190, 184, 170, 158, 205, 177, 168, 171,  44,   0,   4,   0,   0,\n",
              "          0,   0],\n",
              "       [  0,   0,   0,   0,   0,   5,   0, 138, 181, 158, 205, 160, 167,\n",
              "        190, 198, 167, 152, 218, 186, 170, 172,  57,   0,   5,   0,   0,\n",
              "          0,   0],\n",
              "       [  0,   0,   0,   0,   0,   5,   0, 135, 174, 167, 199, 155, 166,\n",
              "        201, 219, 165, 158, 218, 188, 167, 175,  56,   0,   7,   0,   0,\n",
              "          0,   0],\n",
              "       [  0,   0,   0,   0,   0,   5,   0, 129, 171, 172, 177, 153, 159,\n",
              "        206, 216, 148, 157, 206, 190, 165, 175,  48,   0,   5,   0,   0,\n",
              "          0,   0],\n",
              "       [  0,   0,   0,   0,   0,   5,   0, 167, 187, 182, 198, 194, 200,\n",
              "        226, 240, 184, 206, 255, 197, 178, 179,  42,   0,   5,   0,   0,\n",
              "          0,   0],\n",
              "       [  0,   0,   0,   0,   0,   3,   0, 115, 135, 113, 106,  85,  82,\n",
              "        108, 133,  83,  90, 121, 120, 110, 158,  18,   0,   3,   0,   0,\n",
              "          0,   0]], dtype=uint8)"
            ]
          },
          "metadata": {},
          "execution_count": 25
        }
      ]
    },
    {
      "cell_type": "markdown",
      "metadata": {
        "id": "P7ZeJhWjj2_9"
      },
      "source": [
        "### Data normalization\n",
        "We then normalize the data dimensions so that they are of approximately the same scale."
      ]
    },
    {
      "cell_type": "markdown",
      "metadata": {
        "id": "H0lcyyLJj2_-"
      },
      "source": [
        "#### Here we have normalize the data by dividing 255. ( float value bcoz to make compatible with python version) bcoz here we know pixel value is in between 0 & 255. so use this method of division by 255. But when we dont he lmit of data range hen we will standardization method for data normalization where we wiil find and standard deviation for the process"
      ]
    },
    {
      "cell_type": "code",
      "metadata": {
        "id": "beQO3eXvj2__"
      },
      "source": [
        "X_train_n = X_train/ 255.\n",
        "X_test_n = X_test / 255."
      ],
      "execution_count": 26,
      "outputs": []
    },
    {
      "cell_type": "markdown",
      "metadata": {
        "id": "YuRz3jAWj3AA"
      },
      "source": [
        "### Split the data into train/validation/test datasets\n",
        "In the earlier step of importing the date, we had 60,000 datasets for training and 10,000 test datasets. Now we further split the training data into train/validation. Here is how each type of dateset is used in deep learning:\n",
        "\n",
        "* __Training data__ — used for training the model\n",
        "* __Validation data__ — used for tuning the hyperparameters and evaluate the models\n",
        "* __Test data__ — used to test the model after the model has gone through initial vetting by the validation set."
      ]
    },
    {
      "cell_type": "code",
      "metadata": {
        "id": "wroEx5azj3AC"
      },
      "source": [
        "X_valid, X_train = X_train_n[:5000], X_train_n[5000:]\n",
        "y_valid, y_train = y_train_full[:5000], y_train_full[5000:]\n",
        "X_test = X_test_n"
      ],
      "execution_count": 27,
      "outputs": []
    },
    {
      "cell_type": "code",
      "metadata": {
        "colab": {
          "base_uri": "https://localhost:8080/"
        },
        "id": "YIVjJb_zj3AD",
        "outputId": "92da80c8-7343-4dc2-fc48-c91c63f42170"
      },
      "source": [
        "X_valid[0]"
      ],
      "execution_count": 28,
      "outputs": [
        {
          "output_type": "execute_result",
          "data": {
            "text/plain": [
              "array([[0.        , 0.        , 0.        , 0.        , 0.        ,\n",
              "        0.        , 0.        , 0.        , 0.        , 0.        ,\n",
              "        0.        , 0.        , 0.        , 0.        , 0.        ,\n",
              "        0.        , 0.        , 0.        , 0.        , 0.        ,\n",
              "        0.        , 0.        , 0.        , 0.        , 0.        ,\n",
              "        0.        , 0.        , 0.        ],\n",
              "       [0.        , 0.        , 0.        , 0.        , 0.        ,\n",
              "        0.        , 0.        , 0.        , 0.        , 0.        ,\n",
              "        0.        , 0.        , 0.        , 0.        , 0.        ,\n",
              "        0.        , 0.        , 0.        , 0.        , 0.        ,\n",
              "        0.        , 0.        , 0.        , 0.        , 0.        ,\n",
              "        0.        , 0.        , 0.        ],\n",
              "       [0.        , 0.        , 0.        , 0.        , 0.        ,\n",
              "        0.        , 0.        , 0.        , 0.        , 0.        ,\n",
              "        0.        , 0.        , 0.        , 0.        , 0.        ,\n",
              "        0.        , 0.        , 0.        , 0.        , 0.        ,\n",
              "        0.        , 0.        , 0.        , 0.        , 0.        ,\n",
              "        0.        , 0.        , 0.        ],\n",
              "       [0.        , 0.        , 0.        , 0.        , 0.        ,\n",
              "        0.        , 0.        , 0.        , 0.        , 0.        ,\n",
              "        0.        , 0.        , 0.00392157, 0.        , 0.        ,\n",
              "        0.05098039, 0.28627451, 0.        , 0.        , 0.00392157,\n",
              "        0.01568627, 0.        , 0.        , 0.        , 0.        ,\n",
              "        0.00392157, 0.00392157, 0.        ],\n",
              "       [0.        , 0.        , 0.        , 0.        , 0.        ,\n",
              "        0.        , 0.        , 0.        , 0.        , 0.        ,\n",
              "        0.        , 0.        , 0.01176471, 0.        , 0.14117647,\n",
              "        0.53333333, 0.49803922, 0.24313725, 0.21176471, 0.        ,\n",
              "        0.        , 0.        , 0.00392157, 0.01176471, 0.01568627,\n",
              "        0.        , 0.        , 0.01176471],\n",
              "       [0.        , 0.        , 0.        , 0.        , 0.        ,\n",
              "        0.        , 0.        , 0.        , 0.        , 0.        ,\n",
              "        0.        , 0.        , 0.02352941, 0.        , 0.4       ,\n",
              "        0.8       , 0.69019608, 0.5254902 , 0.56470588, 0.48235294,\n",
              "        0.09019608, 0.        , 0.        , 0.        , 0.        ,\n",
              "        0.04705882, 0.03921569, 0.        ],\n",
              "       [0.        , 0.        , 0.        , 0.        , 0.        ,\n",
              "        0.        , 0.        , 0.        , 0.        , 0.        ,\n",
              "        0.        , 0.        , 0.        , 0.        , 0.60784314,\n",
              "        0.9254902 , 0.81176471, 0.69803922, 0.41960784, 0.61176471,\n",
              "        0.63137255, 0.42745098, 0.25098039, 0.09019608, 0.30196078,\n",
              "        0.50980392, 0.28235294, 0.05882353],\n",
              "       [0.        , 0.        , 0.        , 0.        , 0.        ,\n",
              "        0.        , 0.        , 0.        , 0.        , 0.        ,\n",
              "        0.        , 0.00392157, 0.        , 0.27058824, 0.81176471,\n",
              "        0.8745098 , 0.85490196, 0.84705882, 0.84705882, 0.63921569,\n",
              "        0.49803922, 0.4745098 , 0.47843137, 0.57254902, 0.55294118,\n",
              "        0.34509804, 0.6745098 , 0.25882353],\n",
              "       [0.        , 0.        , 0.        , 0.        , 0.        ,\n",
              "        0.        , 0.        , 0.        , 0.        , 0.00392157,\n",
              "        0.00392157, 0.00392157, 0.        , 0.78431373, 0.90980392,\n",
              "        0.90980392, 0.91372549, 0.89803922, 0.8745098 , 0.8745098 ,\n",
              "        0.84313725, 0.83529412, 0.64313725, 0.49803922, 0.48235294,\n",
              "        0.76862745, 0.89803922, 0.        ],\n",
              "       [0.        , 0.        , 0.        , 0.        , 0.        ,\n",
              "        0.        , 0.        , 0.        , 0.        , 0.        ,\n",
              "        0.        , 0.        , 0.        , 0.71764706, 0.88235294,\n",
              "        0.84705882, 0.8745098 , 0.89411765, 0.92156863, 0.89019608,\n",
              "        0.87843137, 0.87058824, 0.87843137, 0.86666667, 0.8745098 ,\n",
              "        0.96078431, 0.67843137, 0.        ],\n",
              "       [0.        , 0.        , 0.        , 0.        , 0.        ,\n",
              "        0.        , 0.        , 0.        , 0.        , 0.        ,\n",
              "        0.        , 0.        , 0.        , 0.75686275, 0.89411765,\n",
              "        0.85490196, 0.83529412, 0.77647059, 0.70588235, 0.83137255,\n",
              "        0.82352941, 0.82745098, 0.83529412, 0.8745098 , 0.8627451 ,\n",
              "        0.95294118, 0.79215686, 0.        ],\n",
              "       [0.        , 0.        , 0.        , 0.        , 0.        ,\n",
              "        0.        , 0.        , 0.        , 0.        , 0.00392157,\n",
              "        0.01176471, 0.        , 0.04705882, 0.85882353, 0.8627451 ,\n",
              "        0.83137255, 0.85490196, 0.75294118, 0.6627451 , 0.89019608,\n",
              "        0.81568627, 0.85490196, 0.87843137, 0.83137255, 0.88627451,\n",
              "        0.77254902, 0.81960784, 0.20392157],\n",
              "       [0.        , 0.        , 0.        , 0.        , 0.        ,\n",
              "        0.        , 0.        , 0.        , 0.        , 0.        ,\n",
              "        0.02352941, 0.        , 0.38823529, 0.95686275, 0.87058824,\n",
              "        0.8627451 , 0.85490196, 0.79607843, 0.77647059, 0.86666667,\n",
              "        0.84313725, 0.83529412, 0.87058824, 0.8627451 , 0.96078431,\n",
              "        0.46666667, 0.65490196, 0.21960784],\n",
              "       [0.        , 0.        , 0.        , 0.        , 0.        ,\n",
              "        0.        , 0.        , 0.        , 0.        , 0.01568627,\n",
              "        0.        , 0.        , 0.21568627, 0.9254902 , 0.89411765,\n",
              "        0.90196078, 0.89411765, 0.94117647, 0.90980392, 0.83529412,\n",
              "        0.85490196, 0.8745098 , 0.91764706, 0.85098039, 0.85098039,\n",
              "        0.81960784, 0.36078431, 0.        ],\n",
              "       [0.        , 0.        , 0.00392157, 0.01568627, 0.02352941,\n",
              "        0.02745098, 0.00784314, 0.        , 0.        , 0.        ,\n",
              "        0.        , 0.        , 0.92941176, 0.88627451, 0.85098039,\n",
              "        0.8745098 , 0.87058824, 0.85882353, 0.87058824, 0.86666667,\n",
              "        0.84705882, 0.8745098 , 0.89803922, 0.84313725, 0.85490196,\n",
              "        1.        , 0.30196078, 0.        ],\n",
              "       [0.        , 0.01176471, 0.        , 0.        , 0.        ,\n",
              "        0.        , 0.        , 0.        , 0.        , 0.24313725,\n",
              "        0.56862745, 0.8       , 0.89411765, 0.81176471, 0.83529412,\n",
              "        0.86666667, 0.85490196, 0.81568627, 0.82745098, 0.85490196,\n",
              "        0.87843137, 0.8745098 , 0.85882353, 0.84313725, 0.87843137,\n",
              "        0.95686275, 0.62352941, 0.        ],\n",
              "       [0.        , 0.        , 0.        , 0.        , 0.07058824,\n",
              "        0.17254902, 0.32156863, 0.41960784, 0.74117647, 0.89411765,\n",
              "        0.8627451 , 0.87058824, 0.85098039, 0.88627451, 0.78431373,\n",
              "        0.80392157, 0.82745098, 0.90196078, 0.87843137, 0.91764706,\n",
              "        0.69019608, 0.7372549 , 0.98039216, 0.97254902, 0.91372549,\n",
              "        0.93333333, 0.84313725, 0.        ],\n",
              "       [0.        , 0.22352941, 0.73333333, 0.81568627, 0.87843137,\n",
              "        0.86666667, 0.87843137, 0.81568627, 0.8       , 0.83921569,\n",
              "        0.81568627, 0.81960784, 0.78431373, 0.62352941, 0.96078431,\n",
              "        0.75686275, 0.80784314, 0.8745098 , 1.        , 1.        ,\n",
              "        0.86666667, 0.91764706, 0.86666667, 0.82745098, 0.8627451 ,\n",
              "        0.90980392, 0.96470588, 0.        ],\n",
              "       [0.01176471, 0.79215686, 0.89411765, 0.87843137, 0.86666667,\n",
              "        0.82745098, 0.82745098, 0.83921569, 0.80392157, 0.80392157,\n",
              "        0.80392157, 0.8627451 , 0.94117647, 0.31372549, 0.58823529,\n",
              "        1.        , 0.89803922, 0.86666667, 0.7372549 , 0.60392157,\n",
              "        0.74901961, 0.82352941, 0.8       , 0.81960784, 0.87058824,\n",
              "        0.89411765, 0.88235294, 0.        ],\n",
              "       [0.38431373, 0.91372549, 0.77647059, 0.82352941, 0.87058824,\n",
              "        0.89803922, 0.89803922, 0.91764706, 0.97647059, 0.8627451 ,\n",
              "        0.76078431, 0.84313725, 0.85098039, 0.94509804, 0.25490196,\n",
              "        0.28627451, 0.41568627, 0.45882353, 0.65882353, 0.85882353,\n",
              "        0.86666667, 0.84313725, 0.85098039, 0.8745098 , 0.8745098 ,\n",
              "        0.87843137, 0.89803922, 0.11372549],\n",
              "       [0.29411765, 0.8       , 0.83137255, 0.8       , 0.75686275,\n",
              "        0.80392157, 0.82745098, 0.88235294, 0.84705882, 0.7254902 ,\n",
              "        0.77254902, 0.80784314, 0.77647059, 0.83529412, 0.94117647,\n",
              "        0.76470588, 0.89019608, 0.96078431, 0.9372549 , 0.8745098 ,\n",
              "        0.85490196, 0.83137255, 0.81960784, 0.87058824, 0.8627451 ,\n",
              "        0.86666667, 0.90196078, 0.2627451 ],\n",
              "       [0.18823529, 0.79607843, 0.71764706, 0.76078431, 0.83529412,\n",
              "        0.77254902, 0.7254902 , 0.74509804, 0.76078431, 0.75294118,\n",
              "        0.79215686, 0.83921569, 0.85882353, 0.86666667, 0.8627451 ,\n",
              "        0.9254902 , 0.88235294, 0.84705882, 0.78039216, 0.80784314,\n",
              "        0.72941176, 0.70980392, 0.69411765, 0.6745098 , 0.70980392,\n",
              "        0.80392157, 0.80784314, 0.45098039],\n",
              "       [0.        , 0.47843137, 0.85882353, 0.75686275, 0.70196078,\n",
              "        0.67058824, 0.71764706, 0.76862745, 0.8       , 0.82352941,\n",
              "        0.83529412, 0.81176471, 0.82745098, 0.82352941, 0.78431373,\n",
              "        0.76862745, 0.76078431, 0.74901961, 0.76470588, 0.74901961,\n",
              "        0.77647059, 0.75294118, 0.69019608, 0.61176471, 0.65490196,\n",
              "        0.69411765, 0.82352941, 0.36078431],\n",
              "       [0.        , 0.        , 0.29019608, 0.74117647, 0.83137255,\n",
              "        0.74901961, 0.68627451, 0.6745098 , 0.68627451, 0.70980392,\n",
              "        0.7254902 , 0.7372549 , 0.74117647, 0.7372549 , 0.75686275,\n",
              "        0.77647059, 0.8       , 0.81960784, 0.82352941, 0.82352941,\n",
              "        0.82745098, 0.7372549 , 0.7372549 , 0.76078431, 0.75294118,\n",
              "        0.84705882, 0.66666667, 0.        ],\n",
              "       [0.00784314, 0.        , 0.        , 0.        , 0.25882353,\n",
              "        0.78431373, 0.87058824, 0.92941176, 0.9372549 , 0.94901961,\n",
              "        0.96470588, 0.95294118, 0.95686275, 0.86666667, 0.8627451 ,\n",
              "        0.75686275, 0.74901961, 0.70196078, 0.71372549, 0.71372549,\n",
              "        0.70980392, 0.69019608, 0.65098039, 0.65882353, 0.38823529,\n",
              "        0.22745098, 0.        , 0.        ],\n",
              "       [0.        , 0.        , 0.        , 0.        , 0.        ,\n",
              "        0.        , 0.        , 0.15686275, 0.23921569, 0.17254902,\n",
              "        0.28235294, 0.16078431, 0.1372549 , 0.        , 0.        ,\n",
              "        0.        , 0.        , 0.        , 0.        , 0.        ,\n",
              "        0.        , 0.        , 0.        , 0.        , 0.        ,\n",
              "        0.        , 0.        , 0.        ],\n",
              "       [0.        , 0.        , 0.        , 0.        , 0.        ,\n",
              "        0.        , 0.        , 0.        , 0.        , 0.        ,\n",
              "        0.        , 0.        , 0.        , 0.        , 0.        ,\n",
              "        0.        , 0.        , 0.        , 0.        , 0.        ,\n",
              "        0.        , 0.        , 0.        , 0.        , 0.        ,\n",
              "        0.        , 0.        , 0.        ],\n",
              "       [0.        , 0.        , 0.        , 0.        , 0.        ,\n",
              "        0.        , 0.        , 0.        , 0.        , 0.        ,\n",
              "        0.        , 0.        , 0.        , 0.        , 0.        ,\n",
              "        0.        , 0.        , 0.        , 0.        , 0.        ,\n",
              "        0.        , 0.        , 0.        , 0.        , 0.        ,\n",
              "        0.        , 0.        , 0.        ]])"
            ]
          },
          "metadata": {},
          "execution_count": 28
        }
      ]
    },
    {
      "cell_type": "markdown",
      "metadata": {
        "id": "_pTRw31Rj3AE"
      },
      "source": [
        "### Create the model architecture\n",
        "There are two APIs for defining a model in Keras:\n",
        "* Sequential model API\n",
        "* Functional API"
      ]
    },
    {
      "cell_type": "markdown",
      "metadata": {
        "id": "_zw9F6g5j3AF"
      },
      "source": [
        "![](1.png)"
      ]
    },
    {
      "cell_type": "markdown",
      "metadata": {
        "id": "CwjmlkKYj3AF"
      },
      "source": [
        "![](Functional.JPG \"Title\")"
      ]
    },
    {
      "cell_type": "markdown",
      "metadata": {
        "id": "o2YX1iLQj3AG"
      },
      "source": [
        "# np.random.seed(42)\n",
        "tf.random.set_seed(42)\n",
        " by using random.seed everytime we run the code we will get same set of training and test distribution so that we will get same result display everytime we run the code"
      ]
    },
    {
      "cell_type": "code",
      "metadata": {
        "id": "Kd0M1wRgj3AH"
      },
      "source": [
        "np.random.seed(42)\n",
        "#tf.random.set_random_seed(42)\n",
        "tf.random.set_seed(42)\n",
        "#tf.random.set_seed(42)"
      ],
      "execution_count": 29,
      "outputs": []
    },
    {
      "cell_type": "markdown",
      "metadata": {
        "id": "fe2w3M59j3AI"
      },
      "source": [
        "![](Structure.jpg \"Title\")"
      ]
    },
    {
      "cell_type": "markdown",
      "metadata": {
        "id": "Pgk0JXh2j3AJ"
      },
      "source": [
        "# MODEL DESIGNING"
      ]
    },
    {
      "cell_type": "markdown",
      "metadata": {
        "id": "hCchiNO4j3AJ"
      },
      "source": [
        "### Keras is high end library used for designing model such as number of layer , number of neuron per layer, loss function, optimizer , activation function , evaluation metrics etc"
      ]
    },
    {
      "cell_type": "markdown",
      "metadata": {
        "id": "bPJdLQa-j3AK"
      },
      "source": [
        "### Tensorflow, Theano and CNTK is lower level libray which is completely responible for high level  mathematical operations.Tensorflow, Theano and CNTK work under keras library very efficiently for smooth oprrations "
      ]
    },
    {
      "cell_type": "markdown",
      "metadata": {
        "id": "JJ_qT3DYj3AL"
      },
      "source": [
        "# 1. Create Model"
      ]
    },
    {
      "cell_type": "code",
      "metadata": {
        "id": "tYv3cOPuj3AM"
      },
      "source": [
        "model = keras.models.Sequential()\n",
        "model.add(keras.layers.Flatten(input_shape=[28, 28]))\n",
        "model.add(keras.layers.Dense(300, activation=\"relu\"))\n",
        "model.add(keras.layers.Dense(100, activation=\"relu\"))\n",
        "\n",
        "model.add(keras.layers.Dense(10, activation=\"softmax\"))"
      ],
      "execution_count": 30,
      "outputs": []
    },
    {
      "cell_type": "markdown",
      "metadata": {
        "id": "otE3byQYj3AN"
      },
      "source": [
        "# model summary will give infoarmation about Trainable and non trainable parameters per layers.\n",
        "\n",
        "Trainnable parameters are Weight and Biases.\n",
        "\n",
        "Ex: Flatten layer is having 784 input.\n",
        "    Next layer is Dense layer having 300 neuron. So in this layer total number of Trainable parameters are\n",
        "    \n",
        "    784 *300 +300=235500 (784 are input features and 300 are nueron so weight is associated with each input feauture 784*300) \n",
        "    \n",
        "    Hence total number of weights = 784*300\n",
        "    Total number of biases =300 ( one bias per nueron)"
      ]
    },
    {
      "cell_type": "code",
      "metadata": {
        "colab": {
          "base_uri": "https://localhost:8080/"
        },
        "id": "0_YHXI3Mj3AO",
        "outputId": "3efeaa5c-2a06-4265-a955-a74230e1b845"
      },
      "source": [
        "model.summary()"
      ],
      "execution_count": 31,
      "outputs": [
        {
          "output_type": "stream",
          "name": "stdout",
          "text": [
            "Model: \"sequential\"\n",
            "_________________________________________________________________\n",
            " Layer (type)                Output Shape              Param #   \n",
            "=================================================================\n",
            " flatten (Flatten)           (None, 784)               0         \n",
            "                                                                 \n",
            " dense (Dense)               (None, 300)               235500    \n",
            "                                                                 \n",
            " dense_1 (Dense)             (None, 100)               30100     \n",
            "                                                                 \n",
            " dense_2 (Dense)             (None, 10)                1010      \n",
            "                                                                 \n",
            "=================================================================\n",
            "Total params: 266,610\n",
            "Trainable params: 266,610\n",
            "Non-trainable params: 0\n",
            "_________________________________________________________________\n"
          ]
        }
      ]
    },
    {
      "cell_type": "code",
      "metadata": {
        "id": "61blmvt9j3AP"
      },
      "source": [
        ""
      ],
      "execution_count": 31,
      "outputs": []
    },
    {
      "cell_type": "code",
      "metadata": {
        "colab": {
          "base_uri": "https://localhost:8080/",
          "height": 466
        },
        "id": "hdZQ8sQ3j3AQ",
        "outputId": "56f0c082-d34f-4caa-9d7c-5abe4c65b49c"
      },
      "source": [
        "import pydot\n",
        "keras.utils.plot_model(model)"
      ],
      "execution_count": 32,
      "outputs": [
        {
          "output_type": "execute_result",
          "data": {
            "text/plain": [
              "<IPython.core.display.Image object>"
            ],
            "image/png": "[encoded data removed]"
          },
          "metadata": {},
          "execution_count": 32
        }
      ]
    },
    {
      "cell_type": "markdown",
      "metadata": {
        "id": "3RlGjYzVj3AR"
      },
      "source": [
        "We can access the parameters using get_weight() method"
      ]
    },
    {
      "cell_type": "code",
      "metadata": {
        "id": "WiwyVWAej3AR"
      },
      "source": [
        "weights, biases = model.layers[1].get_weights()"
      ],
      "execution_count": 33,
      "outputs": []
    },
    {
      "cell_type": "code",
      "metadata": {
        "colab": {
          "base_uri": "https://localhost:8080/"
        },
        "id": "zkxd5521j3AS",
        "outputId": "667fe7b8-4664-4a38-9337-fd4f3fc4ecda"
      },
      "source": [
        "weights"
      ],
      "execution_count": 34,
      "outputs": [
        {
          "output_type": "execute_result",
          "data": {
            "text/plain": [
              "array([[ 0.02448617, -0.00877795, -0.02189048, ..., -0.02766046,\n",
              "         0.03859074, -0.06889391],\n",
              "       [ 0.00476504, -0.03105379, -0.0586676 , ...,  0.00602964,\n",
              "        -0.02763776, -0.04165364],\n",
              "       [-0.06189284, -0.06901957,  0.07102345, ..., -0.04238207,\n",
              "         0.07121518, -0.07331658],\n",
              "       ...,\n",
              "       [-0.03048757,  0.02155137, -0.05400612, ..., -0.00113463,\n",
              "         0.00228987,  0.05581069],\n",
              "       [ 0.07061854, -0.06960931,  0.07038955, ..., -0.00384101,\n",
              "         0.00034875,  0.02878492],\n",
              "       [-0.06022581,  0.01577859, -0.02585464, ..., -0.00527829,\n",
              "         0.00272203, -0.06793761]], dtype=float32)"
            ]
          },
          "metadata": {},
          "execution_count": 34
        }
      ]
    },
    {
      "cell_type": "code",
      "metadata": {
        "colab": {
          "base_uri": "https://localhost:8080/"
        },
        "id": "FIPkmSW-j3AT",
        "outputId": "6a9357dc-a085-46af-86eb-ecf2b85e5a55"
      },
      "source": [
        "weights.shape"
      ],
      "execution_count": 35,
      "outputs": [
        {
          "output_type": "execute_result",
          "data": {
            "text/plain": [
              "(784, 300)"
            ]
          },
          "metadata": {},
          "execution_count": 35
        }
      ]
    },
    {
      "cell_type": "code",
      "metadata": {
        "colab": {
          "base_uri": "https://localhost:8080/"
        },
        "id": "L8bt58g0j3AU",
        "outputId": "b63e4b08-c46c-4024-e5d6-5a6852c561f2"
      },
      "source": [
        "biases"
      ],
      "execution_count": 36,
      "outputs": [
        {
          "output_type": "execute_result",
          "data": {
            "text/plain": [
              "array([0., 0., 0., 0., 0., 0., 0., 0., 0., 0., 0., 0., 0., 0., 0., 0., 0.,\n",
              "       0., 0., 0., 0., 0., 0., 0., 0., 0., 0., 0., 0., 0., 0., 0., 0., 0.,\n",
              "       0., 0., 0., 0., 0., 0., 0., 0., 0., 0., 0., 0., 0., 0., 0., 0., 0.,\n",
              "       0., 0., 0., 0., 0., 0., 0., 0., 0., 0., 0., 0., 0., 0., 0., 0., 0.,\n",
              "       0., 0., 0., 0., 0., 0., 0., 0., 0., 0., 0., 0., 0., 0., 0., 0., 0.,\n",
              "       0., 0., 0., 0., 0., 0., 0., 0., 0., 0., 0., 0., 0., 0., 0., 0., 0.,\n",
              "       0., 0., 0., 0., 0., 0., 0., 0., 0., 0., 0., 0., 0., 0., 0., 0., 0.,\n",
              "       0., 0., 0., 0., 0., 0., 0., 0., 0., 0., 0., 0., 0., 0., 0., 0., 0.,\n",
              "       0., 0., 0., 0., 0., 0., 0., 0., 0., 0., 0., 0., 0., 0., 0., 0., 0.,\n",
              "       0., 0., 0., 0., 0., 0., 0., 0., 0., 0., 0., 0., 0., 0., 0., 0., 0.,\n",
              "       0., 0., 0., 0., 0., 0., 0., 0., 0., 0., 0., 0., 0., 0., 0., 0., 0.,\n",
              "       0., 0., 0., 0., 0., 0., 0., 0., 0., 0., 0., 0., 0., 0., 0., 0., 0.,\n",
              "       0., 0., 0., 0., 0., 0., 0., 0., 0., 0., 0., 0., 0., 0., 0., 0., 0.,\n",
              "       0., 0., 0., 0., 0., 0., 0., 0., 0., 0., 0., 0., 0., 0., 0., 0., 0.,\n",
              "       0., 0., 0., 0., 0., 0., 0., 0., 0., 0., 0., 0., 0., 0., 0., 0., 0.,\n",
              "       0., 0., 0., 0., 0., 0., 0., 0., 0., 0., 0., 0., 0., 0., 0., 0., 0.,\n",
              "       0., 0., 0., 0., 0., 0., 0., 0., 0., 0., 0., 0., 0., 0., 0., 0., 0.,\n",
              "       0., 0., 0., 0., 0., 0., 0., 0., 0., 0., 0.], dtype=float32)"
            ]
          },
          "metadata": {},
          "execution_count": 36
        }
      ]
    },
    {
      "cell_type": "code",
      "metadata": {
        "colab": {
          "base_uri": "https://localhost:8080/"
        },
        "id": "sYLXAPsGj3AV",
        "outputId": "efb6fdf6-d9cf-4130-b15a-d60ed38a27cd"
      },
      "source": [
        "biases.shape"
      ],
      "execution_count": 37,
      "outputs": [
        {
          "output_type": "execute_result",
          "data": {
            "text/plain": [
              "(300,)"
            ]
          },
          "metadata": {},
          "execution_count": 37
        }
      ]
    },
    {
      "cell_type": "markdown",
      "metadata": {
        "id": "TgJezKjOj3AW"
      },
      "source": [
        "Documentation - https://keras.io/models/sequential/"
      ]
    },
    {
      "cell_type": "markdown",
      "metadata": {
        "id": "Lov2DE4mj3AX"
      },
      "source": [
        "# 2. Compile Model"
      ]
    },
    {
      "cell_type": "markdown",
      "metadata": {
        "id": "xIbKff8jj3AY"
      },
      "source": [
        "# Model Compile is used to set up Learning Process such as Loss function, optimizer and metrics\n",
        "\n"
      ]
    },
    {
      "cell_type": "markdown",
      "metadata": {
        "id": "Ny3FinE-j3AY"
      },
      "source": [
        "Here loss is used as Sparse-Catgorical_crossentropy bcoz output y in form of labels. If output y is in form probabilities then used only categorical_crossentropy"
      ]
    },
    {
      "cell_type": "markdown",
      "metadata": {
        "id": "Ntr3opwRj3AZ"
      },
      "source": [
        "If output y is in binary 0 0r 1 or yes yes or no then use loss as binary_crossentropy"
      ]
    },
    {
      "cell_type": "markdown",
      "metadata": {
        "id": "ux3Udh36j3Aa"
      },
      "source": [
        "optimizer tells keras that perform back propogation"
      ]
    },
    {
      "cell_type": "code",
      "metadata": {
        "id": "Ke3WyjJDj3Ab"
      },
      "source": [
        "model.compile(loss=\"sparse_categorical_crossentropy\",\n",
        "              optimizer=\"sgd\",\n",
        "              metrics=[\"accuracy\"])"
      ],
      "execution_count": 38,
      "outputs": []
    },
    {
      "cell_type": "markdown",
      "metadata": {
        "id": "TUEEyhGkj3Ac"
      },
      "source": [
        "# 3. Fit Model/Training Model"
      ]
    },
    {
      "cell_type": "code",
      "metadata": {
        "colab": {
          "base_uri": "https://localhost:8080/"
        },
        "id": "czC9y2cAj3Ac",
        "outputId": "e9380924-f627-4165-8f3b-532ceefe836b"
      },
      "source": [
        "model_history = model.fit(X_train, y_train, epochs=30,\n",
        "                    validation_data=(X_valid, y_valid))"
      ],
      "execution_count": 39,
      "outputs": [
        {
          "output_type": "stream",
          "name": "stdout",
          "text": [
            "Epoch 1/30\n",
            "1719/1719 [==============================] - 8s 5ms/step - loss: 0.7237 - accuracy: 0.7643 - val_loss: 0.5213 - val_accuracy: 0.8226\n",
            "Epoch 2/30\n",
            "1719/1719 [==============================] - 8s 5ms/step - loss: 0.4842 - accuracy: 0.8318 - val_loss: 0.4353 - val_accuracy: 0.8526\n",
            "Epoch 3/30\n",
            "1719/1719 [==============================] - 7s 4ms/step - loss: 0.4391 - accuracy: 0.8457 - val_loss: 0.5333 - val_accuracy: 0.7988\n",
            "Epoch 4/30\n",
            "1719/1719 [==============================] - 7s 4ms/step - loss: 0.4123 - accuracy: 0.8564 - val_loss: 0.3916 - val_accuracy: 0.8650\n",
            "Epoch 5/30\n",
            "1719/1719 [==============================] - 7s 4ms/step - loss: 0.3939 - accuracy: 0.8616 - val_loss: 0.3741 - val_accuracy: 0.8698\n",
            "Epoch 6/30\n",
            "1719/1719 [==============================] - 7s 4ms/step - loss: 0.3751 - accuracy: 0.8678 - val_loss: 0.3706 - val_accuracy: 0.8726\n",
            "Epoch 7/30\n",
            "1719/1719 [==============================] - 7s 4ms/step - loss: 0.3630 - accuracy: 0.8715 - val_loss: 0.3621 - val_accuracy: 0.8726\n",
            "Epoch 8/30\n",
            "1719/1719 [==============================] - 7s 4ms/step - loss: 0.3515 - accuracy: 0.8752 - val_loss: 0.3855 - val_accuracy: 0.8626\n",
            "Epoch 9/30\n",
            "1719/1719 [==============================] - 7s 4ms/step - loss: 0.3413 - accuracy: 0.8792 - val_loss: 0.3575 - val_accuracy: 0.8718\n",
            "Epoch 10/30\n",
            "1719/1719 [==============================] - 7s 4ms/step - loss: 0.3318 - accuracy: 0.8822 - val_loss: 0.3423 - val_accuracy: 0.8774\n",
            "Epoch 11/30\n",
            "1719/1719 [==============================] - 7s 4ms/step - loss: 0.3238 - accuracy: 0.8838 - val_loss: 0.3449 - val_accuracy: 0.8776\n",
            "Epoch 12/30\n",
            "1719/1719 [==============================] - 7s 4ms/step - loss: 0.3147 - accuracy: 0.8867 - val_loss: 0.3306 - val_accuracy: 0.8808\n",
            "Epoch 13/30\n",
            "1719/1719 [==============================] - 7s 4ms/step - loss: 0.3078 - accuracy: 0.8894 - val_loss: 0.3265 - val_accuracy: 0.8880\n",
            "Epoch 14/30\n",
            "1719/1719 [==============================] - 7s 4ms/step - loss: 0.3019 - accuracy: 0.8915 - val_loss: 0.3422 - val_accuracy: 0.8774\n",
            "Epoch 15/30\n",
            "1719/1719 [==============================] - 7s 4ms/step - loss: 0.2944 - accuracy: 0.8938 - val_loss: 0.3224 - val_accuracy: 0.8858\n",
            "Epoch 16/30\n",
            "1719/1719 [==============================] - 7s 4ms/step - loss: 0.2888 - accuracy: 0.8970 - val_loss: 0.3093 - val_accuracy: 0.8902\n",
            "Epoch 17/30\n",
            "1719/1719 [==============================] - 7s 4ms/step - loss: 0.2835 - accuracy: 0.8981 - val_loss: 0.3549 - val_accuracy: 0.8734\n",
            "Epoch 18/30\n",
            "1719/1719 [==============================] - 7s 4ms/step - loss: 0.2775 - accuracy: 0.9001 - val_loss: 0.3128 - val_accuracy: 0.8900\n",
            "Epoch 19/30\n",
            "1719/1719 [==============================] - 7s 4ms/step - loss: 0.2726 - accuracy: 0.9025 - val_loss: 0.3123 - val_accuracy: 0.8912\n",
            "Epoch 20/30\n",
            "1719/1719 [==============================] - 7s 4ms/step - loss: 0.2672 - accuracy: 0.9037 - val_loss: 0.3289 - val_accuracy: 0.8808\n",
            "Epoch 21/30\n",
            "1719/1719 [==============================] - 7s 4ms/step - loss: 0.2621 - accuracy: 0.9059 - val_loss: 0.3074 - val_accuracy: 0.8920\n",
            "Epoch 22/30\n",
            "1719/1719 [==============================] - 7s 4ms/step - loss: 0.2575 - accuracy: 0.9075 - val_loss: 0.2955 - val_accuracy: 0.8972\n",
            "Epoch 23/30\n",
            "1719/1719 [==============================] - 7s 4ms/step - loss: 0.2533 - accuracy: 0.9084 - val_loss: 0.2995 - val_accuracy: 0.8938\n",
            "Epoch 24/30\n",
            "1719/1719 [==============================] - 8s 5ms/step - loss: 0.2482 - accuracy: 0.9100 - val_loss: 0.3089 - val_accuracy: 0.8878\n",
            "Epoch 25/30\n",
            "1719/1719 [==============================] - 8s 5ms/step - loss: 0.2441 - accuracy: 0.9124 - val_loss: 0.2975 - val_accuracy: 0.8950\n",
            "Epoch 26/30\n",
            "1719/1719 [==============================] - 7s 4ms/step - loss: 0.2403 - accuracy: 0.9137 - val_loss: 0.3066 - val_accuracy: 0.8910\n",
            "Epoch 27/30\n",
            "1719/1719 [==============================] - 7s 4ms/step - loss: 0.2361 - accuracy: 0.9155 - val_loss: 0.3025 - val_accuracy: 0.8958\n",
            "Epoch 28/30\n",
            "1719/1719 [==============================] - 7s 4ms/step - loss: 0.2326 - accuracy: 0.9166 - val_loss: 0.2996 - val_accuracy: 0.8946\n",
            "Epoch 29/30\n",
            "1719/1719 [==============================] - 7s 4ms/step - loss: 0.2282 - accuracy: 0.9189 - val_loss: 0.3055 - val_accuracy: 0.8906\n",
            "Epoch 30/30\n",
            "1719/1719 [==============================] - 7s 4ms/step - loss: 0.2247 - accuracy: 0.9199 - val_loss: 0.3026 - val_accuracy: 0.8928\n"
          ]
        }
      ]
    },
    {
      "cell_type": "code",
      "metadata": {
        "colab": {
          "base_uri": "https://localhost:8080/"
        },
        "id": "Xgy8Tc0Fj3Ae",
        "outputId": "20d9740e-3b54-4433-f164-2d885226ba77"
      },
      "source": [
        "model_history.params"
      ],
      "execution_count": 40,
      "outputs": [
        {
          "output_type": "execute_result",
          "data": {
            "text/plain": [
              "{'epochs': 30, 'steps': 1719, 'verbose': 1}"
            ]
          },
          "metadata": {},
          "execution_count": 40
        }
      ]
    },
    {
      "cell_type": "code",
      "metadata": {
        "colab": {
          "base_uri": "https://localhost:8080/"
        },
        "id": "_UNO-blGj3Af",
        "outputId": "0d53ef71-89c8-447f-f44d-6101464b549e"
      },
      "source": [
        "model_history.history"
      ],
      "execution_count": 41,
      "outputs": [
        {
          "output_type": "execute_result",
          "data": {
            "text/plain": [
              "{'accuracy': [0.7643091082572937,\n",
              "  0.831781804561615,\n",
              "  0.8456545472145081,\n",
              "  0.8563636541366577,\n",
              "  0.8616363406181335,\n",
              "  0.8677818179130554,\n",
              "  0.8715272545814514,\n",
              "  0.8752181529998779,\n",
              "  0.8791999816894531,\n",
              "  0.8822181820869446,\n",
              "  0.8838000297546387,\n",
              "  0.8866727352142334,\n",
              "  0.8893818259239197,\n",
              "  0.8915091156959534,\n",
              "  0.8938363790512085,\n",
              "  0.8969636559486389,\n",
              "  0.8981454372406006,\n",
              "  0.9000727534294128,\n",
              "  0.902472734451294,\n",
              "  0.9037272930145264,\n",
              "  0.9059090614318848,\n",
              "  0.9075272679328918,\n",
              "  0.9083636403083801,\n",
              "  0.9100000262260437,\n",
              "  0.9124181866645813,\n",
              "  0.9137272834777832,\n",
              "  0.9154909253120422,\n",
              "  0.9166363477706909,\n",
              "  0.9188545346260071,\n",
              "  0.9198727011680603],\n",
              " 'loss': [0.7237029075622559,\n",
              "  0.484192818403244,\n",
              "  0.43905338644981384,\n",
              "  0.41231462359428406,\n",
              "  0.3939222991466522,\n",
              "  0.3750678300857544,\n",
              "  0.3630312979221344,\n",
              "  0.35152509808540344,\n",
              "  0.3412765860557556,\n",
              "  0.3317754566669464,\n",
              "  0.3238329291343689,\n",
              "  0.3146835267543793,\n",
              "  0.30778029561042786,\n",
              "  0.30192798376083374,\n",
              "  0.2943917214870453,\n",
              "  0.28883519768714905,\n",
              "  0.2835114002227783,\n",
              "  0.27753812074661255,\n",
              "  0.2725583016872406,\n",
              "  0.26720917224884033,\n",
              "  0.26212015748023987,\n",
              "  0.2575129568576813,\n",
              "  0.2533215880393982,\n",
              "  0.2481880486011505,\n",
              "  0.24413396418094635,\n",
              "  0.24030040204524994,\n",
              "  0.2361241728067398,\n",
              "  0.23258234560489655,\n",
              "  0.22820375859737396,\n",
              "  0.22473183274269104],\n",
              " 'val_accuracy': [0.8226000070571899,\n",
              "  0.8525999784469604,\n",
              "  0.798799991607666,\n",
              "  0.8650000095367432,\n",
              "  0.8697999715805054,\n",
              "  0.8726000189781189,\n",
              "  0.8726000189781189,\n",
              "  0.8626000285148621,\n",
              "  0.8718000054359436,\n",
              "  0.8773999810218811,\n",
              "  0.8776000142097473,\n",
              "  0.8808000087738037,\n",
              "  0.8880000114440918,\n",
              "  0.8773999810218811,\n",
              "  0.8858000040054321,\n",
              "  0.8902000188827515,\n",
              "  0.8733999729156494,\n",
              "  0.8899999856948853,\n",
              "  0.8912000060081482,\n",
              "  0.8808000087738037,\n",
              "  0.8920000195503235,\n",
              "  0.8971999883651733,\n",
              "  0.8938000202178955,\n",
              "  0.8877999782562256,\n",
              "  0.8949999809265137,\n",
              "  0.890999972820282,\n",
              "  0.895799994468689,\n",
              "  0.894599974155426,\n",
              "  0.8906000256538391,\n",
              "  0.892799973487854],\n",
              " 'val_loss': [0.5213177800178528,\n",
              "  0.4353218674659729,\n",
              "  0.5333406329154968,\n",
              "  0.3916124105453491,\n",
              "  0.3740810751914978,\n",
              "  0.3706005811691284,\n",
              "  0.3620573878288269,\n",
              "  0.38551998138427734,\n",
              "  0.35746830701828003,\n",
              "  0.34233367443084717,\n",
              "  0.34490248560905457,\n",
              "  0.3305920362472534,\n",
              "  0.32650965452194214,\n",
              "  0.3421776294708252,\n",
              "  0.3224159777164459,\n",
              "  0.3092650771141052,\n",
              "  0.3549402952194214,\n",
              "  0.31275853514671326,\n",
              "  0.3123112618923187,\n",
              "  0.3288777768611908,\n",
              "  0.3074253797531128,\n",
              "  0.29546183347702026,\n",
              "  0.2995152473449707,\n",
              "  0.30886930227279663,\n",
              "  0.2975446879863739,\n",
              "  0.3065853416919708,\n",
              "  0.3024672269821167,\n",
              "  0.2996077835559845,\n",
              "  0.3055015504360199,\n",
              "  0.3026241064071655]}"
            ]
          },
          "metadata": {},
          "execution_count": 41
        }
      ]
    },
    {
      "cell_type": "code",
      "metadata": {
        "colab": {
          "base_uri": "https://localhost:8080/",
          "height": 324
        },
        "id": "LkY3WyRaj3Ah",
        "outputId": "a87f8f24-5866-496a-beac-04830c955fe0"
      },
      "source": [
        "import pandas as pd\n",
        "\n",
        "pd.DataFrame(model_history.history).plot(figsize=(8, 5))\n",
        "plt.grid(True)\n",
        "plt.gca().set_ylim(0, 1)\n",
        "plt.show()"
      ],
      "execution_count": 42,
      "outputs": [
        {
          "output_type": "display_data",
          "data": {
            "text/plain": [
              "<Figure size 576x360 with 1 Axes>"
            ],
            "image/png": "[encoded data removed]"
          },
          "metadata": {
            "needs_background": "light"
          }
        }
      ]
    },
    {
      "cell_type": "markdown",
      "metadata": {
        "id": "eSW1rzKCj3Ai"
      },
      "source": [
        "# 4. Evaluate Model"
      ]
    },
    {
      "cell_type": "code",
      "metadata": {
        "colab": {
          "base_uri": "https://localhost:8080/"
        },
        "id": "tHcc9G_gj3Aj",
        "outputId": "bd4f7708-6e71-40fc-81fb-f14927826e43"
      },
      "source": [
        "model.evaluate(X_test, y_test)"
      ],
      "execution_count": 43,
      "outputs": [
        {
          "output_type": "stream",
          "name": "stdout",
          "text": [
            "313/313 [==============================] - 1s 2ms/step - loss: 0.3366 - accuracy: 0.8820\n"
          ]
        },
        {
          "output_type": "execute_result",
          "data": {
            "text/plain": [
              "[0.3366333842277527, 0.8820000290870667]"
            ]
          },
          "metadata": {},
          "execution_count": 43
        }
      ]
    },
    {
      "cell_type": "markdown",
      "metadata": {
        "id": "eex77rpPj3Al"
      },
      "source": [
        "# 5. Prediction"
      ]
    },
    {
      "cell_type": "code",
      "metadata": {
        "id": "f0xXuX-fj3Am"
      },
      "source": [
        "X_new = X_test[:3]"
      ],
      "execution_count": 44,
      "outputs": []
    },
    {
      "cell_type": "code",
      "metadata": {
        "colab": {
          "base_uri": "https://localhost:8080/"
        },
        "id": "yuHv1MlWj3An",
        "outputId": "af26e7db-6d21-402f-893a-b56189e92511"
      },
      "source": [
        "y_proba = model.predict(X_new)\n",
        "y_proba.round(2)"
      ],
      "execution_count": 45,
      "outputs": [
        {
          "output_type": "execute_result",
          "data": {
            "text/plain": [
              "array([[0.  , 0.  , 0.  , 0.  , 0.  , 0.01, 0.  , 0.03, 0.  , 0.96],\n",
              "       [0.  , 0.  , 0.99, 0.  , 0.01, 0.  , 0.  , 0.  , 0.  , 0.  ],\n",
              "       [0.  , 1.  , 0.  , 0.  , 0.  , 0.  , 0.  , 0.  , 0.  , 0.  ]],\n",
              "      dtype=float32)"
            ]
          },
          "metadata": {},
          "execution_count": 45
        }
      ]
    },
    {
      "cell_type": "code",
      "source": [
        "y_pred = model.predict(X_new)\n",
        "y_pred = np.round(y_pred).astype(int)\n",
        "y_pred"
      ],
      "metadata": {
        "colab": {
          "base_uri": "https://localhost:8080/"
        },
        "id": "QrVfZr083kNb",
        "outputId": "2c6c4ab2-ae84-4d1f-f01d-0698a5a39a32"
      },
      "execution_count": 48,
      "outputs": [
        {
          "output_type": "execute_result",
          "data": {
            "text/plain": [
              "array([[0, 0, 0, 0, 0, 0, 0, 0, 0, 1],\n",
              "       [0, 0, 1, 0, 0, 0, 0, 0, 0, 0],\n",
              "       [0, 1, 0, 0, 0, 0, 0, 0, 0, 0]])"
            ]
          },
          "metadata": {},
          "execution_count": 48
        }
      ]
    },
    {
      "cell_type": "code",
      "metadata": {
        "colab": {
          "base_uri": "https://localhost:8080/"
        },
        "id": "d3Go_jlcj3Aq",
        "outputId": "f17c3e88-26a6-46cf-9230-759def0516d8"
      },
      "source": [
        "np.array(class_names)[y_pred]"
      ],
      "execution_count": 49,
      "outputs": [
        {
          "output_type": "execute_result",
          "data": {
            "text/plain": [
              "array([['T-shirt/top', 'T-shirt/top', 'T-shirt/top', 'T-shirt/top',\n",
              "        'T-shirt/top', 'T-shirt/top', 'T-shirt/top', 'T-shirt/top',\n",
              "        'T-shirt/top', 'Trouser'],\n",
              "       ['T-shirt/top', 'T-shirt/top', 'Trouser', 'T-shirt/top',\n",
              "        'T-shirt/top', 'T-shirt/top', 'T-shirt/top', 'T-shirt/top',\n",
              "        'T-shirt/top', 'T-shirt/top'],\n",
              "       ['T-shirt/top', 'Trouser', 'T-shirt/top', 'T-shirt/top',\n",
              "        'T-shirt/top', 'T-shirt/top', 'T-shirt/top', 'T-shirt/top',\n",
              "        'T-shirt/top', 'T-shirt/top']], dtype='<U11')"
            ]
          },
          "metadata": {},
          "execution_count": 49
        }
      ]
    },
    {
      "cell_type": "code",
      "metadata": {
        "colab": {
          "base_uri": "https://localhost:8080/",
          "height": 282
        },
        "id": "VSGg-0Yij3Ar",
        "outputId": "8de811b5-6dcf-4e37-ae37-1722535b89ee"
      },
      "source": [
        "print(plt.imshow(X_test[0]))"
      ],
      "execution_count": 50,
      "outputs": [
        {
          "output_type": "stream",
          "name": "stdout",
          "text": [
            "AxesImage(54,36;334.8x217.44)\n"
          ]
        },
        {
          "output_type": "display_data",
          "data": {
            "text/plain": [
              "<Figure size 432x288 with 1 Axes>"
            ],
            "image/png": "[encoded data removed]"
          },
          "metadata": {
            "needs_background": "light"
          }
        }
      ]
    },
    {
      "cell_type": "code",
      "metadata": {
        "colab": {
          "base_uri": "https://localhost:8080/",
          "height": 282
        },
        "id": "-vMXbmSnj3At",
        "outputId": "336fcde2-6ab7-4163-ee60-cad57be19b7d"
      },
      "source": [
        "print(plt.imshow(X_test[1]))"
      ],
      "execution_count": 51,
      "outputs": [
        {
          "output_type": "stream",
          "name": "stdout",
          "text": [
            "AxesImage(54,36;334.8x217.44)\n"
          ]
        },
        {
          "output_type": "display_data",
          "data": {
            "text/plain": [
              "<Figure size 432x288 with 1 Axes>"
            ],
            "image/png": "[encoded data removed]"
          },
          "metadata": {
            "needs_background": "light"
          }
        }
      ]
    },
    {
      "cell_type": "code",
      "metadata": {
        "colab": {
          "base_uri": "https://localhost:8080/",
          "height": 282
        },
        "id": "jxXPA9Tjj3Au",
        "outputId": "3bd5b8f9-814b-40a3-eff6-ab3192d3a686"
      },
      "source": [
        "print(plt.imshow(X_test[2]))"
      ],
      "execution_count": 52,
      "outputs": [
        {
          "output_type": "stream",
          "name": "stdout",
          "text": [
            "AxesImage(54,36;334.8x217.44)\n"
          ]
        },
        {
          "output_type": "display_data",
          "data": {
            "text/plain": [
              "<Figure size 432x288 with 1 Axes>"
            ],
            "image/png": "[encoded data removed]"
          },
          "metadata": {
            "needs_background": "light"
          }
        }
      ]
    },
    {
      "cell_type": "markdown",
      "source": [
        "# Batch Normalisation and Dropout"
      ],
      "metadata": {
        "id": "DaK7bMpw24au"
      }
    },
    {
      "cell_type": "code",
      "metadata": {
        "id": "iBknWkOYj3Ax"
      },
      "source": [
        "model = keras.models.Sequential()\n",
        "model.add(keras.layers.Flatten(input_shape=[28, 28]))\n",
        "model.add(keras.layers.Dense(300, activation=\"relu\"))\n",
        "model.add(BatchNormalization())\n",
        "model.add(Dropout(0.5))\n",
        "model.add(keras.layers.Dense(100, activation=\"relu\"))\n",
        "model.add(keras.layers.Dense(10, activation=\"softmax\"))"
      ],
      "execution_count": 60,
      "outputs": []
    },
    {
      "cell_type": "code",
      "source": [
        "model.compile(loss=\"sparse_categorical_crossentropy\",\n",
        "              optimizer=\"sgd\",\n",
        "              metrics=[\"accuracy\"])"
      ],
      "metadata": {
        "id": "Ja7ZQOWn4tOh"
      },
      "execution_count": 61,
      "outputs": []
    },
    {
      "cell_type": "code",
      "source": [
        "model_history = model.fit(X_train, y_train, epochs=30,\n",
        "                    validation_data=(X_valid, y_valid))"
      ],
      "metadata": {
        "colab": {
          "base_uri": "https://localhost:8080/"
        },
        "id": "_ysqrWvs5Z4n",
        "outputId": "415e5463-5501-4704-905f-705a7b84c864"
      },
      "execution_count": 62,
      "outputs": [
        {
          "output_type": "stream",
          "name": "stdout",
          "text": [
            "Epoch 1/30\n",
            "1719/1719 [==============================] - 9s 5ms/step - loss: 0.6597 - accuracy: 0.7657 - val_loss: 0.4139 - val_accuracy: 0.8544\n",
            "Epoch 2/30\n",
            "1719/1719 [==============================] - 8s 5ms/step - loss: 0.4961 - accuracy: 0.8207 - val_loss: 0.3773 - val_accuracy: 0.8656\n",
            "Epoch 3/30\n",
            "1719/1719 [==============================] - 11s 6ms/step - loss: 0.4550 - accuracy: 0.8355 - val_loss: 0.3897 - val_accuracy: 0.8538\n",
            "Epoch 4/30\n",
            "1719/1719 [==============================] - 8s 5ms/step - loss: 0.4282 - accuracy: 0.8447 - val_loss: 0.3512 - val_accuracy: 0.8754\n",
            "Epoch 5/30\n",
            "1719/1719 [==============================] - 9s 5ms/step - loss: 0.4098 - accuracy: 0.8506 - val_loss: 0.3489 - val_accuracy: 0.8724\n",
            "Epoch 6/30\n",
            "1719/1719 [==============================] - 8s 5ms/step - loss: 0.3965 - accuracy: 0.8545 - val_loss: 0.3330 - val_accuracy: 0.8804\n",
            "Epoch 7/30\n",
            "1719/1719 [==============================] - 8s 5ms/step - loss: 0.3839 - accuracy: 0.8609 - val_loss: 0.3290 - val_accuracy: 0.8798\n",
            "Epoch 8/30\n",
            "1719/1719 [==============================] - 8s 5ms/step - loss: 0.3728 - accuracy: 0.8644 - val_loss: 0.3232 - val_accuracy: 0.8832\n",
            "Epoch 9/30\n",
            "1719/1719 [==============================] - 8s 5ms/step - loss: 0.3695 - accuracy: 0.8652 - val_loss: 0.3166 - val_accuracy: 0.8838\n",
            "Epoch 10/30\n",
            "1719/1719 [==============================] - 8s 5ms/step - loss: 0.3595 - accuracy: 0.8709 - val_loss: 0.3185 - val_accuracy: 0.8836\n",
            "Epoch 11/30\n",
            "1719/1719 [==============================] - 8s 5ms/step - loss: 0.3565 - accuracy: 0.8690 - val_loss: 0.3140 - val_accuracy: 0.8852\n",
            "Epoch 12/30\n",
            "1719/1719 [==============================] - 8s 5ms/step - loss: 0.3473 - accuracy: 0.8728 - val_loss: 0.3225 - val_accuracy: 0.8792\n",
            "Epoch 13/30\n",
            "1719/1719 [==============================] - 9s 5ms/step - loss: 0.3452 - accuracy: 0.8727 - val_loss: 0.3060 - val_accuracy: 0.8906\n",
            "Epoch 14/30\n",
            "1719/1719 [==============================] - 8s 5ms/step - loss: 0.3382 - accuracy: 0.8748 - val_loss: 0.3071 - val_accuracy: 0.8916\n",
            "Epoch 15/30\n",
            "1719/1719 [==============================] - 9s 5ms/step - loss: 0.3351 - accuracy: 0.8765 - val_loss: 0.3047 - val_accuracy: 0.8872\n",
            "Epoch 16/30\n",
            "1719/1719 [==============================] - 8s 5ms/step - loss: 0.3302 - accuracy: 0.8782 - val_loss: 0.2935 - val_accuracy: 0.8920\n",
            "Epoch 17/30\n",
            "1719/1719 [==============================] - 8s 5ms/step - loss: 0.3225 - accuracy: 0.8797 - val_loss: 0.3069 - val_accuracy: 0.8892\n",
            "Epoch 18/30\n",
            "1719/1719 [==============================] - 8s 5ms/step - loss: 0.3220 - accuracy: 0.8811 - val_loss: 0.3077 - val_accuracy: 0.8922\n",
            "Epoch 19/30\n",
            "1719/1719 [==============================] - 8s 5ms/step - loss: 0.3194 - accuracy: 0.8829 - val_loss: 0.3026 - val_accuracy: 0.8890\n",
            "Epoch 20/30\n",
            "1719/1719 [==============================] - 9s 5ms/step - loss: 0.3118 - accuracy: 0.8854 - val_loss: 0.2997 - val_accuracy: 0.8894\n",
            "Epoch 21/30\n",
            "1719/1719 [==============================] - 9s 5ms/step - loss: 0.3111 - accuracy: 0.8849 - val_loss: 0.2982 - val_accuracy: 0.8940\n",
            "Epoch 22/30\n",
            "1719/1719 [==============================] - 8s 5ms/step - loss: 0.3085 - accuracy: 0.8852 - val_loss: 0.2944 - val_accuracy: 0.8936\n",
            "Epoch 23/30\n",
            "1719/1719 [==============================] - 8s 5ms/step - loss: 0.3107 - accuracy: 0.8853 - val_loss: 0.2910 - val_accuracy: 0.8918\n",
            "Epoch 24/30\n",
            "1719/1719 [==============================] - 8s 5ms/step - loss: 0.3033 - accuracy: 0.8891 - val_loss: 0.2932 - val_accuracy: 0.8878\n",
            "Epoch 25/30\n",
            "1719/1719 [==============================] - 8s 5ms/step - loss: 0.3016 - accuracy: 0.8879 - val_loss: 0.2973 - val_accuracy: 0.8924\n",
            "Epoch 26/30\n",
            "1719/1719 [==============================] - 8s 5ms/step - loss: 0.2954 - accuracy: 0.8908 - val_loss: 0.2886 - val_accuracy: 0.8966\n",
            "Epoch 27/30\n",
            "1719/1719 [==============================] - 8s 5ms/step - loss: 0.2978 - accuracy: 0.8894 - val_loss: 0.2860 - val_accuracy: 0.8962\n",
            "Epoch 28/30\n",
            "1719/1719 [==============================] - 8s 5ms/step - loss: 0.2933 - accuracy: 0.8913 - val_loss: 0.2877 - val_accuracy: 0.8936\n",
            "Epoch 29/30\n",
            "1719/1719 [==============================] - 8s 5ms/step - loss: 0.2889 - accuracy: 0.8923 - val_loss: 0.2906 - val_accuracy: 0.8926\n",
            "Epoch 30/30\n",
            "1719/1719 [==============================] - 8s 5ms/step - loss: 0.2894 - accuracy: 0.8928 - val_loss: 0.2919 - val_accuracy: 0.8918\n"
          ]
        }
      ]
    },
    {
      "cell_type": "code",
      "source": [
        "model_history.params"
      ],
      "metadata": {
        "colab": {
          "base_uri": "https://localhost:8080/"
        },
        "id": "kG-_Ltsb5eMQ",
        "outputId": "2e4d7968-e5a8-4d1b-b69f-aaa793a899e1"
      },
      "execution_count": 63,
      "outputs": [
        {
          "output_type": "execute_result",
          "data": {
            "text/plain": [
              "{'epochs': 30, 'steps': 1719, 'verbose': 1}"
            ]
          },
          "metadata": {},
          "execution_count": 63
        }
      ]
    },
    {
      "cell_type": "code",
      "source": [
        "model_history.history"
      ],
      "metadata": {
        "colab": {
          "base_uri": "https://localhost:8080/"
        },
        "id": "U34VHcCM5jfJ",
        "outputId": "4f7bdb37-c59c-4b1b-c554-55461cc90c68"
      },
      "execution_count": 64,
      "outputs": [
        {
          "output_type": "execute_result",
          "data": {
            "text/plain": [
              "{'accuracy': [0.7656909227371216,\n",
              "  0.8207091093063354,\n",
              "  0.8355454802513123,\n",
              "  0.8447090983390808,\n",
              "  0.8505818247795105,\n",
              "  0.8545272946357727,\n",
              "  0.860945463180542,\n",
              "  0.8643817901611328,\n",
              "  0.8651636242866516,\n",
              "  0.8708727359771729,\n",
              "  0.8690363764762878,\n",
              "  0.8727818131446838,\n",
              "  0.8726545572280884,\n",
              "  0.8748000264167786,\n",
              "  0.8765272498130798,\n",
              "  0.8781636357307434,\n",
              "  0.8797272443771362,\n",
              "  0.8810727000236511,\n",
              "  0.8828545212745667,\n",
              "  0.8853636384010315,\n",
              "  0.8849272727966309,\n",
              "  0.8852182030677795,\n",
              "  0.8852909207344055,\n",
              "  0.8891454339027405,\n",
              "  0.8878909349441528,\n",
              "  0.8907636404037476,\n",
              "  0.8893636465072632,\n",
              "  0.8912727236747742,\n",
              "  0.8923272490501404,\n",
              "  0.8927817940711975],\n",
              " 'loss': [0.6596782803535461,\n",
              "  0.4961402714252472,\n",
              "  0.45504090189933777,\n",
              "  0.42819082736968994,\n",
              "  0.4098037779331207,\n",
              "  0.3965199291706085,\n",
              "  0.3839183449745178,\n",
              "  0.3728318512439728,\n",
              "  0.369479238986969,\n",
              "  0.35951516032218933,\n",
              "  0.35647425055503845,\n",
              "  0.3473069369792938,\n",
              "  0.34524253010749817,\n",
              "  0.33815065026283264,\n",
              "  0.3350513279438019,\n",
              "  0.3301607370376587,\n",
              "  0.3225299119949341,\n",
              "  0.321958065032959,\n",
              "  0.31936150789260864,\n",
              "  0.3117794692516327,\n",
              "  0.3110809624195099,\n",
              "  0.3085123896598816,\n",
              "  0.310691237449646,\n",
              "  0.303276926279068,\n",
              "  0.30161598324775696,\n",
              "  0.29541724920272827,\n",
              "  0.29783862829208374,\n",
              "  0.29326510429382324,\n",
              "  0.2889074683189392,\n",
              "  0.28940263390541077],\n",
              " 'val_accuracy': [0.8543999791145325,\n",
              "  0.8655999898910522,\n",
              "  0.8537999987602234,\n",
              "  0.8754000067710876,\n",
              "  0.8723999857902527,\n",
              "  0.8804000020027161,\n",
              "  0.879800021648407,\n",
              "  0.8831999897956848,\n",
              "  0.8838000297546387,\n",
              "  0.8835999965667725,\n",
              "  0.885200023651123,\n",
              "  0.8791999816894531,\n",
              "  0.8906000256538391,\n",
              "  0.8916000127792358,\n",
              "  0.8871999979019165,\n",
              "  0.8920000195503235,\n",
              "  0.88919997215271,\n",
              "  0.8921999931335449,\n",
              "  0.8889999985694885,\n",
              "  0.8894000053405762,\n",
              "  0.8939999938011169,\n",
              "  0.8935999870300293,\n",
              "  0.8917999863624573,\n",
              "  0.8877999782562256,\n",
              "  0.8924000263214111,\n",
              "  0.8966000080108643,\n",
              "  0.8962000012397766,\n",
              "  0.8935999870300293,\n",
              "  0.8925999999046326,\n",
              "  0.8917999863624573],\n",
              " 'val_loss': [0.4138527810573578,\n",
              "  0.37734073400497437,\n",
              "  0.38968780636787415,\n",
              "  0.3512457311153412,\n",
              "  0.3489014506340027,\n",
              "  0.3329565227031708,\n",
              "  0.32898885011672974,\n",
              "  0.3231641352176666,\n",
              "  0.3166171908378601,\n",
              "  0.3184919059276581,\n",
              "  0.3140470087528229,\n",
              "  0.3224833011627197,\n",
              "  0.30604463815689087,\n",
              "  0.3071195185184479,\n",
              "  0.30468714237213135,\n",
              "  0.29353848099708557,\n",
              "  0.30685529112815857,\n",
              "  0.30772826075553894,\n",
              "  0.30255845189094543,\n",
              "  0.2996861934661865,\n",
              "  0.2982167601585388,\n",
              "  0.2943911552429199,\n",
              "  0.2910066545009613,\n",
              "  0.29318711161613464,\n",
              "  0.2973320782184601,\n",
              "  0.2885744273662567,\n",
              "  0.2859973609447479,\n",
              "  0.2876856029033661,\n",
              "  0.29059866070747375,\n",
              "  0.29187771677970886]}"
            ]
          },
          "metadata": {},
          "execution_count": 64
        }
      ]
    },
    {
      "cell_type": "code",
      "source": [
        "import pandas as pd\n",
        "\n",
        "pd.DataFrame(model_history.history).plot(figsize=(8, 5))\n",
        "plt.grid(True)\n",
        "plt.gca().set_ylim(0, 1)\n",
        "plt.show()"
      ],
      "metadata": {
        "colab": {
          "base_uri": "https://localhost:8080/",
          "height": 324
        },
        "id": "gzLUtWn55ji4",
        "outputId": "302963a2-a391-4b6d-e55b-73a6e5ea18de"
      },
      "execution_count": 65,
      "outputs": [
        {
          "output_type": "display_data",
          "data": {
            "text/plain": [
              "<Figure size 576x360 with 1 Axes>"
            ],
            "image/png": "[encoded data removed]"
          },
          "metadata": {
            "needs_background": "light"
          }
        }
      ]
    },
    {
      "cell_type": "code",
      "source": [
        "model.evaluate(X_test, y_test)"
      ],
      "metadata": {
        "colab": {
          "base_uri": "https://localhost:8080/"
        },
        "id": "uNlmKErQ5jm1",
        "outputId": "155e4657-7323-4e36-a8a7-16ef2b4bd1a4"
      },
      "execution_count": 66,
      "outputs": [
        {
          "output_type": "stream",
          "name": "stdout",
          "text": [
            "313/313 [==============================] - 1s 2ms/step - loss: 0.3236 - accuracy: 0.8843\n"
          ]
        },
        {
          "output_type": "execute_result",
          "data": {
            "text/plain": [
              "[0.3235678970813751, 0.8842999935150146]"
            ]
          },
          "metadata": {},
          "execution_count": 66
        }
      ]
    },
    {
      "cell_type": "code",
      "source": [
        "X_new = X_test[:3]"
      ],
      "metadata": {
        "id": "RHFJC-PV5yH7"
      },
      "execution_count": 67,
      "outputs": []
    },
    {
      "cell_type": "code",
      "source": [
        "y_proba = model.predict(X_new)\n",
        "y_proba.round(2)"
      ],
      "metadata": {
        "colab": {
          "base_uri": "https://localhost:8080/"
        },
        "id": "HES3hcYe5yLt",
        "outputId": "ea9c0eab-80c5-4228-ca97-3bb9af1f425c"
      },
      "execution_count": 68,
      "outputs": [
        {
          "output_type": "execute_result",
          "data": {
            "text/plain": [
              "array([[0.  , 0.  , 0.  , 0.  , 0.  , 0.  , 0.  , 0.  , 0.  , 0.99],\n",
              "       [0.  , 0.  , 0.99, 0.  , 0.01, 0.  , 0.  , 0.  , 0.  , 0.  ],\n",
              "       [0.  , 1.  , 0.  , 0.  , 0.  , 0.  , 0.  , 0.  , 0.  , 0.  ]],\n",
              "      dtype=float32)"
            ]
          },
          "metadata": {},
          "execution_count": 68
        }
      ]
    },
    {
      "cell_type": "code",
      "source": [
        "y_pred = model.predict(X_new)\n",
        "y_pred = np.round(y_pred).astype(int)\n",
        "y_pred"
      ],
      "metadata": {
        "colab": {
          "base_uri": "https://localhost:8080/"
        },
        "id": "fqGeL10D5yPL",
        "outputId": "d872cc9e-a2b3-4004-c7eb-22ee2bb992ce"
      },
      "execution_count": 69,
      "outputs": [
        {
          "output_type": "execute_result",
          "data": {
            "text/plain": [
              "array([[0, 0, 0, 0, 0, 0, 0, 0, 0, 1],\n",
              "       [0, 0, 1, 0, 0, 0, 0, 0, 0, 0],\n",
              "       [0, 1, 0, 0, 0, 0, 0, 0, 0, 0]])"
            ]
          },
          "metadata": {},
          "execution_count": 69
        }
      ]
    },
    {
      "cell_type": "code",
      "source": [
        "np.array(class_names)[y_pred]"
      ],
      "metadata": {
        "colab": {
          "base_uri": "https://localhost:8080/"
        },
        "id": "dc3rC4RM6G6h",
        "outputId": "99499b4c-d6ef-4065-fcac-6605058744b2"
      },
      "execution_count": 70,
      "outputs": [
        {
          "output_type": "execute_result",
          "data": {
            "text/plain": [
              "array([['T-shirt/top', 'T-shirt/top', 'T-shirt/top', 'T-shirt/top',\n",
              "        'T-shirt/top', 'T-shirt/top', 'T-shirt/top', 'T-shirt/top',\n",
              "        'T-shirt/top', 'Trouser'],\n",
              "       ['T-shirt/top', 'T-shirt/top', 'Trouser', 'T-shirt/top',\n",
              "        'T-shirt/top', 'T-shirt/top', 'T-shirt/top', 'T-shirt/top',\n",
              "        'T-shirt/top', 'T-shirt/top'],\n",
              "       ['T-shirt/top', 'Trouser', 'T-shirt/top', 'T-shirt/top',\n",
              "        'T-shirt/top', 'T-shirt/top', 'T-shirt/top', 'T-shirt/top',\n",
              "        'T-shirt/top', 'T-shirt/top']], dtype='<U11')"
            ]
          },
          "metadata": {},
          "execution_count": 70
        }
      ]
    },
    {
      "cell_type": "code",
      "source": [
        ""
      ],
      "metadata": {
        "id": "-Gf5Oek46lhu"
      },
      "execution_count": null,
      "outputs": []
    }
  ]
}