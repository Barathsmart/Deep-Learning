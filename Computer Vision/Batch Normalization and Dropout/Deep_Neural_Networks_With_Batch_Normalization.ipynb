{
  "nbformat": 4,
  "nbformat_minor": 0,
  "metadata": {
    "colab": {
      "name": "Deep Neural Networks With Batch Normalization.ipynb",
      "provenance": [],
      "collapsed_sections": []
    },
    "kernelspec": {
      "name": "python3",
      "display_name": "Python 3"
    },
    "language_info": {
      "name": "python"
    }
  },
  "cells": [
    {
      "cell_type": "code",
      "execution_count": null,
      "metadata": {
        "id": "SX_6Uq3XkOEK"
      },
      "outputs": [],
      "source": [
        ""
      ]
    },
    {
      "cell_type": "markdown",
      "source": [
        "# **This tutorial is divided into three parts; they are:**\n",
        "\n",
        "1. BatchNormalization in Keras\n",
        "\n",
        "\n",
        "2. BatchNormalization in Models\n",
        "\n",
        "\n",
        "3. BatchNormalization Case Study"
      ],
      "metadata": {
        "id": "NHdfpq79kSzX"
      }
    },
    {
      "cell_type": "markdown",
      "source": [
        "# BatchNormalization in Keras\n"
      ],
      "metadata": {
        "id": "-mSycgSykjNW"
      }
    },
    {
      "cell_type": "markdown",
      "source": [
        "Keras provides support for batch normalization via the BatchNormalization layer.\n",
        "\n",
        "For example:\n",
        "\n",
        "bn = BatchNormalization()"
      ],
      "metadata": {
        "id": "cZgyy28ekp4m"
      }
    },
    {
      "cell_type": "markdown",
      "source": [
        "1. The layer will transform inputs so that they are standardized, meaning that they will have a mean of zero and a standard deviation of one.\n",
        "\n",
        "2. During training, the layer will keep track of statistics for each input variable and use them to standardize the data.\n",
        "\n",
        "3. Further, the standardized output can be scaled using the learned parameters of Beta and Gamma that define the new mean and standard deviation for the output of the transform. The layer can be configured to control whether these additional parameters will be used or not via the “center” and “scale” attributes respectively. By default, they are enabled.\n",
        "\n",
        "4. The statistics used to perform the standardization, e.g. the mean and standard deviation of each variable, are updated for each mini batch and a running average is maintained.\n",
        "\n",
        "5. A “momentum” argument allows you to control how much of the statistics from the previous mini batch to include when the update is calculated. By default, this is kept high with a value of 0.99. This can be set to 0.0 to only use statistics from the current mini-batch, as described in the original paper.\n",
        "\n",
        "bn = BatchNormalization(momentum=0.0)"
      ],
      "metadata": {
        "id": "EDXWxBbmkzT7"
      }
    },
    {
      "cell_type": "markdown",
      "source": [
        "# **BatchNormalization in Models**\n",
        "\n",
        "Batch normalization can be used at most points in a model and with most types of deep learning neural networks."
      ],
      "metadata": {
        "id": "REPibyiQlDdl"
      }
    },
    {
      "cell_type": "markdown",
      "source": [
        "# **Input and Hidden Layer Inputs**"
      ],
      "metadata": {
        "id": "-XIPuPjulHtC"
      }
    },
    {
      "cell_type": "markdown",
      "source": [
        "The BatchNormalization layer can be added to your model to standardize raw input variables or the outputs of a hidden layer.\n",
        "\n",
        "Batch normalization is not recommended as an alternative to proper data preparation for your model.\n",
        "\n",
        "Nevertheless, when used to standardize the raw input variables, the layer must specify the input_shape argument; for example:\n",
        "\n",
        "...\n",
        "\n",
        "model = Sequential()\n",
        "\n",
        "model.add(BatchNormalization(input_shape=(2,)))\n",
        "\n",
        "..."
      ],
      "metadata": {
        "id": "k5CaOB7jlHxE"
      }
    },
    {
      "cell_type": "markdown",
      "source": [
        "When used to standardize the outputs of a hidden layer, the layer can be added to the model just like any other layer.\n",
        "\n",
        "...\n",
        "\n",
        "model = Sequential()\n",
        "\n",
        "...\n",
        "\n",
        "model.add(BatchNormalization())\n",
        "..."
      ],
      "metadata": {
        "id": "Th9sftq2lH3o"
      }
    },
    {
      "cell_type": "markdown",
      "source": [
        "# Use Before or After the Activation Function"
      ],
      "metadata": {
        "id": "c2eMqDjklk4u"
      }
    },
    {
      "cell_type": "markdown",
      "source": [
        "1. The BatchNormalization normalization layer can be used to standardize inputs before or after the activation function of the previous layer.\n",
        "\n",
        "2. The original paper that introduced the method suggests adding batch normalization before the activation function of the previous layer, for example:\n",
        "\n",
        "...\n",
        "\n",
        "model = Sequential()\n",
        "\n",
        "model.add(Dense(32))\n",
        "\n",
        "model.add(BatchNormalization())\n",
        "\n",
        "model.add(Activation('relu'))\n",
        "\n",
        "..."
      ],
      "metadata": {
        "id": "O_su837Tlpx6"
      }
    },
    {
      "cell_type": "markdown",
      "source": [
        "Some reported experiments suggest better performance when adding the batch normalization layer after the activation function of the previous layer; for example\n",
        "\n",
        "...\n",
        "\n",
        "model = Sequential()\n",
        "\n",
        "model.add(Dense(32, activation='relu'))\n",
        "\n",
        "model.add(BatchNormalization())\n",
        "...\n"
      ],
      "metadata": {
        "id": "zTl0FCkbl2Od"
      }
    },
    {
      "cell_type": "markdown",
      "source": [
        "# MLP Batch Normalization"
      ],
      "metadata": {
        "id": "RY3VLwnImGvE"
      }
    },
    {
      "cell_type": "markdown",
      "source": [
        ""
      ],
      "metadata": {
        "id": "7yU4SqlomVZe"
      }
    },
    {
      "cell_type": "markdown",
      "source": [
        "The example below adds batch normalization after the activation function between Dense hidden layers.\n",
        "\n",
        "# example of batch normalization for an mlp\n",
        "from keras.layers import Dense\n",
        "\n",
        "from keras.layers import BatchNormalization\n",
        "...\n",
        "\n",
        "model.add(Dense(32, activation='relu'))\n",
        "\n",
        "model.add(BatchNormalization())\n",
        "\n",
        "model.add(Dense(1))\n",
        "..."
      ],
      "metadata": {
        "id": "90bZfNVymK6m"
      }
    },
    {
      "cell_type": "markdown",
      "source": [
        "# CNN Batch Normalization"
      ],
      "metadata": {
        "id": "pccnWkIQmWWb"
      }
    },
    {
      "cell_type": "markdown",
      "source": [
        "The example below adds batch normalization after the activation function between a convolutional and max pooling layers.\n",
        "\n",
        "# example of batch normalization for an cnn\n",
        "\n",
        "from keras.layers import Dense\n",
        "\n",
        "from keras.layers import Conv2D\n",
        "\n",
        "from keras.layers import MaxPooling2D\n",
        "\n",
        "from keras.layers import BatchNormalization\n",
        "\n",
        "...\n",
        "\n",
        "\n",
        "model.add(Conv2D(32, (3,3), activation='relu'))\n",
        "\n",
        "model.add(Conv2D(32, (3,3), activation='relu'))\n",
        "\n",
        "model.add(BatchNormalization())\n",
        "\n",
        "model.add(MaxPooling2D())\n",
        "\n",
        "model.add(Dense(1))\n",
        "\n",
        "\n",
        "..."
      ],
      "metadata": {
        "id": "0YVhq4lomWgd"
      }
    },
    {
      "cell_type": "markdown",
      "source": [
        "# **RNN Batch Normalization**\n",
        "\n",
        "The example below adds batch normalization after the activation function between an LSTM and Dense hidden layers."
      ],
      "metadata": {
        "id": "G04HUqtzmpey"
      }
    },
    {
      "cell_type": "markdown",
      "source": [
        "# example of batch normalization for a lstm\n",
        "from keras.layers import Dense\n",
        "\n",
        "from keras.layers import LSTM\n",
        "\n",
        "from keras.layers import BatchNormalization\n",
        "\n",
        "...\n",
        "\n",
        "model.add(LSTM(32))\n",
        "\n",
        "model.add(BatchNormalization())\n",
        "\n",
        "model.add(Dense(1))\n",
        "\n",
        "..."
      ],
      "metadata": {
        "id": "IgvKUZWFm0Th"
      }
    },
    {
      "cell_type": "markdown",
      "source": [
        "# BatchNormalization Case Study"
      ],
      "metadata": {
        "id": "4BfRYEamm5dv"
      }
    },
    {
      "cell_type": "markdown",
      "source": [
        "# Binary Classification Problem"
      ],
      "metadata": {
        "id": "oSDMaSiPnG9m"
      }
    },
    {
      "cell_type": "markdown",
      "source": [
        "We will use a standard binary classification problem that defines two two-dimensional concentric circles of observations, one circle for each class.\n",
        "\n",
        "Each observation has two input variables with the same scale and a class output value of either 0 or 1. This dataset is called the “circles” dataset because of the shape of the observations in each class when plotted.\n",
        "\n",
        "We can use the make_circles() function to generate observations from this problem. We will add noise to the data and seed the random number generator so that the same samples are generated each time the code is run."
      ],
      "metadata": {
        "id": "zbkqRLJXnKWB"
      }
    },
    {
      "cell_type": "code",
      "source": [
        "# scatter plot of the circles dataset with points colored by class\n",
        "from sklearn.datasets import make_circles\n",
        "from numpy import where\n",
        "from keras.models import Sequential\n",
        "from tensorflow.keras.optimizers import SGD\n",
        "# example of batch normalization for an mlp\n",
        "from keras.layers import Dense\n",
        "from keras.layers import BatchNormalization,Activation\n",
        "from matplotlib import pyplot\n"
      ],
      "metadata": {
        "id": "eWiHAasJnOF6"
      },
      "execution_count": 30,
      "outputs": []
    },
    {
      "cell_type": "code",
      "source": [
        "# generate circles\n",
        "X, y = make_circles(n_samples=1000, noise=0.1, random_state=1)\n",
        "# select indices of points with each class label\n",
        "for i in range(2):\n",
        "\tsamples_ix = where(y == i)\n",
        "\tpyplot.scatter(X[samples_ix, 0], X[samples_ix, 1], label=str(i))\n",
        "pyplot.legend()\n",
        "pyplot.show()"
      ],
      "metadata": {
        "colab": {
          "base_uri": "https://localhost:8080/",
          "height": 265
        },
        "id": "P-Xi98KYnU9d",
        "outputId": "38f97a50-170f-4db3-fa36-202013d8436e"
      },
      "execution_count": 3,
      "outputs": [
        {
          "output_type": "display_data",
          "data": {
            "text/plain": [
              "<Figure size 432x288 with 1 Axes>"
            ],
            "image/png": "[encoded data removed]"
          },
          "metadata": {
            "needs_background": "light"
          }
        }
      ]
    },
    {
      "cell_type": "markdown",
      "source": [
        "Running the example creates a scatter plot showing the concentric circles shape of the observations in each class.\n",
        "\n",
        "We can see the noise in the dispersal of the points making the circles less obvious."
      ],
      "metadata": {
        "id": "KWeAIM9ZnaCs"
      }
    },
    {
      "cell_type": "markdown",
      "source": [
        "This is a good test problem because the classes cannot be separated by a line, e.g. are not linearly separable, requiring a nonlinear method such as a neural network to address."
      ],
      "metadata": {
        "id": "4QenAaiOndxY"
      }
    },
    {
      "cell_type": "markdown",
      "source": [
        "# Multilayer Perceptron Model"
      ],
      "metadata": {
        "id": "cf0DgDBpnhN4"
      }
    },
    {
      "cell_type": "markdown",
      "source": [
        "We can develop a Multilayer Perceptron model, or MLP, as a baseline for this problem.\n",
        "\n",
        "First, we will split the 1,000 generated samples into a train and test dataset, with 500 examples in each. This will provide a sufficiently large sample for the model to learn from and an equally sized (fair) evaluation of its performance."
      ],
      "metadata": {
        "id": "svW31fDonmux"
      }
    },
    {
      "cell_type": "code",
      "source": [
        "# split into train and test\n",
        "n_train = 500\n",
        "trainX, testX = X[:n_train, :], X[n_train:, :]\n",
        "trainy, testy = y[:n_train], y[n_train:]"
      ],
      "metadata": {
        "id": "UTFeI6AtnVtT"
      },
      "execution_count": 4,
      "outputs": []
    },
    {
      "cell_type": "markdown",
      "source": [
        "We will define a simple MLP model. The network must have two inputs in the visible layer for the two variables in the dataset.\n",
        "\n",
        "The model will have a single hidden layer with 50 nodes, chosen arbitrarily, and use the rectified linear activation function (ReLU) and the He random weight initialization method. The output layer will be a single node with the sigmoid activation function, capable of predicting a 0 for the outer circle and a 1 for the inner circle of the problem.\n",
        "\n",
        "The model will be trained using stochastic gradient descent with a modest learning rate of 0.01 and a large momentum of 0.9, and the optimization will be directed using the binary cross entropy loss function."
      ],
      "metadata": {
        "id": "oLdnekuDnuJn"
      }
    },
    {
      "cell_type": "code",
      "source": [
        "# define model\n",
        "model = Sequential()\n",
        "model.add(Dense(50, input_dim=2, activation='relu', kernel_initializer='he_uniform'))\n",
        "model.add(Dense(1, activation='sigmoid'))\n",
        "opt = SGD(lr=0.01, momentum=0.9)\n",
        "model.compile(loss='binary_crossentropy', optimizer=opt, metrics=['accuracy'])"
      ],
      "metadata": {
        "colab": {
          "base_uri": "https://localhost:8080/"
        },
        "id": "g7k8hhIknr7u",
        "outputId": "1114da0a-1bb8-46d3-dc5d-858494417196"
      },
      "execution_count": 12,
      "outputs": [
        {
          "output_type": "stream",
          "name": "stderr",
          "text": [
            "/usr/local/lib/python3.7/dist-packages/keras/optimizer_v2/gradient_descent.py:102: UserWarning: The `lr` argument is deprecated, use `learning_rate` instead.\n",
            "  super(SGD, self).__init__(name, **kwargs)\n"
          ]
        }
      ]
    },
    {
      "cell_type": "code",
      "source": [
        "# fit model\n",
        "history = model.fit(trainX, trainy, validation_data=(testX, testy), epochs=100, verbose=1)"
      ],
      "metadata": {
        "colab": {
          "base_uri": "https://localhost:8080/"
        },
        "id": "jOsvk3ksnwbu",
        "outputId": "9d20cd69-37f1-455e-9a2c-f62d35c85a43"
      },
      "execution_count": 14,
      "outputs": [
        {
          "output_type": "stream",
          "name": "stdout",
          "text": [
            "Epoch 1/100\n",
            "16/16 [==============================] - 0s 7ms/step - loss: 0.3988 - accuracy: 0.8260 - val_loss: 0.3793 - val_accuracy: 0.8380\n",
            "Epoch 2/100\n",
            "16/16 [==============================] - 0s 4ms/step - loss: 0.3976 - accuracy: 0.8200 - val_loss: 0.3812 - val_accuracy: 0.8420\n",
            "Epoch 3/100\n",
            "16/16 [==============================] - 0s 4ms/step - loss: 0.4001 - accuracy: 0.8320 - val_loss: 0.3777 - val_accuracy: 0.8440\n",
            "Epoch 4/100\n",
            "16/16 [==============================] - 0s 5ms/step - loss: 0.3938 - accuracy: 0.8260 - val_loss: 0.3766 - val_accuracy: 0.8520\n",
            "Epoch 5/100\n",
            "16/16 [==============================] - 0s 5ms/step - loss: 0.4007 - accuracy: 0.8260 - val_loss: 0.3788 - val_accuracy: 0.8440\n",
            "Epoch 6/100\n",
            "16/16 [==============================] - 0s 4ms/step - loss: 0.3953 - accuracy: 0.8220 - val_loss: 0.3774 - val_accuracy: 0.8440\n",
            "Epoch 7/100\n",
            "16/16 [==============================] - 0s 4ms/step - loss: 0.3964 - accuracy: 0.8220 - val_loss: 0.3771 - val_accuracy: 0.8540\n",
            "Epoch 8/100\n",
            "16/16 [==============================] - 0s 5ms/step - loss: 0.3955 - accuracy: 0.8180 - val_loss: 0.3761 - val_accuracy: 0.8480\n",
            "Epoch 9/100\n",
            "16/16 [==============================] - 0s 4ms/step - loss: 0.3971 - accuracy: 0.8240 - val_loss: 0.3749 - val_accuracy: 0.8420\n",
            "Epoch 10/100\n",
            "16/16 [==============================] - 0s 5ms/step - loss: 0.3934 - accuracy: 0.8140 - val_loss: 0.3766 - val_accuracy: 0.8480\n",
            "Epoch 11/100\n",
            "16/16 [==============================] - 0s 4ms/step - loss: 0.3913 - accuracy: 0.8240 - val_loss: 0.3733 - val_accuracy: 0.8480\n",
            "Epoch 12/100\n",
            "16/16 [==============================] - 0s 8ms/step - loss: 0.3913 - accuracy: 0.8220 - val_loss: 0.3756 - val_accuracy: 0.8420\n",
            "Epoch 13/100\n",
            "16/16 [==============================] - 0s 5ms/step - loss: 0.3917 - accuracy: 0.8200 - val_loss: 0.3733 - val_accuracy: 0.8460\n",
            "Epoch 14/100\n",
            "16/16 [==============================] - 0s 4ms/step - loss: 0.3906 - accuracy: 0.8320 - val_loss: 0.3715 - val_accuracy: 0.8560\n",
            "Epoch 15/100\n",
            "16/16 [==============================] - 0s 5ms/step - loss: 0.3908 - accuracy: 0.8260 - val_loss: 0.3726 - val_accuracy: 0.8480\n",
            "Epoch 16/100\n",
            "16/16 [==============================] - 0s 5ms/step - loss: 0.3913 - accuracy: 0.8260 - val_loss: 0.3759 - val_accuracy: 0.8460\n",
            "Epoch 17/100\n",
            "16/16 [==============================] - 0s 4ms/step - loss: 0.3908 - accuracy: 0.8200 - val_loss: 0.3715 - val_accuracy: 0.8560\n",
            "Epoch 18/100\n",
            "16/16 [==============================] - 0s 5ms/step - loss: 0.3887 - accuracy: 0.8240 - val_loss: 0.3705 - val_accuracy: 0.8520\n",
            "Epoch 19/100\n",
            "16/16 [==============================] - 0s 5ms/step - loss: 0.3875 - accuracy: 0.8240 - val_loss: 0.3717 - val_accuracy: 0.8540\n",
            "Epoch 20/100\n",
            "16/16 [==============================] - 0s 5ms/step - loss: 0.3884 - accuracy: 0.8220 - val_loss: 0.3716 - val_accuracy: 0.8460\n",
            "Epoch 21/100\n",
            "16/16 [==============================] - 0s 4ms/step - loss: 0.3885 - accuracy: 0.8300 - val_loss: 0.3700 - val_accuracy: 0.8480\n",
            "Epoch 22/100\n",
            "16/16 [==============================] - 0s 4ms/step - loss: 0.3866 - accuracy: 0.8300 - val_loss: 0.3710 - val_accuracy: 0.8500\n",
            "Epoch 23/100\n",
            "16/16 [==============================] - 0s 6ms/step - loss: 0.3871 - accuracy: 0.8240 - val_loss: 0.3699 - val_accuracy: 0.8540\n",
            "Epoch 24/100\n",
            "16/16 [==============================] - 0s 5ms/step - loss: 0.3861 - accuracy: 0.8220 - val_loss: 0.3716 - val_accuracy: 0.8440\n",
            "Epoch 25/100\n",
            "16/16 [==============================] - 0s 4ms/step - loss: 0.3871 - accuracy: 0.8260 - val_loss: 0.3675 - val_accuracy: 0.8560\n",
            "Epoch 26/100\n",
            "16/16 [==============================] - 0s 5ms/step - loss: 0.3878 - accuracy: 0.8300 - val_loss: 0.3682 - val_accuracy: 0.8480\n",
            "Epoch 27/100\n",
            "16/16 [==============================] - 0s 4ms/step - loss: 0.3854 - accuracy: 0.8260 - val_loss: 0.3697 - val_accuracy: 0.8480\n",
            "Epoch 28/100\n",
            "16/16 [==============================] - 0s 5ms/step - loss: 0.3862 - accuracy: 0.8220 - val_loss: 0.3696 - val_accuracy: 0.8440\n",
            "Epoch 29/100\n",
            "16/16 [==============================] - 0s 4ms/step - loss: 0.3840 - accuracy: 0.8260 - val_loss: 0.3685 - val_accuracy: 0.8440\n",
            "Epoch 30/100\n",
            "16/16 [==============================] - 0s 4ms/step - loss: 0.3857 - accuracy: 0.8200 - val_loss: 0.3693 - val_accuracy: 0.8420\n",
            "Epoch 31/100\n",
            "16/16 [==============================] - 0s 4ms/step - loss: 0.3874 - accuracy: 0.8320 - val_loss: 0.3675 - val_accuracy: 0.8460\n",
            "Epoch 32/100\n",
            "16/16 [==============================] - 0s 5ms/step - loss: 0.3871 - accuracy: 0.8300 - val_loss: 0.3698 - val_accuracy: 0.8500\n",
            "Epoch 33/100\n",
            "16/16 [==============================] - 0s 5ms/step - loss: 0.3861 - accuracy: 0.8180 - val_loss: 0.3693 - val_accuracy: 0.8540\n",
            "Epoch 34/100\n",
            "16/16 [==============================] - 0s 4ms/step - loss: 0.3826 - accuracy: 0.8300 - val_loss: 0.3649 - val_accuracy: 0.8560\n",
            "Epoch 35/100\n",
            "16/16 [==============================] - 0s 5ms/step - loss: 0.3828 - accuracy: 0.8200 - val_loss: 0.3670 - val_accuracy: 0.8460\n",
            "Epoch 36/100\n",
            "16/16 [==============================] - 0s 4ms/step - loss: 0.3845 - accuracy: 0.8320 - val_loss: 0.3659 - val_accuracy: 0.8500\n",
            "Epoch 37/100\n",
            "16/16 [==============================] - 0s 8ms/step - loss: 0.3839 - accuracy: 0.8340 - val_loss: 0.3651 - val_accuracy: 0.8520\n",
            "Epoch 38/100\n",
            "16/16 [==============================] - 0s 4ms/step - loss: 0.3835 - accuracy: 0.8200 - val_loss: 0.3669 - val_accuracy: 0.8500\n",
            "Epoch 39/100\n",
            "16/16 [==============================] - 0s 5ms/step - loss: 0.3839 - accuracy: 0.8280 - val_loss: 0.3660 - val_accuracy: 0.8460\n",
            "Epoch 40/100\n",
            "16/16 [==============================] - 0s 5ms/step - loss: 0.3829 - accuracy: 0.8320 - val_loss: 0.3690 - val_accuracy: 0.8460\n",
            "Epoch 41/100\n",
            "16/16 [==============================] - 0s 5ms/step - loss: 0.3881 - accuracy: 0.8180 - val_loss: 0.3682 - val_accuracy: 0.8460\n",
            "Epoch 42/100\n",
            "16/16 [==============================] - 0s 5ms/step - loss: 0.3858 - accuracy: 0.8220 - val_loss: 0.3665 - val_accuracy: 0.8440\n",
            "Epoch 43/100\n",
            "16/16 [==============================] - 0s 5ms/step - loss: 0.3823 - accuracy: 0.8280 - val_loss: 0.3656 - val_accuracy: 0.8480\n",
            "Epoch 44/100\n",
            "16/16 [==============================] - 0s 5ms/step - loss: 0.3833 - accuracy: 0.8260 - val_loss: 0.3654 - val_accuracy: 0.8440\n",
            "Epoch 45/100\n",
            "16/16 [==============================] - 0s 5ms/step - loss: 0.3861 - accuracy: 0.8320 - val_loss: 0.3684 - val_accuracy: 0.8420\n",
            "Epoch 46/100\n",
            "16/16 [==============================] - 0s 5ms/step - loss: 0.3877 - accuracy: 0.8280 - val_loss: 0.3665 - val_accuracy: 0.8500\n",
            "Epoch 47/100\n",
            "16/16 [==============================] - 0s 4ms/step - loss: 0.3825 - accuracy: 0.8300 - val_loss: 0.3630 - val_accuracy: 0.8480\n",
            "Epoch 48/100\n",
            "16/16 [==============================] - 0s 4ms/step - loss: 0.3860 - accuracy: 0.8400 - val_loss: 0.3667 - val_accuracy: 0.8460\n",
            "Epoch 49/100\n",
            "16/16 [==============================] - 0s 5ms/step - loss: 0.3924 - accuracy: 0.8260 - val_loss: 0.3728 - val_accuracy: 0.8520\n",
            "Epoch 50/100\n",
            "16/16 [==============================] - 0s 4ms/step - loss: 0.3918 - accuracy: 0.8240 - val_loss: 0.3638 - val_accuracy: 0.8540\n",
            "Epoch 51/100\n",
            "16/16 [==============================] - 0s 5ms/step - loss: 0.3824 - accuracy: 0.8280 - val_loss: 0.3654 - val_accuracy: 0.8460\n",
            "Epoch 52/100\n",
            "16/16 [==============================] - 0s 5ms/step - loss: 0.3824 - accuracy: 0.8280 - val_loss: 0.3641 - val_accuracy: 0.8500\n",
            "Epoch 53/100\n",
            "16/16 [==============================] - 0s 4ms/step - loss: 0.3815 - accuracy: 0.8320 - val_loss: 0.3627 - val_accuracy: 0.8580\n",
            "Epoch 54/100\n",
            "16/16 [==============================] - 0s 5ms/step - loss: 0.3796 - accuracy: 0.8300 - val_loss: 0.3639 - val_accuracy: 0.8520\n",
            "Epoch 55/100\n",
            "16/16 [==============================] - 0s 4ms/step - loss: 0.3811 - accuracy: 0.8260 - val_loss: 0.3636 - val_accuracy: 0.8440\n",
            "Epoch 56/100\n",
            "16/16 [==============================] - 0s 4ms/step - loss: 0.3880 - accuracy: 0.8380 - val_loss: 0.3666 - val_accuracy: 0.8460\n",
            "Epoch 57/100\n",
            "16/16 [==============================] - 0s 4ms/step - loss: 0.3807 - accuracy: 0.8400 - val_loss: 0.3638 - val_accuracy: 0.8440\n",
            "Epoch 58/100\n",
            "16/16 [==============================] - 0s 4ms/step - loss: 0.3823 - accuracy: 0.8360 - val_loss: 0.3667 - val_accuracy: 0.8460\n",
            "Epoch 59/100\n",
            "16/16 [==============================] - 0s 5ms/step - loss: 0.3830 - accuracy: 0.8300 - val_loss: 0.3624 - val_accuracy: 0.8560\n",
            "Epoch 60/100\n",
            "16/16 [==============================] - 0s 5ms/step - loss: 0.3803 - accuracy: 0.8240 - val_loss: 0.3635 - val_accuracy: 0.8460\n",
            "Epoch 61/100\n",
            "16/16 [==============================] - 0s 7ms/step - loss: 0.3795 - accuracy: 0.8400 - val_loss: 0.3643 - val_accuracy: 0.8480\n",
            "Epoch 62/100\n",
            "16/16 [==============================] - 0s 5ms/step - loss: 0.3840 - accuracy: 0.8240 - val_loss: 0.3651 - val_accuracy: 0.8420\n",
            "Epoch 63/100\n",
            "16/16 [==============================] - 0s 4ms/step - loss: 0.3897 - accuracy: 0.8220 - val_loss: 0.3670 - val_accuracy: 0.8480\n",
            "Epoch 64/100\n",
            "16/16 [==============================] - 0s 5ms/step - loss: 0.3828 - accuracy: 0.8180 - val_loss: 0.3622 - val_accuracy: 0.8460\n",
            "Epoch 65/100\n",
            "16/16 [==============================] - 0s 5ms/step - loss: 0.3853 - accuracy: 0.8320 - val_loss: 0.3643 - val_accuracy: 0.8480\n",
            "Epoch 66/100\n",
            "16/16 [==============================] - 0s 5ms/step - loss: 0.3843 - accuracy: 0.8200 - val_loss: 0.3631 - val_accuracy: 0.8440\n",
            "Epoch 67/100\n",
            "16/16 [==============================] - 0s 4ms/step - loss: 0.3785 - accuracy: 0.8340 - val_loss: 0.3615 - val_accuracy: 0.8500\n",
            "Epoch 68/100\n",
            "16/16 [==============================] - 0s 7ms/step - loss: 0.3808 - accuracy: 0.8220 - val_loss: 0.3653 - val_accuracy: 0.8440\n",
            "Epoch 69/100\n",
            "16/16 [==============================] - 0s 4ms/step - loss: 0.3821 - accuracy: 0.8240 - val_loss: 0.3594 - val_accuracy: 0.8560\n",
            "Epoch 70/100\n",
            "16/16 [==============================] - 0s 6ms/step - loss: 0.3794 - accuracy: 0.8400 - val_loss: 0.3629 - val_accuracy: 0.8500\n",
            "Epoch 71/100\n",
            "16/16 [==============================] - 0s 5ms/step - loss: 0.3810 - accuracy: 0.8180 - val_loss: 0.3634 - val_accuracy: 0.8460\n",
            "Epoch 72/100\n",
            "16/16 [==============================] - 0s 4ms/step - loss: 0.3807 - accuracy: 0.8300 - val_loss: 0.3588 - val_accuracy: 0.8560\n",
            "Epoch 73/100\n",
            "16/16 [==============================] - 0s 6ms/step - loss: 0.3797 - accuracy: 0.8220 - val_loss: 0.3613 - val_accuracy: 0.8500\n",
            "Epoch 74/100\n",
            "16/16 [==============================] - 0s 5ms/step - loss: 0.3814 - accuracy: 0.8340 - val_loss: 0.3613 - val_accuracy: 0.8480\n",
            "Epoch 75/100\n",
            "16/16 [==============================] - 0s 7ms/step - loss: 0.3793 - accuracy: 0.8260 - val_loss: 0.3606 - val_accuracy: 0.8440\n",
            "Epoch 76/100\n",
            "16/16 [==============================] - 0s 4ms/step - loss: 0.3793 - accuracy: 0.8300 - val_loss: 0.3617 - val_accuracy: 0.8460\n",
            "Epoch 77/100\n",
            "16/16 [==============================] - 0s 4ms/step - loss: 0.3834 - accuracy: 0.8320 - val_loss: 0.3628 - val_accuracy: 0.8480\n",
            "Epoch 78/100\n",
            "16/16 [==============================] - 0s 4ms/step - loss: 0.3839 - accuracy: 0.8200 - val_loss: 0.3651 - val_accuracy: 0.8500\n",
            "Epoch 79/100\n",
            "16/16 [==============================] - 0s 4ms/step - loss: 0.3869 - accuracy: 0.8280 - val_loss: 0.3663 - val_accuracy: 0.8400\n",
            "Epoch 80/100\n",
            "16/16 [==============================] - 0s 4ms/step - loss: 0.3852 - accuracy: 0.8380 - val_loss: 0.3653 - val_accuracy: 0.8460\n",
            "Epoch 81/100\n",
            "16/16 [==============================] - 0s 5ms/step - loss: 0.3798 - accuracy: 0.8440 - val_loss: 0.3632 - val_accuracy: 0.8440\n",
            "Epoch 82/100\n",
            "16/16 [==============================] - 0s 5ms/step - loss: 0.3817 - accuracy: 0.8180 - val_loss: 0.3599 - val_accuracy: 0.8500\n",
            "Epoch 83/100\n",
            "16/16 [==============================] - 0s 5ms/step - loss: 0.3840 - accuracy: 0.8240 - val_loss: 0.3609 - val_accuracy: 0.8520\n",
            "Epoch 84/100\n",
            "16/16 [==============================] - 0s 5ms/step - loss: 0.3870 - accuracy: 0.8280 - val_loss: 0.3606 - val_accuracy: 0.8500\n",
            "Epoch 85/100\n",
            "16/16 [==============================] - 0s 5ms/step - loss: 0.3833 - accuracy: 0.8260 - val_loss: 0.3577 - val_accuracy: 0.8540\n",
            "Epoch 86/100\n",
            "16/16 [==============================] - 0s 5ms/step - loss: 0.3804 - accuracy: 0.8280 - val_loss: 0.3644 - val_accuracy: 0.8420\n",
            "Epoch 87/100\n",
            "16/16 [==============================] - 0s 5ms/step - loss: 0.3846 - accuracy: 0.8280 - val_loss: 0.3610 - val_accuracy: 0.8420\n",
            "Epoch 88/100\n",
            "16/16 [==============================] - 0s 5ms/step - loss: 0.3858 - accuracy: 0.8240 - val_loss: 0.3607 - val_accuracy: 0.8520\n",
            "Epoch 89/100\n",
            "16/16 [==============================] - 0s 5ms/step - loss: 0.3773 - accuracy: 0.8300 - val_loss: 0.3610 - val_accuracy: 0.8480\n",
            "Epoch 90/100\n",
            "16/16 [==============================] - 0s 5ms/step - loss: 0.3780 - accuracy: 0.8340 - val_loss: 0.3614 - val_accuracy: 0.8500\n",
            "Epoch 91/100\n",
            "16/16 [==============================] - 0s 5ms/step - loss: 0.3774 - accuracy: 0.8320 - val_loss: 0.3592 - val_accuracy: 0.8520\n",
            "Epoch 92/100\n",
            "16/16 [==============================] - 0s 4ms/step - loss: 0.3782 - accuracy: 0.8320 - val_loss: 0.3586 - val_accuracy: 0.8500\n",
            "Epoch 93/100\n",
            "16/16 [==============================] - 0s 4ms/step - loss: 0.3764 - accuracy: 0.8260 - val_loss: 0.3592 - val_accuracy: 0.8520\n",
            "Epoch 94/100\n",
            "16/16 [==============================] - 0s 5ms/step - loss: 0.3760 - accuracy: 0.8340 - val_loss: 0.3588 - val_accuracy: 0.8500\n",
            "Epoch 95/100\n",
            "16/16 [==============================] - 0s 5ms/step - loss: 0.3798 - accuracy: 0.8280 - val_loss: 0.3607 - val_accuracy: 0.8460\n",
            "Epoch 96/100\n",
            "16/16 [==============================] - 0s 4ms/step - loss: 0.3981 - accuracy: 0.8260 - val_loss: 0.3604 - val_accuracy: 0.8500\n",
            "Epoch 97/100\n",
            "16/16 [==============================] - 0s 5ms/step - loss: 0.3824 - accuracy: 0.8260 - val_loss: 0.3591 - val_accuracy: 0.8500\n",
            "Epoch 98/100\n",
            "16/16 [==============================] - 0s 5ms/step - loss: 0.3797 - accuracy: 0.8340 - val_loss: 0.3574 - val_accuracy: 0.8560\n",
            "Epoch 99/100\n",
            "16/16 [==============================] - 0s 5ms/step - loss: 0.3783 - accuracy: 0.8300 - val_loss: 0.3626 - val_accuracy: 0.8460\n",
            "Epoch 100/100\n",
            "16/16 [==============================] - 0s 4ms/step - loss: 0.3770 - accuracy: 0.8360 - val_loss: 0.3592 - val_accuracy: 0.8460\n"
          ]
        }
      ]
    },
    {
      "cell_type": "markdown",
      "source": [
        "At the end of the run, the model is evaluated on the train and test dataset and the accuracy is reported."
      ],
      "metadata": {
        "id": "RFynp9npq3Qc"
      }
    },
    {
      "cell_type": "code",
      "source": [
        "# evaluate the model\n",
        "_, train_acc = model.evaluate(trainX, trainy, verbose=0)\n",
        "_, test_acc = model.evaluate(testX, testy, verbose=0)\n",
        "print('Train: %.3f, Test: %.3f' % (train_acc, test_acc))"
      ],
      "metadata": {
        "colab": {
          "base_uri": "https://localhost:8080/"
        },
        "id": "LrChw8T5q34Y",
        "outputId": "3c127c64-748b-481c-f891-2cf50f21db8b"
      },
      "execution_count": 15,
      "outputs": [
        {
          "output_type": "stream",
          "name": "stdout",
          "text": [
            "Train: 0.832, Test: 0.846\n"
          ]
        }
      ]
    },
    {
      "cell_type": "markdown",
      "source": [
        "Finally, line plots are created showing model accuracy on the train and test sets at the end of each training epoch providing learning curves.\n",
        "\n",
        "This plot of learning curves is useful as it gives an idea of how quickly and how well the model has learned the problem."
      ],
      "metadata": {
        "id": "J8C6W9d9rTap"
      }
    },
    {
      "cell_type": "code",
      "source": [
        "# plot history\n",
        "pyplot.plot(history.history['accuracy'], label='train')\n",
        "pyplot.plot(history.history['val_accuracy'], label='test')\n",
        "pyplot.legend()\n",
        "pyplot.show()"
      ],
      "metadata": {
        "colab": {
          "base_uri": "https://localhost:8080/",
          "height": 268
        },
        "id": "bwRMKjE1q6hI",
        "outputId": "f2ccece3-a17c-428a-95c1-da95f0dce6b5"
      },
      "execution_count": 16,
      "outputs": [
        {
          "output_type": "display_data",
          "data": {
            "text/plain": [
              "<Figure size 432x288 with 1 Axes>"
            ],
            "image/png": "[encoded data removed]"
          },
          "metadata": {
            "needs_background": "light"
          }
        }
      ]
    },
    {
      "cell_type": "markdown",
      "source": [
        "# MLP With Batch Normalization"
      ],
      "metadata": {
        "id": "0VRzD-7grgff"
      }
    },
    {
      "cell_type": "markdown",
      "source": [
        "The model introduced in the previous section can be updated to add batch normalization.\n",
        "\n",
        "The expectation is that the addition of batch normalization would accelerate the training process, offering similar or better classification accuracy of the model in fewer training epochs. Batch normalization is also reported as providing a modest form of regularization, meaning that it may also offer a small reduction in generalization error demonstrated by a small increase in classification accuracy on the holdout test dataset.\n",
        "\n",
        "A new BatchNormalization layer can be added to the model after the hidden layer before the output layer. Specifically, after the activation function of the prior hidden layer."
      ],
      "metadata": {
        "id": "S_dDCQXBsRCQ"
      }
    },
    {
      "cell_type": "code",
      "source": [
        "# define model\n",
        "model = Sequential()\n",
        "model.add(Dense(50, input_dim=2, activation='relu', kernel_initializer='he_uniform'))\n",
        "model.add(BatchNormalization())\n",
        "model.add(Dense(1, activation='sigmoid'))\n",
        "opt = SGD(lr=0.01, momentum=0.9)\n",
        "model.compile(loss='binary_crossentropy', optimizer=opt, metrics=['accuracy'])"
      ],
      "metadata": {
        "colab": {
          "base_uri": "https://localhost:8080/"
        },
        "id": "u-Oh6ntQrVk5",
        "outputId": "99132f12-2785-4372-9d1c-bb93ef68b067"
      },
      "execution_count": 17,
      "outputs": [
        {
          "output_type": "stream",
          "name": "stderr",
          "text": [
            "/usr/local/lib/python3.7/dist-packages/keras/optimizer_v2/gradient_descent.py:102: UserWarning: The `lr` argument is deprecated, use `learning_rate` instead.\n",
            "  super(SGD, self).__init__(name, **kwargs)\n"
          ]
        }
      ]
    },
    {
      "cell_type": "code",
      "source": [
        "# fit model\n",
        "history = model.fit(trainX, trainy, validation_data=(testX, testy), epochs=100, verbose=1)"
      ],
      "metadata": {
        "colab": {
          "base_uri": "https://localhost:8080/"
        },
        "id": "ogsZFTQfzmLl",
        "outputId": "9141ecf2-4043-4820-b74c-e0c8dd42298f"
      },
      "execution_count": 19,
      "outputs": [
        {
          "output_type": "stream",
          "name": "stdout",
          "text": [
            "Epoch 1/100\n",
            "16/16 [==============================] - 0s 7ms/step - loss: 0.4398 - accuracy: 0.8060 - val_loss: 0.3606 - val_accuracy: 0.8440\n",
            "Epoch 2/100\n",
            "16/16 [==============================] - 0s 5ms/step - loss: 0.4446 - accuracy: 0.7980 - val_loss: 0.3580 - val_accuracy: 0.8640\n",
            "Epoch 3/100\n",
            "16/16 [==============================] - 0s 5ms/step - loss: 0.4070 - accuracy: 0.8040 - val_loss: 0.3685 - val_accuracy: 0.8480\n",
            "Epoch 4/100\n",
            "16/16 [==============================] - 0s 5ms/step - loss: 0.4027 - accuracy: 0.8200 - val_loss: 0.3591 - val_accuracy: 0.8480\n",
            "Epoch 5/100\n",
            "16/16 [==============================] - 0s 5ms/step - loss: 0.4105 - accuracy: 0.8260 - val_loss: 0.3679 - val_accuracy: 0.8380\n",
            "Epoch 6/100\n",
            "16/16 [==============================] - 0s 5ms/step - loss: 0.4800 - accuracy: 0.7760 - val_loss: 0.3624 - val_accuracy: 0.8540\n",
            "Epoch 7/100\n",
            "16/16 [==============================] - 0s 5ms/step - loss: 0.4491 - accuracy: 0.7940 - val_loss: 0.3645 - val_accuracy: 0.8420\n",
            "Epoch 8/100\n",
            "16/16 [==============================] - 0s 5ms/step - loss: 0.4422 - accuracy: 0.8120 - val_loss: 0.3668 - val_accuracy: 0.8460\n",
            "Epoch 9/100\n",
            "16/16 [==============================] - 0s 5ms/step - loss: 0.4513 - accuracy: 0.7980 - val_loss: 0.3766 - val_accuracy: 0.8440\n",
            "Epoch 10/100\n",
            "16/16 [==============================] - 0s 5ms/step - loss: 0.4514 - accuracy: 0.7920 - val_loss: 0.3691 - val_accuracy: 0.8300\n",
            "Epoch 11/100\n",
            "16/16 [==============================] - 0s 5ms/step - loss: 0.4334 - accuracy: 0.8040 - val_loss: 0.3688 - val_accuracy: 0.8440\n",
            "Epoch 12/100\n",
            "16/16 [==============================] - 0s 5ms/step - loss: 0.4278 - accuracy: 0.8120 - val_loss: 0.3641 - val_accuracy: 0.8340\n",
            "Epoch 13/100\n",
            "16/16 [==============================] - 0s 5ms/step - loss: 0.4500 - accuracy: 0.8020 - val_loss: 0.3666 - val_accuracy: 0.8480\n",
            "Epoch 14/100\n",
            "16/16 [==============================] - 0s 5ms/step - loss: 0.4246 - accuracy: 0.8180 - val_loss: 0.3610 - val_accuracy: 0.8460\n",
            "Epoch 15/100\n",
            "16/16 [==============================] - 0s 5ms/step - loss: 0.4273 - accuracy: 0.8160 - val_loss: 0.3620 - val_accuracy: 0.8500\n",
            "Epoch 16/100\n",
            "16/16 [==============================] - 0s 8ms/step - loss: 0.4737 - accuracy: 0.7880 - val_loss: 0.3696 - val_accuracy: 0.8420\n",
            "Epoch 17/100\n",
            "16/16 [==============================] - 0s 5ms/step - loss: 0.4580 - accuracy: 0.7780 - val_loss: 0.3742 - val_accuracy: 0.8500\n",
            "Epoch 18/100\n",
            "16/16 [==============================] - 0s 5ms/step - loss: 0.4112 - accuracy: 0.8060 - val_loss: 0.3676 - val_accuracy: 0.8380\n",
            "Epoch 19/100\n",
            "16/16 [==============================] - 0s 5ms/step - loss: 0.4156 - accuracy: 0.8280 - val_loss: 0.3641 - val_accuracy: 0.8300\n",
            "Epoch 20/100\n",
            "16/16 [==============================] - 0s 7ms/step - loss: 0.4260 - accuracy: 0.8080 - val_loss: 0.3808 - val_accuracy: 0.8380\n",
            "Epoch 21/100\n",
            "16/16 [==============================] - 0s 5ms/step - loss: 0.4317 - accuracy: 0.8000 - val_loss: 0.3616 - val_accuracy: 0.8520\n",
            "Epoch 22/100\n",
            "16/16 [==============================] - 0s 4ms/step - loss: 0.4225 - accuracy: 0.8060 - val_loss: 0.3734 - val_accuracy: 0.8480\n",
            "Epoch 23/100\n",
            "16/16 [==============================] - 0s 5ms/step - loss: 0.4291 - accuracy: 0.8020 - val_loss: 0.3608 - val_accuracy: 0.8580\n",
            "Epoch 24/100\n",
            "16/16 [==============================] - 0s 4ms/step - loss: 0.4458 - accuracy: 0.8020 - val_loss: 0.3756 - val_accuracy: 0.8320\n",
            "Epoch 25/100\n",
            "16/16 [==============================] - 0s 5ms/step - loss: 0.4168 - accuracy: 0.8200 - val_loss: 0.3616 - val_accuracy: 0.8560\n",
            "Epoch 26/100\n",
            "16/16 [==============================] - 0s 5ms/step - loss: 0.4220 - accuracy: 0.8180 - val_loss: 0.3707 - val_accuracy: 0.8340\n",
            "Epoch 27/100\n",
            "16/16 [==============================] - 0s 5ms/step - loss: 0.4085 - accuracy: 0.8080 - val_loss: 0.3644 - val_accuracy: 0.8500\n",
            "Epoch 28/100\n",
            "16/16 [==============================] - 0s 5ms/step - loss: 0.4184 - accuracy: 0.8120 - val_loss: 0.3618 - val_accuracy: 0.8500\n",
            "Epoch 29/100\n",
            "16/16 [==============================] - 0s 5ms/step - loss: 0.4494 - accuracy: 0.7720 - val_loss: 0.3613 - val_accuracy: 0.8460\n",
            "Epoch 30/100\n",
            "16/16 [==============================] - 0s 5ms/step - loss: 0.4118 - accuracy: 0.8200 - val_loss: 0.3663 - val_accuracy: 0.8400\n",
            "Epoch 31/100\n",
            "16/16 [==============================] - 0s 5ms/step - loss: 0.4514 - accuracy: 0.7900 - val_loss: 0.3603 - val_accuracy: 0.8400\n",
            "Epoch 32/100\n",
            "16/16 [==============================] - 0s 5ms/step - loss: 0.4543 - accuracy: 0.8020 - val_loss: 0.3707 - val_accuracy: 0.8360\n",
            "Epoch 33/100\n",
            "16/16 [==============================] - 0s 5ms/step - loss: 0.4132 - accuracy: 0.8100 - val_loss: 0.3599 - val_accuracy: 0.8480\n",
            "Epoch 34/100\n",
            "16/16 [==============================] - 0s 4ms/step - loss: 0.4112 - accuracy: 0.8200 - val_loss: 0.3618 - val_accuracy: 0.8500\n",
            "Epoch 35/100\n",
            "16/16 [==============================] - 0s 7ms/step - loss: 0.4069 - accuracy: 0.8020 - val_loss: 0.3601 - val_accuracy: 0.8600\n",
            "Epoch 36/100\n",
            "16/16 [==============================] - 0s 6ms/step - loss: 0.4088 - accuracy: 0.8160 - val_loss: 0.3659 - val_accuracy: 0.8460\n",
            "Epoch 37/100\n",
            "16/16 [==============================] - 0s 5ms/step - loss: 0.4261 - accuracy: 0.7920 - val_loss: 0.3598 - val_accuracy: 0.8580\n",
            "Epoch 38/100\n",
            "16/16 [==============================] - 0s 5ms/step - loss: 0.4175 - accuracy: 0.8040 - val_loss: 0.3602 - val_accuracy: 0.8500\n",
            "Epoch 39/100\n",
            "16/16 [==============================] - 0s 5ms/step - loss: 0.4553 - accuracy: 0.7980 - val_loss: 0.3653 - val_accuracy: 0.8380\n",
            "Epoch 40/100\n",
            "16/16 [==============================] - 0s 5ms/step - loss: 0.4264 - accuracy: 0.7820 - val_loss: 0.3617 - val_accuracy: 0.8400\n",
            "Epoch 41/100\n",
            "16/16 [==============================] - 0s 5ms/step - loss: 0.4502 - accuracy: 0.7920 - val_loss: 0.3706 - val_accuracy: 0.8420\n",
            "Epoch 42/100\n",
            "16/16 [==============================] - 0s 5ms/step - loss: 0.4663 - accuracy: 0.7860 - val_loss: 0.3647 - val_accuracy: 0.8540\n",
            "Epoch 43/100\n",
            "16/16 [==============================] - 0s 5ms/step - loss: 0.4256 - accuracy: 0.7940 - val_loss: 0.3650 - val_accuracy: 0.8360\n",
            "Epoch 44/100\n",
            "16/16 [==============================] - 0s 5ms/step - loss: 0.4324 - accuracy: 0.8060 - val_loss: 0.3608 - val_accuracy: 0.8500\n",
            "Epoch 45/100\n",
            "16/16 [==============================] - 0s 5ms/step - loss: 0.4421 - accuracy: 0.7800 - val_loss: 0.3793 - val_accuracy: 0.8360\n",
            "Epoch 46/100\n",
            "16/16 [==============================] - 0s 5ms/step - loss: 0.4446 - accuracy: 0.7920 - val_loss: 0.3692 - val_accuracy: 0.8400\n",
            "Epoch 47/100\n",
            "16/16 [==============================] - 0s 5ms/step - loss: 0.4251 - accuracy: 0.8040 - val_loss: 0.3758 - val_accuracy: 0.8360\n",
            "Epoch 48/100\n",
            "16/16 [==============================] - 0s 5ms/step - loss: 0.4173 - accuracy: 0.8100 - val_loss: 0.3735 - val_accuracy: 0.8400\n",
            "Epoch 49/100\n",
            "16/16 [==============================] - 0s 5ms/step - loss: 0.4167 - accuracy: 0.8340 - val_loss: 0.3634 - val_accuracy: 0.8560\n",
            "Epoch 50/100\n",
            "16/16 [==============================] - 0s 4ms/step - loss: 0.4262 - accuracy: 0.8060 - val_loss: 0.3702 - val_accuracy: 0.8340\n",
            "Epoch 51/100\n",
            "16/16 [==============================] - 0s 5ms/step - loss: 0.4107 - accuracy: 0.8240 - val_loss: 0.3657 - val_accuracy: 0.8400\n",
            "Epoch 52/100\n",
            "16/16 [==============================] - 0s 5ms/step - loss: 0.4122 - accuracy: 0.7960 - val_loss: 0.3631 - val_accuracy: 0.8500\n",
            "Epoch 53/100\n",
            "16/16 [==============================] - 0s 5ms/step - loss: 0.4290 - accuracy: 0.7900 - val_loss: 0.3687 - val_accuracy: 0.8480\n",
            "Epoch 54/100\n",
            "16/16 [==============================] - 0s 5ms/step - loss: 0.4221 - accuracy: 0.8000 - val_loss: 0.3591 - val_accuracy: 0.8540\n",
            "Epoch 55/100\n",
            "16/16 [==============================] - 0s 5ms/step - loss: 0.4048 - accuracy: 0.8400 - val_loss: 0.3586 - val_accuracy: 0.8580\n",
            "Epoch 56/100\n",
            "16/16 [==============================] - 0s 6ms/step - loss: 0.4382 - accuracy: 0.7880 - val_loss: 0.3719 - val_accuracy: 0.8340\n",
            "Epoch 57/100\n",
            "16/16 [==============================] - 0s 5ms/step - loss: 0.4370 - accuracy: 0.8120 - val_loss: 0.3611 - val_accuracy: 0.8520\n",
            "Epoch 58/100\n",
            "16/16 [==============================] - 0s 5ms/step - loss: 0.4113 - accuracy: 0.8140 - val_loss: 0.3651 - val_accuracy: 0.8400\n",
            "Epoch 59/100\n",
            "16/16 [==============================] - 0s 8ms/step - loss: 0.4126 - accuracy: 0.8080 - val_loss: 0.3592 - val_accuracy: 0.8600\n",
            "Epoch 60/100\n",
            "16/16 [==============================] - 0s 5ms/step - loss: 0.4284 - accuracy: 0.8060 - val_loss: 0.3601 - val_accuracy: 0.8520\n",
            "Epoch 61/100\n",
            "16/16 [==============================] - 0s 5ms/step - loss: 0.4387 - accuracy: 0.8100 - val_loss: 0.3699 - val_accuracy: 0.8360\n",
            "Epoch 62/100\n",
            "16/16 [==============================] - 0s 5ms/step - loss: 0.4109 - accuracy: 0.8040 - val_loss: 0.3628 - val_accuracy: 0.8380\n",
            "Epoch 63/100\n",
            "16/16 [==============================] - 0s 8ms/step - loss: 0.4210 - accuracy: 0.8120 - val_loss: 0.3615 - val_accuracy: 0.8440\n",
            "Epoch 64/100\n",
            "16/16 [==============================] - 0s 5ms/step - loss: 0.4405 - accuracy: 0.7880 - val_loss: 0.3671 - val_accuracy: 0.8440\n",
            "Epoch 65/100\n",
            "16/16 [==============================] - 0s 5ms/step - loss: 0.4438 - accuracy: 0.7980 - val_loss: 0.3707 - val_accuracy: 0.8440\n",
            "Epoch 66/100\n",
            "16/16 [==============================] - 0s 6ms/step - loss: 0.4047 - accuracy: 0.8220 - val_loss: 0.3712 - val_accuracy: 0.8500\n",
            "Epoch 67/100\n",
            "16/16 [==============================] - 0s 5ms/step - loss: 0.4068 - accuracy: 0.8100 - val_loss: 0.3632 - val_accuracy: 0.8420\n",
            "Epoch 68/100\n",
            "16/16 [==============================] - 0s 5ms/step - loss: 0.4063 - accuracy: 0.8220 - val_loss: 0.3613 - val_accuracy: 0.8360\n",
            "Epoch 69/100\n",
            "16/16 [==============================] - 0s 5ms/step - loss: 0.4203 - accuracy: 0.8160 - val_loss: 0.3669 - val_accuracy: 0.8380\n",
            "Epoch 70/100\n",
            "16/16 [==============================] - 0s 5ms/step - loss: 0.4324 - accuracy: 0.8140 - val_loss: 0.3596 - val_accuracy: 0.8500\n",
            "Epoch 71/100\n",
            "16/16 [==============================] - 0s 5ms/step - loss: 0.3992 - accuracy: 0.8040 - val_loss: 0.3678 - val_accuracy: 0.8400\n",
            "Epoch 72/100\n",
            "16/16 [==============================] - 0s 5ms/step - loss: 0.4472 - accuracy: 0.7800 - val_loss: 0.3654 - val_accuracy: 0.8420\n",
            "Epoch 73/100\n",
            "16/16 [==============================] - 0s 5ms/step - loss: 0.4254 - accuracy: 0.8100 - val_loss: 0.3589 - val_accuracy: 0.8540\n",
            "Epoch 74/100\n",
            "16/16 [==============================] - 0s 5ms/step - loss: 0.4381 - accuracy: 0.8140 - val_loss: 0.3685 - val_accuracy: 0.8380\n",
            "Epoch 75/100\n",
            "16/16 [==============================] - 0s 5ms/step - loss: 0.4309 - accuracy: 0.7940 - val_loss: 0.3617 - val_accuracy: 0.8400\n",
            "Epoch 76/100\n",
            "16/16 [==============================] - 0s 5ms/step - loss: 0.4413 - accuracy: 0.8100 - val_loss: 0.3625 - val_accuracy: 0.8480\n",
            "Epoch 77/100\n",
            "16/16 [==============================] - 0s 8ms/step - loss: 0.4433 - accuracy: 0.8020 - val_loss: 0.3584 - val_accuracy: 0.8580\n",
            "Epoch 78/100\n",
            "16/16 [==============================] - 0s 4ms/step - loss: 0.4087 - accuracy: 0.8200 - val_loss: 0.3632 - val_accuracy: 0.8400\n",
            "Epoch 79/100\n",
            "16/16 [==============================] - 0s 5ms/step - loss: 0.4345 - accuracy: 0.8060 - val_loss: 0.3638 - val_accuracy: 0.8540\n",
            "Epoch 80/100\n",
            "16/16 [==============================] - 0s 5ms/step - loss: 0.4118 - accuracy: 0.8280 - val_loss: 0.3713 - val_accuracy: 0.8420\n",
            "Epoch 81/100\n",
            "16/16 [==============================] - 0s 5ms/step - loss: 0.4167 - accuracy: 0.8000 - val_loss: 0.3587 - val_accuracy: 0.8580\n",
            "Epoch 82/100\n",
            "16/16 [==============================] - 0s 5ms/step - loss: 0.4470 - accuracy: 0.7920 - val_loss: 0.3707 - val_accuracy: 0.8460\n",
            "Epoch 83/100\n",
            "16/16 [==============================] - 0s 4ms/step - loss: 0.4378 - accuracy: 0.7960 - val_loss: 0.3603 - val_accuracy: 0.8400\n",
            "Epoch 84/100\n",
            "16/16 [==============================] - 0s 5ms/step - loss: 0.4508 - accuracy: 0.7920 - val_loss: 0.3732 - val_accuracy: 0.8480\n",
            "Epoch 85/100\n",
            "16/16 [==============================] - 0s 5ms/step - loss: 0.4237 - accuracy: 0.8000 - val_loss: 0.3573 - val_accuracy: 0.8520\n",
            "Epoch 86/100\n",
            "16/16 [==============================] - 0s 5ms/step - loss: 0.4414 - accuracy: 0.7900 - val_loss: 0.3838 - val_accuracy: 0.8300\n",
            "Epoch 87/100\n",
            "16/16 [==============================] - 0s 4ms/step - loss: 0.4248 - accuracy: 0.8200 - val_loss: 0.3613 - val_accuracy: 0.8540\n",
            "Epoch 88/100\n",
            "16/16 [==============================] - 0s 4ms/step - loss: 0.4117 - accuracy: 0.7980 - val_loss: 0.3609 - val_accuracy: 0.8580\n",
            "Epoch 89/100\n",
            "16/16 [==============================] - 0s 8ms/step - loss: 0.4195 - accuracy: 0.8120 - val_loss: 0.3699 - val_accuracy: 0.8380\n",
            "Epoch 90/100\n",
            "16/16 [==============================] - 0s 4ms/step - loss: 0.4153 - accuracy: 0.8080 - val_loss: 0.3639 - val_accuracy: 0.8420\n",
            "Epoch 91/100\n",
            "16/16 [==============================] - 0s 5ms/step - loss: 0.4296 - accuracy: 0.8120 - val_loss: 0.3695 - val_accuracy: 0.8340\n",
            "Epoch 92/100\n",
            "16/16 [==============================] - 0s 5ms/step - loss: 0.4741 - accuracy: 0.7760 - val_loss: 0.3599 - val_accuracy: 0.8540\n",
            "Epoch 93/100\n",
            "16/16 [==============================] - 0s 5ms/step - loss: 0.3965 - accuracy: 0.8380 - val_loss: 0.3631 - val_accuracy: 0.8500\n",
            "Epoch 94/100\n",
            "16/16 [==============================] - 0s 4ms/step - loss: 0.4337 - accuracy: 0.7820 - val_loss: 0.3578 - val_accuracy: 0.8540\n",
            "Epoch 95/100\n",
            "16/16 [==============================] - 0s 5ms/step - loss: 0.4474 - accuracy: 0.7920 - val_loss: 0.3606 - val_accuracy: 0.8460\n",
            "Epoch 96/100\n",
            "16/16 [==============================] - 0s 5ms/step - loss: 0.4225 - accuracy: 0.8060 - val_loss: 0.3631 - val_accuracy: 0.8400\n",
            "Epoch 97/100\n",
            "16/16 [==============================] - 0s 5ms/step - loss: 0.4129 - accuracy: 0.8220 - val_loss: 0.3587 - val_accuracy: 0.8480\n",
            "Epoch 98/100\n",
            "16/16 [==============================] - 0s 5ms/step - loss: 0.4425 - accuracy: 0.7920 - val_loss: 0.3654 - val_accuracy: 0.8380\n",
            "Epoch 99/100\n",
            "16/16 [==============================] - 0s 5ms/step - loss: 0.4290 - accuracy: 0.8040 - val_loss: 0.3582 - val_accuracy: 0.8520\n",
            "Epoch 100/100\n",
            "16/16 [==============================] - 0s 5ms/step - loss: 0.4554 - accuracy: 0.7880 - val_loss: 0.3621 - val_accuracy: 0.8440\n"
          ]
        }
      ]
    },
    {
      "cell_type": "code",
      "source": [
        "# evaluate the model\n",
        "_, train_acc = model.evaluate(trainX, trainy, verbose=0)\n",
        "_, test_acc = model.evaluate(testX, testy, verbose=0)\n",
        "print('Train: %.3f, Test: %.3f' % (train_acc, test_acc))"
      ],
      "metadata": {
        "colab": {
          "base_uri": "https://localhost:8080/"
        },
        "id": "HXnombkQzr0u",
        "outputId": "d93f909b-70df-44c8-89db-db8dea4e1c17"
      },
      "execution_count": 20,
      "outputs": [
        {
          "output_type": "stream",
          "name": "stdout",
          "text": [
            "Train: 0.844, Test: 0.844\n"
          ]
        }
      ]
    },
    {
      "cell_type": "code",
      "source": [
        "# plot history\n",
        "pyplot.plot(history.history['accuracy'], label='train')\n",
        "pyplot.plot(history.history['val_accuracy'], label='test')\n",
        "pyplot.legend()\n",
        "pyplot.show()\n"
      ],
      "metadata": {
        "colab": {
          "base_uri": "https://localhost:8080/",
          "height": 265
        },
        "id": "ks9jjnjOz3Id",
        "outputId": "716ea97b-4ad4-4ce9-ce7c-7f9c7dee0adf"
      },
      "execution_count": 21,
      "outputs": [
        {
          "output_type": "display_data",
          "data": {
            "text/plain": [
              "<Figure size 432x288 with 1 Axes>"
            ],
            "image/png": "[encoded data removed]"
          },
          "metadata": {
            "needs_background": "light"
          }
        }
      ]
    },
    {
      "cell_type": "markdown",
      "source": [
        "Running the example first prints the classification accuracy of the model on the train and test dataset.\n",
        "\n",
        "Note: Your results may vary given the stochastic nature of the algorithm or evaluation procedure, or differences in numerical precision. Consider running the example a few times and compare the average outcome.\n",
        "\n",
        "In this case, we can see comparable performance of the model on both the train and test set of about 84% accuracy, very similar to what we saw in the previous section, if not a little bit better."
      ],
      "metadata": {
        "id": "uIGtdppS0Zuk"
      }
    },
    {
      "cell_type": "markdown",
      "source": [
        "A graph of the learning curves is also created showing classification accuracy on both the train and test sets for each training epoch.\n",
        "\n",
        "In this case, we can see that the model has learned the problem faster than the model in the previous section without batch normalization. Specifically, we can see that classification accuracy on the train and test datasets leaps above 80% within the first 20 epochs, as opposed to 30-to-40 epochs in the model without batch normalization.\n",
        "\n",
        "The plot also shows the effect of batch normalization during training. We can see lower performance on the training dataset than the test dataset: scores on the training dataset that are lower than the performance of the model at the end of the training run. This is likely the effect of the input collected and updated each mini-batch."
      ],
      "metadata": {
        "id": "_qApaBdq0dLj"
      }
    },
    {
      "cell_type": "markdown",
      "source": [
        "# **Batch normalization is applied prior to the activation function of the hidden layer**"
      ],
      "metadata": {
        "id": "w8uXDJ3I0kem"
      }
    },
    {
      "cell_type": "code",
      "source": [
        ""
      ],
      "metadata": {
        "id": "SR9EKG2W0Y7v"
      },
      "execution_count": null,
      "outputs": []
    },
    {
      "cell_type": "markdown",
      "source": [
        "We can also try a variation of the model where batch normalization is applied prior to the activation function of the hidden layer, instead of after the activation function."
      ],
      "metadata": {
        "id": "zYp-gPmv0hRg"
      }
    },
    {
      "cell_type": "code",
      "source": [
        "# define model\n",
        "\n",
        "model = Sequential()\n",
        "model.add(Dense(50, input_dim=2, kernel_initializer='he_uniform'))\n",
        "model.add(BatchNormalization())\n",
        "model.add(Activation('relu'))\n",
        "model.add(Dense(1, activation='sigmoid'))\n",
        "opt = SGD(lr=0.01, momentum=0.9)\n",
        "model.compile(loss='binary_crossentropy', optimizer=opt, metrics=['accuracy'])"
      ],
      "metadata": {
        "colab": {
          "base_uri": "https://localhost:8080/"
        },
        "id": "ZZS8f4xI1IMc",
        "outputId": "7bf569de-0428-45d5-a927-276aa8350073"
      },
      "execution_count": 31,
      "outputs": [
        {
          "output_type": "stream",
          "name": "stderr",
          "text": [
            "/usr/local/lib/python3.7/dist-packages/keras/optimizer_v2/gradient_descent.py:102: UserWarning: The `lr` argument is deprecated, use `learning_rate` instead.\n",
            "  super(SGD, self).__init__(name, **kwargs)\n"
          ]
        }
      ]
    },
    {
      "cell_type": "code",
      "source": [
        "# fit model\n",
        "history = model.fit(trainX, trainy, validation_data=(testX, testy), epochs=100, verbose=1)"
      ],
      "metadata": {
        "colab": {
          "base_uri": "https://localhost:8080/"
        },
        "id": "0Fhp4c5L1_D6",
        "outputId": "4a341142-644e-4864-8e44-4973245178e7"
      },
      "execution_count": 32,
      "outputs": [
        {
          "output_type": "stream",
          "name": "stdout",
          "text": [
            "Epoch 1/100\n",
            "16/16 [==============================] - 1s 27ms/step - loss: 0.7586 - accuracy: 0.5080 - val_loss: 0.7125 - val_accuracy: 0.4960\n",
            "Epoch 2/100\n",
            "16/16 [==============================] - 0s 11ms/step - loss: 0.6874 - accuracy: 0.5300 - val_loss: 0.7030 - val_accuracy: 0.5080\n",
            "Epoch 3/100\n",
            "16/16 [==============================] - 0s 11ms/step - loss: 0.6809 - accuracy: 0.5300 - val_loss: 0.6951 - val_accuracy: 0.5100\n",
            "Epoch 4/100\n",
            "16/16 [==============================] - 0s 16ms/step - loss: 0.6755 - accuracy: 0.5440 - val_loss: 0.6844 - val_accuracy: 0.5220\n",
            "Epoch 5/100\n",
            "16/16 [==============================] - 0s 8ms/step - loss: 0.6751 - accuracy: 0.5440 - val_loss: 0.6783 - val_accuracy: 0.5240\n",
            "Epoch 6/100\n",
            "16/16 [==============================] - 0s 11ms/step - loss: 0.6666 - accuracy: 0.5920 - val_loss: 0.6755 - val_accuracy: 0.5780\n",
            "Epoch 7/100\n",
            "16/16 [==============================] - 0s 5ms/step - loss: 0.6678 - accuracy: 0.5660 - val_loss: 0.6674 - val_accuracy: 0.5720\n",
            "Epoch 8/100\n",
            "16/16 [==============================] - 0s 5ms/step - loss: 0.6634 - accuracy: 0.5760 - val_loss: 0.6636 - val_accuracy: 0.5600\n",
            "Epoch 9/100\n",
            "16/16 [==============================] - 0s 8ms/step - loss: 0.6643 - accuracy: 0.5940 - val_loss: 0.6592 - val_accuracy: 0.5800\n",
            "Epoch 10/100\n",
            "16/16 [==============================] - 0s 5ms/step - loss: 0.6543 - accuracy: 0.5700 - val_loss: 0.6542 - val_accuracy: 0.5920\n",
            "Epoch 11/100\n",
            "16/16 [==============================] - 0s 5ms/step - loss: 0.6475 - accuracy: 0.6500 - val_loss: 0.6516 - val_accuracy: 0.6040\n",
            "Epoch 12/100\n",
            "16/16 [==============================] - 0s 5ms/step - loss: 0.6454 - accuracy: 0.6540 - val_loss: 0.6467 - val_accuracy: 0.6040\n",
            "Epoch 13/100\n",
            "16/16 [==============================] - 0s 6ms/step - loss: 0.6387 - accuracy: 0.6440 - val_loss: 0.6420 - val_accuracy: 0.6280\n",
            "Epoch 14/100\n",
            "16/16 [==============================] - 0s 5ms/step - loss: 0.6422 - accuracy: 0.6380 - val_loss: 0.6385 - val_accuracy: 0.6320\n",
            "Epoch 15/100\n",
            "16/16 [==============================] - 0s 6ms/step - loss: 0.6482 - accuracy: 0.6440 - val_loss: 0.6322 - val_accuracy: 0.6760\n",
            "Epoch 16/100\n",
            "16/16 [==============================] - 0s 5ms/step - loss: 0.6352 - accuracy: 0.6900 - val_loss: 0.6289 - val_accuracy: 0.6700\n",
            "Epoch 17/100\n",
            "16/16 [==============================] - 0s 5ms/step - loss: 0.6184 - accuracy: 0.7040 - val_loss: 0.6261 - val_accuracy: 0.6380\n",
            "Epoch 18/100\n",
            "16/16 [==============================] - 0s 8ms/step - loss: 0.6267 - accuracy: 0.6720 - val_loss: 0.6213 - val_accuracy: 0.6800\n",
            "Epoch 19/100\n",
            "16/16 [==============================] - 0s 8ms/step - loss: 0.6306 - accuracy: 0.6960 - val_loss: 0.6177 - val_accuracy: 0.7160\n",
            "Epoch 20/100\n",
            "16/16 [==============================] - 0s 7ms/step - loss: 0.6296 - accuracy: 0.6960 - val_loss: 0.6164 - val_accuracy: 0.6940\n",
            "Epoch 21/100\n",
            "16/16 [==============================] - 0s 5ms/step - loss: 0.6141 - accuracy: 0.7280 - val_loss: 0.6097 - val_accuracy: 0.7500\n",
            "Epoch 22/100\n",
            "16/16 [==============================] - 0s 5ms/step - loss: 0.6225 - accuracy: 0.6980 - val_loss: 0.6065 - val_accuracy: 0.7440\n",
            "Epoch 23/100\n",
            "16/16 [==============================] - 0s 6ms/step - loss: 0.6149 - accuracy: 0.7120 - val_loss: 0.6033 - val_accuracy: 0.7640\n",
            "Epoch 24/100\n",
            "16/16 [==============================] - 0s 5ms/step - loss: 0.6196 - accuracy: 0.6500 - val_loss: 0.6016 - val_accuracy: 0.7420\n",
            "Epoch 25/100\n",
            "16/16 [==============================] - 0s 5ms/step - loss: 0.6264 - accuracy: 0.7260 - val_loss: 0.5950 - val_accuracy: 0.7920\n",
            "Epoch 26/100\n",
            "16/16 [==============================] - 0s 5ms/step - loss: 0.6015 - accuracy: 0.7040 - val_loss: 0.6002 - val_accuracy: 0.6980\n",
            "Epoch 27/100\n",
            "16/16 [==============================] - 0s 8ms/step - loss: 0.6035 - accuracy: 0.7080 - val_loss: 0.5897 - val_accuracy: 0.7880\n",
            "Epoch 28/100\n",
            "16/16 [==============================] - 0s 5ms/step - loss: 0.6025 - accuracy: 0.6740 - val_loss: 0.5887 - val_accuracy: 0.7820\n",
            "Epoch 29/100\n",
            "16/16 [==============================] - 0s 5ms/step - loss: 0.6187 - accuracy: 0.6680 - val_loss: 0.5875 - val_accuracy: 0.7500\n",
            "Epoch 30/100\n",
            "16/16 [==============================] - 0s 8ms/step - loss: 0.6050 - accuracy: 0.7020 - val_loss: 0.5862 - val_accuracy: 0.7780\n",
            "Epoch 31/100\n",
            "16/16 [==============================] - 0s 5ms/step - loss: 0.5972 - accuracy: 0.7040 - val_loss: 0.5804 - val_accuracy: 0.7780\n",
            "Epoch 32/100\n",
            "16/16 [==============================] - 0s 5ms/step - loss: 0.6017 - accuracy: 0.6900 - val_loss: 0.5752 - val_accuracy: 0.8320\n",
            "Epoch 33/100\n",
            "16/16 [==============================] - 0s 5ms/step - loss: 0.5860 - accuracy: 0.7160 - val_loss: 0.5799 - val_accuracy: 0.7640\n",
            "Epoch 34/100\n",
            "16/16 [==============================] - 0s 5ms/step - loss: 0.5847 - accuracy: 0.7260 - val_loss: 0.5730 - val_accuracy: 0.8020\n",
            "Epoch 35/100\n",
            "16/16 [==============================] - 0s 8ms/step - loss: 0.5974 - accuracy: 0.7020 - val_loss: 0.5699 - val_accuracy: 0.7820\n",
            "Epoch 36/100\n",
            "16/16 [==============================] - 0s 5ms/step - loss: 0.5884 - accuracy: 0.7180 - val_loss: 0.5667 - val_accuracy: 0.8140\n",
            "Epoch 37/100\n",
            "16/16 [==============================] - 0s 5ms/step - loss: 0.5716 - accuracy: 0.7500 - val_loss: 0.5633 - val_accuracy: 0.8280\n",
            "Epoch 38/100\n",
            "16/16 [==============================] - 0s 5ms/step - loss: 0.6009 - accuracy: 0.6860 - val_loss: 0.5588 - val_accuracy: 0.7900\n",
            "Epoch 39/100\n",
            "16/16 [==============================] - 0s 5ms/step - loss: 0.5986 - accuracy: 0.7000 - val_loss: 0.5663 - val_accuracy: 0.7720\n",
            "Epoch 40/100\n",
            "16/16 [==============================] - 0s 5ms/step - loss: 0.6048 - accuracy: 0.6660 - val_loss: 0.5577 - val_accuracy: 0.8260\n",
            "Epoch 41/100\n",
            "16/16 [==============================] - 0s 5ms/step - loss: 0.5887 - accuracy: 0.7000 - val_loss: 0.5570 - val_accuracy: 0.7920\n",
            "Epoch 42/100\n",
            "16/16 [==============================] - 0s 5ms/step - loss: 0.5782 - accuracy: 0.7220 - val_loss: 0.5532 - val_accuracy: 0.8180\n",
            "Epoch 43/100\n",
            "16/16 [==============================] - 0s 5ms/step - loss: 0.5782 - accuracy: 0.7220 - val_loss: 0.5539 - val_accuracy: 0.8060\n",
            "Epoch 44/100\n",
            "16/16 [==============================] - 0s 5ms/step - loss: 0.5783 - accuracy: 0.7180 - val_loss: 0.5499 - val_accuracy: 0.7860\n",
            "Epoch 45/100\n",
            "16/16 [==============================] - 0s 5ms/step - loss: 0.5666 - accuracy: 0.7340 - val_loss: 0.5453 - val_accuracy: 0.8300\n",
            "Epoch 46/100\n",
            "16/16 [==============================] - 0s 7ms/step - loss: 0.5811 - accuracy: 0.7220 - val_loss: 0.5456 - val_accuracy: 0.8080\n",
            "Epoch 47/100\n",
            "16/16 [==============================] - 0s 5ms/step - loss: 0.5707 - accuracy: 0.6860 - val_loss: 0.5445 - val_accuracy: 0.8020\n",
            "Epoch 48/100\n",
            "16/16 [==============================] - 0s 5ms/step - loss: 0.5530 - accuracy: 0.7620 - val_loss: 0.5389 - val_accuracy: 0.8260\n",
            "Epoch 49/100\n",
            "16/16 [==============================] - 0s 5ms/step - loss: 0.5802 - accuracy: 0.7020 - val_loss: 0.5362 - val_accuracy: 0.8300\n",
            "Epoch 50/100\n",
            "16/16 [==============================] - 0s 5ms/step - loss: 0.5603 - accuracy: 0.7340 - val_loss: 0.5370 - val_accuracy: 0.8160\n",
            "Epoch 51/100\n",
            "16/16 [==============================] - 0s 5ms/step - loss: 0.5619 - accuracy: 0.7500 - val_loss: 0.5324 - val_accuracy: 0.8320\n",
            "Epoch 52/100\n",
            "16/16 [==============================] - 0s 8ms/step - loss: 0.5634 - accuracy: 0.7440 - val_loss: 0.5318 - val_accuracy: 0.8160\n",
            "Epoch 53/100\n",
            "16/16 [==============================] - 0s 5ms/step - loss: 0.5476 - accuracy: 0.7520 - val_loss: 0.5282 - val_accuracy: 0.8220\n",
            "Epoch 54/100\n",
            "16/16 [==============================] - 0s 6ms/step - loss: 0.5701 - accuracy: 0.7080 - val_loss: 0.5297 - val_accuracy: 0.8120\n",
            "Epoch 55/100\n",
            "16/16 [==============================] - 0s 6ms/step - loss: 0.5801 - accuracy: 0.7320 - val_loss: 0.5242 - val_accuracy: 0.8280\n",
            "Epoch 56/100\n",
            "16/16 [==============================] - 0s 8ms/step - loss: 0.5762 - accuracy: 0.7120 - val_loss: 0.5205 - val_accuracy: 0.8140\n",
            "Epoch 57/100\n",
            "16/16 [==============================] - 0s 5ms/step - loss: 0.5571 - accuracy: 0.7460 - val_loss: 0.5240 - val_accuracy: 0.8260\n",
            "Epoch 58/100\n",
            "16/16 [==============================] - 0s 5ms/step - loss: 0.5660 - accuracy: 0.7320 - val_loss: 0.5177 - val_accuracy: 0.8500\n",
            "Epoch 59/100\n",
            "16/16 [==============================] - 0s 5ms/step - loss: 0.5616 - accuracy: 0.7300 - val_loss: 0.5174 - val_accuracy: 0.8280\n",
            "Epoch 60/100\n",
            "16/16 [==============================] - 0s 5ms/step - loss: 0.5816 - accuracy: 0.6920 - val_loss: 0.5238 - val_accuracy: 0.8020\n",
            "Epoch 61/100\n",
            "16/16 [==============================] - 0s 8ms/step - loss: 0.5708 - accuracy: 0.6900 - val_loss: 0.5170 - val_accuracy: 0.8140\n",
            "Epoch 62/100\n",
            "16/16 [==============================] - 0s 5ms/step - loss: 0.5388 - accuracy: 0.7420 - val_loss: 0.5149 - val_accuracy: 0.8160\n",
            "Epoch 63/100\n",
            "16/16 [==============================] - 0s 5ms/step - loss: 0.5442 - accuracy: 0.7560 - val_loss: 0.5126 - val_accuracy: 0.8260\n",
            "Epoch 64/100\n",
            "16/16 [==============================] - 0s 5ms/step - loss: 0.5581 - accuracy: 0.7260 - val_loss: 0.5138 - val_accuracy: 0.8120\n",
            "Epoch 65/100\n",
            "16/16 [==============================] - 0s 5ms/step - loss: 0.5670 - accuracy: 0.7140 - val_loss: 0.5115 - val_accuracy: 0.8120\n",
            "Epoch 66/100\n",
            "16/16 [==============================] - 0s 5ms/step - loss: 0.5496 - accuracy: 0.7260 - val_loss: 0.5160 - val_accuracy: 0.7960\n",
            "Epoch 67/100\n",
            "16/16 [==============================] - 0s 5ms/step - loss: 0.5452 - accuracy: 0.7380 - val_loss: 0.5095 - val_accuracy: 0.8240\n",
            "Epoch 68/100\n",
            "16/16 [==============================] - 0s 5ms/step - loss: 0.5354 - accuracy: 0.7420 - val_loss: 0.5033 - val_accuracy: 0.8360\n",
            "Epoch 69/100\n",
            "16/16 [==============================] - 0s 5ms/step - loss: 0.5304 - accuracy: 0.7540 - val_loss: 0.5056 - val_accuracy: 0.8060\n",
            "Epoch 70/100\n",
            "16/16 [==============================] - 0s 5ms/step - loss: 0.5715 - accuracy: 0.6960 - val_loss: 0.5009 - val_accuracy: 0.8340\n",
            "Epoch 71/100\n",
            "16/16 [==============================] - 0s 5ms/step - loss: 0.5469 - accuracy: 0.7540 - val_loss: 0.5023 - val_accuracy: 0.8220\n",
            "Epoch 72/100\n",
            "16/16 [==============================] - 0s 5ms/step - loss: 0.5487 - accuracy: 0.7320 - val_loss: 0.5021 - val_accuracy: 0.8120\n",
            "Epoch 73/100\n",
            "16/16 [==============================] - 0s 5ms/step - loss: 0.5698 - accuracy: 0.7240 - val_loss: 0.4997 - val_accuracy: 0.8240\n",
            "Epoch 74/100\n",
            "16/16 [==============================] - 0s 5ms/step - loss: 0.5770 - accuracy: 0.7100 - val_loss: 0.4963 - val_accuracy: 0.8260\n",
            "Epoch 75/100\n",
            "16/16 [==============================] - 0s 5ms/step - loss: 0.5405 - accuracy: 0.7380 - val_loss: 0.4984 - val_accuracy: 0.8180\n",
            "Epoch 76/100\n",
            "16/16 [==============================] - 0s 5ms/step - loss: 0.5377 - accuracy: 0.7560 - val_loss: 0.4954 - val_accuracy: 0.8100\n",
            "Epoch 77/100\n",
            "16/16 [==============================] - 0s 8ms/step - loss: 0.5954 - accuracy: 0.6920 - val_loss: 0.5004 - val_accuracy: 0.8220\n",
            "Epoch 78/100\n",
            "16/16 [==============================] - 0s 5ms/step - loss: 0.5287 - accuracy: 0.7640 - val_loss: 0.4912 - val_accuracy: 0.8200\n",
            "Epoch 79/100\n",
            "16/16 [==============================] - 0s 6ms/step - loss: 0.5852 - accuracy: 0.6860 - val_loss: 0.4916 - val_accuracy: 0.8200\n",
            "Epoch 80/100\n",
            "16/16 [==============================] - 0s 5ms/step - loss: 0.5593 - accuracy: 0.7220 - val_loss: 0.5001 - val_accuracy: 0.8040\n",
            "Epoch 81/100\n",
            "16/16 [==============================] - 0s 8ms/step - loss: 0.5725 - accuracy: 0.6960 - val_loss: 0.4869 - val_accuracy: 0.8400\n",
            "Epoch 82/100\n",
            "16/16 [==============================] - 0s 5ms/step - loss: 0.5487 - accuracy: 0.7440 - val_loss: 0.4897 - val_accuracy: 0.8180\n",
            "Epoch 83/100\n",
            "16/16 [==============================] - 0s 5ms/step - loss: 0.5667 - accuracy: 0.7060 - val_loss: 0.4986 - val_accuracy: 0.8180\n",
            "Epoch 84/100\n",
            "16/16 [==============================] - 0s 5ms/step - loss: 0.5873 - accuracy: 0.7000 - val_loss: 0.4896 - val_accuracy: 0.8140\n",
            "Epoch 85/100\n",
            "16/16 [==============================] - 0s 5ms/step - loss: 0.5706 - accuracy: 0.7180 - val_loss: 0.4878 - val_accuracy: 0.8420\n",
            "Epoch 86/100\n",
            "16/16 [==============================] - 0s 7ms/step - loss: 0.5664 - accuracy: 0.6960 - val_loss: 0.4962 - val_accuracy: 0.8120\n",
            "Epoch 87/100\n",
            "16/16 [==============================] - 0s 5ms/step - loss: 0.5778 - accuracy: 0.7060 - val_loss: 0.4833 - val_accuracy: 0.8320\n",
            "Epoch 88/100\n",
            "16/16 [==============================] - 0s 8ms/step - loss: 0.5609 - accuracy: 0.7360 - val_loss: 0.4989 - val_accuracy: 0.8200\n",
            "Epoch 89/100\n",
            "16/16 [==============================] - 0s 5ms/step - loss: 0.5544 - accuracy: 0.7100 - val_loss: 0.4885 - val_accuracy: 0.8220\n",
            "Epoch 90/100\n",
            "16/16 [==============================] - 0s 5ms/step - loss: 0.5258 - accuracy: 0.7420 - val_loss: 0.4846 - val_accuracy: 0.8100\n",
            "Epoch 91/100\n",
            "16/16 [==============================] - 0s 5ms/step - loss: 0.5278 - accuracy: 0.7420 - val_loss: 0.4831 - val_accuracy: 0.8520\n",
            "Epoch 92/100\n",
            "16/16 [==============================] - 0s 5ms/step - loss: 0.5183 - accuracy: 0.7620 - val_loss: 0.4824 - val_accuracy: 0.8300\n",
            "Epoch 93/100\n",
            "16/16 [==============================] - 0s 5ms/step - loss: 0.5461 - accuracy: 0.7400 - val_loss: 0.4824 - val_accuracy: 0.8160\n",
            "Epoch 94/100\n",
            "16/16 [==============================] - 0s 5ms/step - loss: 0.5546 - accuracy: 0.6960 - val_loss: 0.4825 - val_accuracy: 0.8420\n",
            "Epoch 95/100\n",
            "16/16 [==============================] - 0s 5ms/step - loss: 0.5381 - accuracy: 0.7400 - val_loss: 0.4806 - val_accuracy: 0.8240\n",
            "Epoch 96/100\n",
            "16/16 [==============================] - 0s 8ms/step - loss: 0.5338 - accuracy: 0.7320 - val_loss: 0.4802 - val_accuracy: 0.8200\n",
            "Epoch 97/100\n",
            "16/16 [==============================] - 0s 5ms/step - loss: 0.5516 - accuracy: 0.7080 - val_loss: 0.4771 - val_accuracy: 0.8200\n",
            "Epoch 98/100\n",
            "16/16 [==============================] - 0s 6ms/step - loss: 0.6051 - accuracy: 0.6500 - val_loss: 0.4834 - val_accuracy: 0.8280\n",
            "Epoch 99/100\n",
            "16/16 [==============================] - 0s 5ms/step - loss: 0.5761 - accuracy: 0.7340 - val_loss: 0.4757 - val_accuracy: 0.8240\n",
            "Epoch 100/100\n",
            "16/16 [==============================] - 0s 5ms/step - loss: 0.5663 - accuracy: 0.7100 - val_loss: 0.4737 - val_accuracy: 0.8480\n"
          ]
        }
      ]
    },
    {
      "cell_type": "code",
      "source": [
        "# evaluate the model\n",
        "_, train_acc = model.evaluate(trainX, trainy, verbose=1)\n",
        "_, test_acc = model.evaluate(testX, testy, verbose=1)\n",
        "print('Train: %.3f, Test: %.3f' % (train_acc, test_acc))"
      ],
      "metadata": {
        "colab": {
          "base_uri": "https://localhost:8080/"
        },
        "id": "Oa1Vkrqs2FRu",
        "outputId": "e433d618-df8b-4389-c479-07896013ee81"
      },
      "execution_count": 33,
      "outputs": [
        {
          "output_type": "stream",
          "name": "stdout",
          "text": [
            "16/16 [==============================] - 0s 4ms/step - loss: 0.4763 - accuracy: 0.8300\n",
            "16/16 [==============================] - 0s 2ms/step - loss: 0.4737 - accuracy: 0.8480\n",
            "Train: 0.830, Test: 0.848\n"
          ]
        }
      ]
    },
    {
      "cell_type": "code",
      "source": [
        "# plot history\n",
        "pyplot.plot(history.history['accuracy'], label='train')\n",
        "pyplot.plot(history.history['val_accuracy'], label='test')\n",
        "pyplot.legend()\n",
        "pyplot.show()"
      ],
      "metadata": {
        "colab": {
          "base_uri": "https://localhost:8080/",
          "height": 265
        },
        "id": "qmmQtBfr2Qss",
        "outputId": "02aa769f-e5b5-4906-be76-90f6adf55fc5"
      },
      "execution_count": 34,
      "outputs": [
        {
          "output_type": "display_data",
          "data": {
            "text/plain": [
              "<Figure size 432x288 with 1 Axes>"
            ],
            "image/png": "[encoded data removed]"
          },
          "metadata": {
            "needs_background": "light"
          }
        }
      ]
    },
    {
      "cell_type": "code",
      "source": [
        ""
      ],
      "metadata": {
        "id": "-qaVR5nN2Tcf"
      },
      "execution_count": null,
      "outputs": []
    }
  ]
}