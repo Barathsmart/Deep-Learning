{
  "nbformat": 4,
  "nbformat_minor": 0,
  "metadata": {
    "kernelspec": {
      "display_name": "Python 3",
      "language": "python",
      "name": "python3"
    },
    "language_info": {
      "codemirror_mode": {
        "name": "ipython",
        "version": 3
      },
      "file_extension": ".py",
      "mimetype": "text/x-python",
      "name": "python",
      "nbconvert_exporter": "python",
      "pygments_lexer": "ipython3",
      "version": "3.8.5"
    },
    "colab": {
      "name": "ANN_saveandLoad.ipynb",
      "provenance": [],
      "collapsed_sections": []
    }
  },
  "cells": [
    {
      "cell_type": "markdown",
      "metadata": {
        "id": "-5LlQfLBOvUB"
      },
      "source": [
        "<h2 style=\"color:blue\" align=\"center\">Handwritten digits classification using ANN</h2>"
      ]
    },
    {
      "cell_type": "markdown",
      "metadata": {
        "id": "WhGkTSK-OvUJ"
      },
      "source": [
        "In this notebook we will classify handwritten digits using a simple neural network (ANN) first and than repeat same thing with convolutional neural network. We will see how accuracy improves clickly when you use convolutional neural network."
      ]
    },
    {
      "cell_type": "code",
      "metadata": {
        "id": "alIXxrxAOvUM"
      },
      "source": [
        "import tensorflow as tf\n",
        "from tensorflow import keras\n",
        "from tensorflow.keras import datasets, layers, models\n",
        "import matplotlib.pyplot as plt\n",
        "%matplotlib inline\n",
        "import numpy as np"
      ],
      "execution_count": 1,
      "outputs": []
    },
    {
      "cell_type": "code",
      "metadata": {
        "colab": {
          "base_uri": "https://localhost:8080/"
        },
        "id": "Mros0rldOvUQ",
        "outputId": "f4ad486b-53d7-40f3-a9f2-bfc6628d51ad"
      },
      "source": [
        "(X_train, y_train) , (X_test, y_test) = keras.datasets.mnist.load_data()"
      ],
      "execution_count": 2,
      "outputs": [
        {
          "output_type": "stream",
          "name": "stdout",
          "text": [
            "Downloading data from https://storage.googleapis.com/tensorflow/tf-keras-datasets/mnist.npz\n",
            "11493376/11490434 [==============================] - 0s 0us/step\n",
            "11501568/11490434 [==============================] - 0s 0us/step\n"
          ]
        }
      ]
    },
    {
      "cell_type": "code",
      "metadata": {
        "colab": {
          "base_uri": "https://localhost:8080/"
        },
        "id": "JZ4BJdD4OvUS",
        "outputId": "d83090cd-9ecf-4816-e97f-516308c32757"
      },
      "source": [
        "X_train.shape"
      ],
      "execution_count": 3,
      "outputs": [
        {
          "output_type": "execute_result",
          "data": {
            "text/plain": [
              "(60000, 28, 28)"
            ]
          },
          "metadata": {},
          "execution_count": 3
        }
      ]
    },
    {
      "cell_type": "code",
      "metadata": {
        "colab": {
          "base_uri": "https://localhost:8080/"
        },
        "id": "8W_wrVAgOvUW",
        "outputId": "dfc7c8f6-9786-4196-b300-7f994caecf8b"
      },
      "source": [
        "X_test.shape"
      ],
      "execution_count": 4,
      "outputs": [
        {
          "output_type": "execute_result",
          "data": {
            "text/plain": [
              "(10000, 28, 28)"
            ]
          },
          "metadata": {},
          "execution_count": 4
        }
      ]
    },
    {
      "cell_type": "code",
      "metadata": {
        "colab": {
          "base_uri": "https://localhost:8080/"
        },
        "id": "L_IeauBROvUX",
        "outputId": "90cf9ee7-8f9e-4eaf-8aeb-5d1c3697f1c5"
      },
      "source": [
        "X_train[0].shape"
      ],
      "execution_count": 5,
      "outputs": [
        {
          "output_type": "execute_result",
          "data": {
            "text/plain": [
              "(28, 28)"
            ]
          },
          "metadata": {},
          "execution_count": 5
        }
      ]
    },
    {
      "cell_type": "code",
      "metadata": {
        "colab": {
          "base_uri": "https://localhost:8080/",
          "height": 292
        },
        "id": "dvjIVlTvOvUY",
        "outputId": "ef6f56ae-2cd1-4727-de19-a247cb0c7d63"
      },
      "source": [
        "plt.matshow(X_train[0])"
      ],
      "execution_count": 6,
      "outputs": [
        {
          "output_type": "execute_result",
          "data": {
            "text/plain": [
              "<matplotlib.image.AxesImage at 0x7f6f9f8cf750>"
            ]
          },
          "metadata": {},
          "execution_count": 6
        },
        {
          "output_type": "display_data",
          "data": {
            "text/plain": [
              "<Figure size 288x288 with 1 Axes>"
            ],
            "image/png": "[encoded data removed]"
          },
          "metadata": {
            "needs_background": "light"
          }
        }
      ]
    },
    {
      "cell_type": "code",
      "metadata": {
        "colab": {
          "base_uri": "https://localhost:8080/"
        },
        "id": "64CiGeIgOvUa",
        "outputId": "93a7dd43-e17b-4653-ffca-b8929ea4417a"
      },
      "source": [
        "y_train[0]"
      ],
      "execution_count": 7,
      "outputs": [
        {
          "output_type": "execute_result",
          "data": {
            "text/plain": [
              "5"
            ]
          },
          "metadata": {},
          "execution_count": 7
        }
      ]
    },
    {
      "cell_type": "code",
      "metadata": {
        "id": "pyAFeNOYOvUd"
      },
      "source": [
        "X_train = X_train / 255\n",
        "X_test = X_test / 255"
      ],
      "execution_count": 8,
      "outputs": []
    },
    {
      "cell_type": "code",
      "source": [
        "X_train_flattened = X_train.reshape(len(X_train), 28*28)\n",
        "X_test_flattened = X_test.reshape(len(X_test), 28*28)"
      ],
      "metadata": {
        "id": "XogYkV9KTyvM"
      },
      "execution_count": 9,
      "outputs": []
    },
    {
      "cell_type": "code",
      "source": [
        "X_train_flattened.shape"
      ],
      "metadata": {
        "colab": {
          "base_uri": "https://localhost:8080/"
        },
        "id": "DQvah_3ST2-X",
        "outputId": "df7f219d-d253-4c39-9417-9750acd54eaa"
      },
      "execution_count": 10,
      "outputs": [
        {
          "output_type": "execute_result",
          "data": {
            "text/plain": [
              "(60000, 784)"
            ]
          },
          "metadata": {},
          "execution_count": 10
        }
      ]
    },
    {
      "cell_type": "markdown",
      "metadata": {
        "id": "tOzyt5UwOvUn"
      },
      "source": [
        "# <h3 style='color:purple'>Using ANN for classification</h3>"
      ]
    },
    {
      "cell_type": "code",
      "metadata": {
        "id": "jX5Y2c2aOvUp"
      },
      "source": [
        "model = model = keras.Sequential([\n",
        "    keras.layers.Dense(100, input_shape=(784,), activation='relu'),\n",
        "    keras.layers.Dense(10, activation='sigmoid')\n",
        "])\n"
      ],
      "execution_count": 11,
      "outputs": []
    },
    {
      "cell_type": "code",
      "metadata": {
        "colab": {
          "base_uri": "https://localhost:8080/"
        },
        "id": "HcOtAHLiPbyX",
        "outputId": "fe09d6e8-d416-4071-b4c5-bdadbc88642a"
      },
      "source": [
        "model.summary()"
      ],
      "execution_count": 12,
      "outputs": [
        {
          "output_type": "stream",
          "name": "stdout",
          "text": [
            "Model: \"sequential\"\n",
            "_________________________________________________________________\n",
            " Layer (type)                Output Shape              Param #   \n",
            "=================================================================\n",
            " dense (Dense)               (None, 100)               78500     \n",
            "                                                                 \n",
            " dense_1 (Dense)             (None, 10)                1010      \n",
            "                                                                 \n",
            "=================================================================\n",
            "Total params: 79,510\n",
            "Trainable params: 79,510\n",
            "Non-trainable params: 0\n",
            "_________________________________________________________________\n"
          ]
        }
      ]
    },
    {
      "cell_type": "code",
      "metadata": {
        "scrolled": true,
        "colab": {
          "base_uri": "https://localhost:8080/"
        },
        "id": "3JeGVJomOvUq",
        "outputId": "ccb63125-fb6e-40a4-e7cd-2c6e06acda1b"
      },
      "source": [
        "model.compile(optimizer='adam',\n",
        "              loss='sparse_categorical_crossentropy',\n",
        "              metrics=['accuracy'])\n",
        "\n",
        "model.fit(X_train_flattened, y_train, epochs=5)"
      ],
      "execution_count": 13,
      "outputs": [
        {
          "output_type": "stream",
          "name": "stdout",
          "text": [
            "Epoch 1/5\n",
            "1875/1875 [==============================] - 9s 4ms/step - loss: 0.2769 - accuracy: 0.9209\n",
            "Epoch 2/5\n",
            "1875/1875 [==============================] - 6s 3ms/step - loss: 0.1261 - accuracy: 0.9624\n",
            "Epoch 3/5\n",
            "1875/1875 [==============================] - 7s 3ms/step - loss: 0.0881 - accuracy: 0.9737\n",
            "Epoch 4/5\n",
            "1875/1875 [==============================] - 7s 4ms/step - loss: 0.0662 - accuracy: 0.9801\n",
            "Epoch 5/5\n",
            "1875/1875 [==============================] - 4s 2ms/step - loss: 0.0531 - accuracy: 0.9835\n"
          ]
        },
        {
          "output_type": "execute_result",
          "data": {
            "text/plain": [
              "<keras.callbacks.History at 0x7f6f9f8cf7d0>"
            ]
          },
          "metadata": {},
          "execution_count": 13
        }
      ]
    },
    {
      "cell_type": "code",
      "metadata": {
        "colab": {
          "base_uri": "https://localhost:8080/"
        },
        "id": "V80mFFE1OvUs",
        "outputId": "6658c763-94e5-4038-bdfa-d9e5bb31a308"
      },
      "source": [
        "y_train[:5]"
      ],
      "execution_count": 14,
      "outputs": [
        {
          "output_type": "execute_result",
          "data": {
            "text/plain": [
              "array([5, 0, 4, 1, 9], dtype=uint8)"
            ]
          },
          "metadata": {},
          "execution_count": 14
        }
      ]
    },
    {
      "cell_type": "code",
      "metadata": {
        "colab": {
          "base_uri": "https://localhost:8080/"
        },
        "id": "VHjYsJ82OvUt",
        "outputId": "08cb20a7-597e-44a5-fd43-2379fed5a0a8"
      },
      "source": [
        "model.evaluate(X_test_flattened,y_test)"
      ],
      "execution_count": 15,
      "outputs": [
        {
          "output_type": "stream",
          "name": "stdout",
          "text": [
            "313/313 [==============================] - 1s 2ms/step - loss: 0.0744 - accuracy: 0.9768\n"
          ]
        },
        {
          "output_type": "execute_result",
          "data": {
            "text/plain": [
              "[0.07443150877952576, 0.9768000245094299]"
            ]
          },
          "metadata": {},
          "execution_count": 15
        }
      ]
    },
    {
      "cell_type": "markdown",
      "source": [
        "## Save and Load Model"
      ],
      "metadata": {
        "id": "yWvqV5LU19Fk"
      }
    },
    {
      "cell_type": "markdown",
      "source": [
        "# Ways we can save and load our machine learning model are as follows:\n",
        "\n",
        "1. Using the inbuilt function model.save()\n",
        "\n",
        "2. Using the inbuilt function model.save_weights()"
      ],
      "metadata": {
        "id": "anV1uEab2Fld"
      }
    },
    {
      "cell_type": "markdown",
      "source": [
        "# **Using save() method**\n",
        "\n",
        "Now we can save our model just by calling the save() method and passing in the filepath as the argument. This will save the model’s\n",
        "\n",
        "Model Architecture\n",
        "\n",
        "Model Weights\n",
        "\n",
        "Model optimizer state (To resume from where we left off)"
      ],
      "metadata": {
        "id": "cu7dieAL2K9X"
      }
    },
    {
      "cell_type": "markdown",
      "source": [
        "Syntax: tensorflow.keras.X.save(location/model_name)\n",
        "\n",
        "Here X refers to Sequential, Functional Model, or Model subclass. All of them have the save() method.\n",
        "\n",
        "The location along with the model name is passed as a parameter in this method.\n",
        "\n",
        "If only the model name is passed then the model is saved in the same location as that of the Python file."
      ],
      "metadata": {
        "id": "rVnqFts02PzH"
      }
    },
    {
      "cell_type": "markdown",
      "source": [
        "We can load the model which was saved using the load_method() present in the tensorflow module.\n",
        "\n",
        "Syntax: tensorflow.keras.models.load_model(location/model_name)\n",
        "\n",
        "The location along with the model name is passed as a parameter in this method.\n",
        "\n",
        "NOTE: If we specify “.h5”, the model will be saved in hdf5 format; if no extension is specified, the model will be saved in TensorFlow native format."
      ],
      "metadata": {
        "id": "_wLzu3bT2Uw-"
      }
    },
    {
      "cell_type": "code",
      "source": [
        ""
      ],
      "metadata": {
        "id": "X-PYj1Em2jmr"
      },
      "execution_count": null,
      "outputs": []
    },
    {
      "cell_type": "code",
      "source": [
        "model.save(\"my_Func_model.h5\")\n",
        "print('Model Saved!')"
      ],
      "metadata": {
        "id": "Omqstgtf2kCu"
      },
      "execution_count": null,
      "outputs": []
    },
    {
      "cell_type": "markdown",
      "source": [
        "# Using save_weights() method"
      ],
      "metadata": {
        "id": "Cs5P0deG2Y_N"
      }
    },
    {
      "cell_type": "markdown",
      "source": [
        "Now you can simply save the weights of all the layers using the save_weights() method. It saves the weights of the layers contained in the model.\n",
        "\n",
        "It is advised to use the save() method to save h5 models instead of save_weights() method for saving a model using tensorflow. However, h5 models can also be saved using save_weights() method."
      ],
      "metadata": {
        "id": "9WRCfyrl2ZEN"
      }
    },
    {
      "cell_type": "markdown",
      "source": [
        "Syntax: tensorflow.keras.Model.save_weights(location/weights_name)\n",
        "\n",
        "The location along with the weights name is passed as a parameter in this method. If only the weights name is passed then it is saved in the same location as that of the Python file."
      ],
      "metadata": {
        "id": "1FpMHHfJ2hHe"
      }
    },
    {
      "cell_type": "code",
      "source": [
        "model.save(\"my_Func_model.h5\")\n",
        "print('Model Saved!')"
      ],
      "metadata": {
        "colab": {
          "base_uri": "https://localhost:8080/"
        },
        "id": "wGf36vAD2mt1",
        "outputId": "85469fc2-a832-45b1-e362-78364a2dd729"
      },
      "execution_count": 16,
      "outputs": [
        {
          "output_type": "stream",
          "name": "stdout",
          "text": [
            "Model Saved!\n"
          ]
        }
      ]
    },
    {
      "cell_type": "code",
      "source": [
        "# load model\n",
        "from tensorflow.keras.models import load_model\n",
        "savedModel=load_model('my_Func_model.h5')\n",
        "savedModel.summary()"
      ],
      "metadata": {
        "colab": {
          "base_uri": "https://localhost:8080/"
        },
        "id": "hte44_aL2p78",
        "outputId": "d9742bfb-1ded-49a6-879d-e3a804fb394c"
      },
      "execution_count": 18,
      "outputs": [
        {
          "output_type": "stream",
          "name": "stdout",
          "text": [
            "Model: \"sequential\"\n",
            "_________________________________________________________________\n",
            " Layer (type)                Output Shape              Param #   \n",
            "=================================================================\n",
            " dense (Dense)               (None, 100)               78500     \n",
            "                                                                 \n",
            " dense_1 (Dense)             (None, 10)                1010      \n",
            "                                                                 \n",
            "=================================================================\n",
            "Total params: 79,510\n",
            "Trainable params: 79,510\n",
            "Non-trainable params: 0\n",
            "_________________________________________________________________\n"
          ]
        }
      ]
    },
    {
      "cell_type": "code",
      "source": [
        "# saving and loading the model weights\n",
        " \n",
        "# save model\n",
        "model.save_weights('gfgModelWeights')\n",
        "print('Model Saved!')"
      ],
      "metadata": {
        "colab": {
          "base_uri": "https://localhost:8080/"
        },
        "id": "86FSTFp721fO",
        "outputId": "adf43198-2ce2-44f1-a608-3ff00741d17c"
      },
      "execution_count": 19,
      "outputs": [
        {
          "output_type": "stream",
          "name": "stdout",
          "text": [
            "Model Saved!\n"
          ]
        }
      ]
    },
    {
      "cell_type": "code",
      "source": [
        "# load model\n",
        "savedModel = model.load_weights('gfgModelWeights')\n",
        "print('Model Loaded!')"
      ],
      "metadata": {
        "colab": {
          "base_uri": "https://localhost:8080/"
        },
        "id": "MSUA_R8G21im",
        "outputId": "f4f73133-71cc-4d9f-b47f-9fc4c6aea305"
      },
      "execution_count": 20,
      "outputs": [
        {
          "output_type": "stream",
          "name": "stdout",
          "text": [
            "Model Loaded!\n"
          ]
        }
      ]
    },
    {
      "cell_type": "code",
      "source": [
        "# saving and loading the .h5 model\n",
        " \n",
        "# save model\n",
        "model.save_weights('gfgModelWeights.h5')\n",
        "print('Model Saved!')"
      ],
      "metadata": {
        "colab": {
          "base_uri": "https://localhost:8080/"
        },
        "id": "8x3rPvJ027lG",
        "outputId": "1d3d8ce5-2a7f-4f77-c6a5-c11c0ae902f4"
      },
      "execution_count": 21,
      "outputs": [
        {
          "output_type": "stream",
          "name": "stdout",
          "text": [
            "Model Saved!\n"
          ]
        }
      ]
    },
    {
      "cell_type": "code",
      "source": [
        "# load model\n",
        "savedModel = model.load_weights('gfgModelWeights.h5')\n",
        "print('Model Loaded!')"
      ],
      "metadata": {
        "colab": {
          "base_uri": "https://localhost:8080/"
        },
        "id": "OneNFhT927og",
        "outputId": "8395dc0d-6d87-4fae-8a33-47f2748e25b4"
      },
      "execution_count": 22,
      "outputs": [
        {
          "output_type": "stream",
          "name": "stdout",
          "text": [
            "Model Loaded!\n"
          ]
        }
      ]
    },
    {
      "cell_type": "code",
      "source": [
        ""
      ],
      "metadata": {
        "id": "Wk-2zLOheQGo"
      },
      "execution_count": null,
      "outputs": []
    }
  ]
}