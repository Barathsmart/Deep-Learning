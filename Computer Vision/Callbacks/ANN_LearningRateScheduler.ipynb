{
  "nbformat": 4,
  "nbformat_minor": 0,
  "metadata": {
    "kernelspec": {
      "display_name": "Python 3",
      "language": "python",
      "name": "python3"
    },
    "language_info": {
      "codemirror_mode": {
        "name": "ipython",
        "version": 3
      },
      "file_extension": ".py",
      "mimetype": "text/x-python",
      "name": "python",
      "nbconvert_exporter": "python",
      "pygments_lexer": "ipython3",
      "version": "3.8.5"
    },
    "colab": {
      "name": "ANN_LearningRateScheduler.ipynb",
      "provenance": [],
      "collapsed_sections": []
    }
  },
  "cells": [
    {
      "cell_type": "markdown",
      "metadata": {
        "id": "-5LlQfLBOvUB"
      },
      "source": [
        "<h2 style=\"color:blue\" align=\"center\">Handwritten digits classification using ANN</h2>"
      ]
    },
    {
      "cell_type": "markdown",
      "metadata": {
        "id": "WhGkTSK-OvUJ"
      },
      "source": [
        "In this notebook we will classify handwritten digits using a simple neural network (ANN) first and than repeat same thing with convolutional neural network. We will see how accuracy improves clickly when you use convolutional neural network."
      ]
    },
    {
      "cell_type": "code",
      "metadata": {
        "id": "alIXxrxAOvUM"
      },
      "source": [
        "import tensorflow as tf\n",
        "from tensorflow import keras\n",
        "from tensorflow.keras import datasets, layers, models\n",
        "import matplotlib.pyplot as plt\n",
        "%matplotlib inline\n",
        "import numpy as np"
      ],
      "execution_count": 1,
      "outputs": []
    },
    {
      "cell_type": "code",
      "metadata": {
        "colab": {
          "base_uri": "https://localhost:8080/"
        },
        "id": "Mros0rldOvUQ",
        "outputId": "a39bcb90-5c29-414d-9f5c-9cb80fe8d48b"
      },
      "source": [
        "(X_train, y_train) , (X_test, y_test) = keras.datasets.mnist.load_data()"
      ],
      "execution_count": 2,
      "outputs": [
        {
          "output_type": "stream",
          "name": "stdout",
          "text": [
            "Downloading data from https://storage.googleapis.com/tensorflow/tf-keras-datasets/mnist.npz\n",
            "11493376/11490434 [==============================] - 0s 0us/step\n",
            "11501568/11490434 [==============================] - 0s 0us/step\n"
          ]
        }
      ]
    },
    {
      "cell_type": "code",
      "metadata": {
        "colab": {
          "base_uri": "https://localhost:8080/"
        },
        "id": "JZ4BJdD4OvUS",
        "outputId": "4158a214-6ac8-4a55-e9fb-8cdd14daddff"
      },
      "source": [
        "X_train.shape"
      ],
      "execution_count": 3,
      "outputs": [
        {
          "output_type": "execute_result",
          "data": {
            "text/plain": [
              "(60000, 28, 28)"
            ]
          },
          "metadata": {},
          "execution_count": 3
        }
      ]
    },
    {
      "cell_type": "code",
      "metadata": {
        "colab": {
          "base_uri": "https://localhost:8080/"
        },
        "id": "8W_wrVAgOvUW",
        "outputId": "a1ac45fe-4d8d-401b-cedf-072900b7e572"
      },
      "source": [
        "X_test.shape"
      ],
      "execution_count": 4,
      "outputs": [
        {
          "output_type": "execute_result",
          "data": {
            "text/plain": [
              "(10000, 28, 28)"
            ]
          },
          "metadata": {},
          "execution_count": 4
        }
      ]
    },
    {
      "cell_type": "code",
      "metadata": {
        "colab": {
          "base_uri": "https://localhost:8080/"
        },
        "id": "L_IeauBROvUX",
        "outputId": "c6fe643e-3b24-4a8e-c4cb-19ecb40af71d"
      },
      "source": [
        "X_train[0].shape"
      ],
      "execution_count": 5,
      "outputs": [
        {
          "output_type": "execute_result",
          "data": {
            "text/plain": [
              "(28, 28)"
            ]
          },
          "metadata": {},
          "execution_count": 5
        }
      ]
    },
    {
      "cell_type": "code",
      "metadata": {
        "colab": {
          "base_uri": "https://localhost:8080/",
          "height": 292
        },
        "id": "dvjIVlTvOvUY",
        "outputId": "f7ddde19-e0ed-47b8-97da-9379626ad73d"
      },
      "source": [
        "plt.matshow(X_train[0])"
      ],
      "execution_count": 6,
      "outputs": [
        {
          "output_type": "execute_result",
          "data": {
            "text/plain": [
              "<matplotlib.image.AxesImage at 0x7f6f61a02310>"
            ]
          },
          "metadata": {},
          "execution_count": 6
        },
        {
          "output_type": "display_data",
          "data": {
            "text/plain": [
              "<Figure size 288x288 with 1 Axes>"
            ],
            "image/png": "[encoded data removed]"
          },
          "metadata": {
            "needs_background": "light"
          }
        }
      ]
    },
    {
      "cell_type": "code",
      "metadata": {
        "colab": {
          "base_uri": "https://localhost:8080/"
        },
        "id": "64CiGeIgOvUa",
        "outputId": "fcc8b326-982e-4cf9-b2ec-80df676172fd"
      },
      "source": [
        "y_train[0]"
      ],
      "execution_count": 7,
      "outputs": [
        {
          "output_type": "execute_result",
          "data": {
            "text/plain": [
              "5"
            ]
          },
          "metadata": {},
          "execution_count": 7
        }
      ]
    },
    {
      "cell_type": "code",
      "metadata": {
        "id": "pyAFeNOYOvUd"
      },
      "source": [
        "X_train = X_train / 255\n",
        "X_test = X_test / 255"
      ],
      "execution_count": 8,
      "outputs": []
    },
    {
      "cell_type": "code",
      "source": [
        "X_train_flattened = X_train.reshape(len(X_train), 28*28)\n",
        "X_test_flattened = X_test.reshape(len(X_test), 28*28)"
      ],
      "metadata": {
        "id": "XogYkV9KTyvM"
      },
      "execution_count": 9,
      "outputs": []
    },
    {
      "cell_type": "code",
      "source": [
        "X_train_flattened.shape"
      ],
      "metadata": {
        "colab": {
          "base_uri": "https://localhost:8080/"
        },
        "id": "DQvah_3ST2-X",
        "outputId": "b7d46aee-726c-4e7e-d97d-362092486590"
      },
      "execution_count": 10,
      "outputs": [
        {
          "output_type": "execute_result",
          "data": {
            "text/plain": [
              "(60000, 784)"
            ]
          },
          "metadata": {},
          "execution_count": 10
        }
      ]
    },
    {
      "cell_type": "markdown",
      "metadata": {
        "id": "tOzyt5UwOvUn"
      },
      "source": [
        "# <h3 style='color:purple'>Using ANN for classification</h3>"
      ]
    },
    {
      "cell_type": "code",
      "metadata": {
        "id": "jX5Y2c2aOvUp"
      },
      "source": [
        "model = model = keras.Sequential([\n",
        "    keras.layers.Dense(100, input_shape=(784,), activation='relu'),\n",
        "    keras.layers.Dense(10, activation='sigmoid')\n",
        "])\n"
      ],
      "execution_count": 11,
      "outputs": []
    },
    {
      "cell_type": "code",
      "metadata": {
        "colab": {
          "base_uri": "https://localhost:8080/"
        },
        "id": "HcOtAHLiPbyX",
        "outputId": "4ba81a19-5976-47aa-b5b0-3d671a5d1de2"
      },
      "source": [
        "model.summary()"
      ],
      "execution_count": 12,
      "outputs": [
        {
          "output_type": "stream",
          "name": "stdout",
          "text": [
            "Model: \"sequential\"\n",
            "_________________________________________________________________\n",
            " Layer (type)                Output Shape              Param #   \n",
            "=================================================================\n",
            " dense (Dense)               (None, 100)               78500     \n",
            "                                                                 \n",
            " dense_1 (Dense)             (None, 10)                1010      \n",
            "                                                                 \n",
            "=================================================================\n",
            "Total params: 79,510\n",
            "Trainable params: 79,510\n",
            "Non-trainable params: 0\n",
            "_________________________________________________________________\n"
          ]
        }
      ]
    },
    {
      "cell_type": "code",
      "metadata": {
        "scrolled": true,
        "colab": {
          "base_uri": "https://localhost:8080/"
        },
        "id": "3JeGVJomOvUq",
        "outputId": "d1f4d70b-7e9d-402f-9497-cfab1491a24a"
      },
      "source": [
        "model.compile(optimizer='adam',\n",
        "              loss='sparse_categorical_crossentropy',\n",
        "              metrics=['accuracy'])\n",
        "\n",
        "model.fit(X_train_flattened, y_train, epochs=5)"
      ],
      "execution_count": 13,
      "outputs": [
        {
          "output_type": "stream",
          "name": "stdout",
          "text": [
            "Epoch 1/5\n",
            "1875/1875 [==============================] - 8s 4ms/step - loss: 0.2736 - accuracy: 0.9225\n",
            "Epoch 2/5\n",
            "1875/1875 [==============================] - 8s 4ms/step - loss: 0.1231 - accuracy: 0.9638\n",
            "Epoch 3/5\n",
            "1875/1875 [==============================] - 4s 2ms/step - loss: 0.0861 - accuracy: 0.9736\n",
            "Epoch 4/5\n",
            "1875/1875 [==============================] - 5s 3ms/step - loss: 0.0664 - accuracy: 0.9798\n",
            "Epoch 5/5\n",
            "1875/1875 [==============================] - 6s 3ms/step - loss: 0.0537 - accuracy: 0.9836\n"
          ]
        },
        {
          "output_type": "execute_result",
          "data": {
            "text/plain": [
              "<keras.callbacks.History at 0x7f6f5d39bc50>"
            ]
          },
          "metadata": {},
          "execution_count": 13
        }
      ]
    },
    {
      "cell_type": "code",
      "metadata": {
        "colab": {
          "base_uri": "https://localhost:8080/"
        },
        "id": "V80mFFE1OvUs",
        "outputId": "614bd179-e385-4a3e-d95d-afe52a9df891"
      },
      "source": [
        "y_train[:5]"
      ],
      "execution_count": 14,
      "outputs": [
        {
          "output_type": "execute_result",
          "data": {
            "text/plain": [
              "array([5, 0, 4, 1, 9], dtype=uint8)"
            ]
          },
          "metadata": {},
          "execution_count": 14
        }
      ]
    },
    {
      "cell_type": "code",
      "metadata": {
        "colab": {
          "base_uri": "https://localhost:8080/"
        },
        "id": "VHjYsJ82OvUt",
        "outputId": "d430700b-8d49-4cb7-ec43-357c2c1faf9c"
      },
      "source": [
        "model.evaluate(X_test_flattened,y_test)"
      ],
      "execution_count": 15,
      "outputs": [
        {
          "output_type": "stream",
          "name": "stdout",
          "text": [
            "313/313 [==============================] - 1s 2ms/step - loss: 0.0801 - accuracy: 0.9748\n"
          ]
        },
        {
          "output_type": "execute_result",
          "data": {
            "text/plain": [
              "[0.08005133271217346, 0.9747999906539917]"
            ]
          },
          "metadata": {},
          "execution_count": 15
        }
      ]
    },
    {
      "cell_type": "markdown",
      "source": [
        "# Callbacks"
      ],
      "metadata": {
        "id": "U2xvA0EkYfY5"
      }
    },
    {
      "cell_type": "code",
      "source": [
        "from tensorflow.keras.callbacks import Callback, CSVLogger, EarlyStopping, LearningRateScheduler, ModelCheckpoint, ReduceLROnPlateau"
      ],
      "metadata": {
        "id": "9_SXn0KmYjLx"
      },
      "execution_count": 16,
      "outputs": []
    },
    {
      "cell_type": "markdown",
      "source": [
        "# ModelCheckpoint"
      ],
      "metadata": {
        "id": "kzIZ9_-bYCRp"
      }
    },
    {
      "cell_type": "code",
      "source": [
        "model = model = keras.Sequential([\n",
        "    keras.layers.Dense(100, input_shape=(784,), activation='relu'),\n",
        "    keras.layers.Dense(10, activation='sigmoid')\n",
        "])"
      ],
      "metadata": {
        "id": "7oa9wQqTYBlM"
      },
      "execution_count": 17,
      "outputs": []
    },
    {
      "cell_type": "code",
      "source": [
        "model.compile(optimizer='adam',\n",
        "              loss='sparse_categorical_crossentropy',\n",
        "              metrics=['accuracy'])"
      ],
      "metadata": {
        "id": "reP97q2nYBop"
      },
      "execution_count": 18,
      "outputs": []
    },
    {
      "cell_type": "code",
      "source": [
        "def scheduler(epoch, learning_rate):\n",
        "  if epoch < 15:\n",
        "    return learning_rate\n",
        "  else:\n",
        "    return learning_rate * 0.99"
      ],
      "metadata": {
        "id": "ph05eUdoaGuv"
      },
      "execution_count": 19,
      "outputs": []
    },
    {
      "cell_type": "code",
      "source": [
        "checkpoint = LearningRateScheduler(scheduler,verbose = 1)"
      ],
      "metadata": {
        "id": "9hQmb6w_aG_o"
      },
      "execution_count": 20,
      "outputs": []
    },
    {
      "cell_type": "code",
      "source": [
        "model.fit(X_train_flattened, y_train, epochs=50, batch_size=128, validation_data=(X_test_flattened,y_test), callbacks=[checkpoint])"
      ],
      "metadata": {
        "colab": {
          "base_uri": "https://localhost:8080/"
        },
        "id": "TeQL75jGYabl",
        "outputId": "5e6e7a15-3e6d-4045-b5de-a37512359ba6"
      },
      "execution_count": 21,
      "outputs": [
        {
          "output_type": "stream",
          "name": "stdout",
          "text": [
            "\n",
            "Epoch 1: LearningRateScheduler setting learning rate to 0.0010000000474974513.\n",
            "Epoch 1/50\n",
            "469/469 [==============================] - 3s 5ms/step - loss: 0.3855 - accuracy: 0.8937 - val_loss: 0.2179 - val_accuracy: 0.9398 - lr: 0.0010\n",
            "\n",
            "Epoch 2: LearningRateScheduler setting learning rate to 0.0010000000474974513.\n",
            "Epoch 2/50\n",
            "469/469 [==============================] - 2s 5ms/step - loss: 0.1875 - accuracy: 0.9470 - val_loss: 0.1537 - val_accuracy: 0.9562 - lr: 0.0010\n",
            "\n",
            "Epoch 3: LearningRateScheduler setting learning rate to 0.0010000000474974513.\n",
            "Epoch 3/50\n",
            "469/469 [==============================] - 3s 5ms/step - loss: 0.1383 - accuracy: 0.9608 - val_loss: 0.1260 - val_accuracy: 0.9648 - lr: 0.0010\n",
            "\n",
            "Epoch 4: LearningRateScheduler setting learning rate to 0.0010000000474974513.\n",
            "Epoch 4/50\n",
            "469/469 [==============================] - 2s 4ms/step - loss: 0.1092 - accuracy: 0.9686 - val_loss: 0.1127 - val_accuracy: 0.9675 - lr: 0.0010\n",
            "\n",
            "Epoch 5: LearningRateScheduler setting learning rate to 0.0010000000474974513.\n",
            "Epoch 5/50\n",
            "469/469 [==============================] - 2s 5ms/step - loss: 0.0903 - accuracy: 0.9737 - val_loss: 0.1015 - val_accuracy: 0.9701 - lr: 0.0010\n",
            "\n",
            "Epoch 6: LearningRateScheduler setting learning rate to 0.0010000000474974513.\n",
            "Epoch 6/50\n",
            "469/469 [==============================] - 2s 4ms/step - loss: 0.0758 - accuracy: 0.9782 - val_loss: 0.0872 - val_accuracy: 0.9737 - lr: 0.0010\n",
            "\n",
            "Epoch 7: LearningRateScheduler setting learning rate to 0.0010000000474974513.\n",
            "Epoch 7/50\n",
            "469/469 [==============================] - 2s 4ms/step - loss: 0.0655 - accuracy: 0.9809 - val_loss: 0.0859 - val_accuracy: 0.9732 - lr: 0.0010\n",
            "\n",
            "Epoch 8: LearningRateScheduler setting learning rate to 0.0010000000474974513.\n",
            "Epoch 8/50\n",
            "469/469 [==============================] - 2s 4ms/step - loss: 0.0567 - accuracy: 0.9839 - val_loss: 0.0832 - val_accuracy: 0.9745 - lr: 0.0010\n",
            "\n",
            "Epoch 9: LearningRateScheduler setting learning rate to 0.0010000000474974513.\n",
            "Epoch 9/50\n",
            "469/469 [==============================] - 2s 4ms/step - loss: 0.0487 - accuracy: 0.9861 - val_loss: 0.0793 - val_accuracy: 0.9758 - lr: 0.0010\n",
            "\n",
            "Epoch 10: LearningRateScheduler setting learning rate to 0.0010000000474974513.\n",
            "Epoch 10/50\n",
            "469/469 [==============================] - 2s 4ms/step - loss: 0.0428 - accuracy: 0.9878 - val_loss: 0.0824 - val_accuracy: 0.9747 - lr: 0.0010\n",
            "\n",
            "Epoch 11: LearningRateScheduler setting learning rate to 0.0010000000474974513.\n",
            "Epoch 11/50\n",
            "469/469 [==============================] - 2s 4ms/step - loss: 0.0376 - accuracy: 0.9898 - val_loss: 0.0758 - val_accuracy: 0.9760 - lr: 0.0010\n",
            "\n",
            "Epoch 12: LearningRateScheduler setting learning rate to 0.0010000000474974513.\n",
            "Epoch 12/50\n",
            "469/469 [==============================] - 2s 5ms/step - loss: 0.0330 - accuracy: 0.9912 - val_loss: 0.0782 - val_accuracy: 0.9773 - lr: 0.0010\n",
            "\n",
            "Epoch 13: LearningRateScheduler setting learning rate to 0.0010000000474974513.\n",
            "Epoch 13/50\n",
            "469/469 [==============================] - 2s 4ms/step - loss: 0.0281 - accuracy: 0.9925 - val_loss: 0.0762 - val_accuracy: 0.9758 - lr: 0.0010\n",
            "\n",
            "Epoch 14: LearningRateScheduler setting learning rate to 0.0010000000474974513.\n",
            "Epoch 14/50\n",
            "469/469 [==============================] - 2s 4ms/step - loss: 0.0257 - accuracy: 0.9931 - val_loss: 0.0735 - val_accuracy: 0.9782 - lr: 0.0010\n",
            "\n",
            "Epoch 15: LearningRateScheduler setting learning rate to 0.0010000000474974513.\n",
            "Epoch 15/50\n",
            "469/469 [==============================] - 2s 5ms/step - loss: 0.0226 - accuracy: 0.9943 - val_loss: 0.0810 - val_accuracy: 0.9763 - lr: 0.0010\n",
            "\n",
            "Epoch 16: LearningRateScheduler setting learning rate to 0.0009900000470224768.\n",
            "Epoch 16/50\n",
            "469/469 [==============================] - 2s 5ms/step - loss: 0.0201 - accuracy: 0.9947 - val_loss: 0.0777 - val_accuracy: 0.9770 - lr: 9.9000e-04\n",
            "\n",
            "Epoch 17: LearningRateScheduler setting learning rate to 0.000980100086890161.\n",
            "Epoch 17/50\n",
            "469/469 [==============================] - 2s 5ms/step - loss: 0.0172 - accuracy: 0.9962 - val_loss: 0.0777 - val_accuracy: 0.9770 - lr: 9.8010e-04\n",
            "\n",
            "Epoch 18: LearningRateScheduler setting learning rate to 0.0009702991275116801.\n",
            "Epoch 18/50\n",
            "469/469 [==============================] - 2s 5ms/step - loss: 0.0148 - accuracy: 0.9968 - val_loss: 0.0836 - val_accuracy: 0.9757 - lr: 9.7030e-04\n",
            "\n",
            "Epoch 19: LearningRateScheduler setting learning rate to 0.0009605961316265165.\n",
            "Epoch 19/50\n",
            "469/469 [==============================] - 2s 4ms/step - loss: 0.0134 - accuracy: 0.9970 - val_loss: 0.0811 - val_accuracy: 0.9778 - lr: 9.6060e-04\n",
            "\n",
            "Epoch 20: LearningRateScheduler setting learning rate to 0.0009509901772253215.\n",
            "Epoch 20/50\n",
            "469/469 [==============================] - 2s 5ms/step - loss: 0.0116 - accuracy: 0.9977 - val_loss: 0.0780 - val_accuracy: 0.9787 - lr: 9.5099e-04\n",
            "\n",
            "Epoch 21: LearningRateScheduler setting learning rate to 0.0009414802846731617.\n",
            "Epoch 21/50\n",
            "469/469 [==============================] - 2s 4ms/step - loss: 0.0100 - accuracy: 0.9981 - val_loss: 0.0843 - val_accuracy: 0.9781 - lr: 9.4148e-04\n",
            "\n",
            "Epoch 22: LearningRateScheduler setting learning rate to 0.0009320654743351042.\n",
            "Epoch 22/50\n",
            "469/469 [==============================] - 2s 5ms/step - loss: 0.0087 - accuracy: 0.9985 - val_loss: 0.0812 - val_accuracy: 0.9774 - lr: 9.3207e-04\n",
            "\n",
            "Epoch 23: LearningRateScheduler setting learning rate to 0.0009227448242017999.\n",
            "Epoch 23/50\n",
            "469/469 [==============================] - 2s 5ms/step - loss: 0.0073 - accuracy: 0.9990 - val_loss: 0.0852 - val_accuracy: 0.9773 - lr: 9.2274e-04\n",
            "\n",
            "Epoch 24: LearningRateScheduler setting learning rate to 0.0009135173546383158.\n",
            "Epoch 24/50\n",
            "469/469 [==============================] - 2s 5ms/step - loss: 0.0070 - accuracy: 0.9988 - val_loss: 0.0819 - val_accuracy: 0.9774 - lr: 9.1352e-04\n",
            "\n",
            "Epoch 25: LearningRateScheduler setting learning rate to 0.0009043822012608871.\n",
            "Epoch 25/50\n",
            "469/469 [==============================] - 2s 5ms/step - loss: 0.0061 - accuracy: 0.9991 - val_loss: 0.0831 - val_accuracy: 0.9777 - lr: 9.0438e-04\n",
            "\n",
            "Epoch 26: LearningRateScheduler setting learning rate to 0.0008953383844345808.\n",
            "Epoch 26/50\n",
            "469/469 [==============================] - 2s 5ms/step - loss: 0.0055 - accuracy: 0.9992 - val_loss: 0.0876 - val_accuracy: 0.9786 - lr: 8.9534e-04\n",
            "\n",
            "Epoch 27: LearningRateScheduler setting learning rate to 0.000886384982150048.\n",
            "Epoch 27/50\n",
            "469/469 [==============================] - 2s 5ms/step - loss: 0.0041 - accuracy: 0.9996 - val_loss: 0.0868 - val_accuracy: 0.9786 - lr: 8.8638e-04\n",
            "\n",
            "Epoch 28: LearningRateScheduler setting learning rate to 0.0008775211300235242.\n",
            "Epoch 28/50\n",
            "469/469 [==============================] - 2s 4ms/step - loss: 0.0041 - accuracy: 0.9995 - val_loss: 0.0900 - val_accuracy: 0.9769 - lr: 8.7752e-04\n",
            "\n",
            "Epoch 29: LearningRateScheduler setting learning rate to 0.0008687459060456604.\n",
            "Epoch 29/50\n",
            "469/469 [==============================] - 2s 5ms/step - loss: 0.0043 - accuracy: 0.9994 - val_loss: 0.0946 - val_accuracy: 0.9780 - lr: 8.6875e-04\n",
            "\n",
            "Epoch 30: LearningRateScheduler setting learning rate to 0.0008600584458326921.\n",
            "Epoch 30/50\n",
            "469/469 [==============================] - 2s 4ms/step - loss: 0.0031 - accuracy: 0.9998 - val_loss: 0.0942 - val_accuracy: 0.9767 - lr: 8.6006e-04\n",
            "\n",
            "Epoch 31: LearningRateScheduler setting learning rate to 0.0008514578850008547.\n",
            "Epoch 31/50\n",
            "469/469 [==============================] - 2s 4ms/step - loss: 0.0026 - accuracy: 0.9998 - val_loss: 0.0911 - val_accuracy: 0.9789 - lr: 8.5146e-04\n",
            "\n",
            "Epoch 32: LearningRateScheduler setting learning rate to 0.0008429433015407995.\n",
            "Epoch 32/50\n",
            "469/469 [==============================] - 2s 4ms/step - loss: 0.0044 - accuracy: 0.9991 - val_loss: 0.1045 - val_accuracy: 0.9759 - lr: 8.4294e-04\n",
            "\n",
            "Epoch 33: LearningRateScheduler setting learning rate to 0.0008345138886943459.\n",
            "Epoch 33/50\n",
            "469/469 [==============================] - 2s 5ms/step - loss: 0.0035 - accuracy: 0.9994 - val_loss: 0.0908 - val_accuracy: 0.9796 - lr: 8.3451e-04\n",
            "\n",
            "Epoch 34: LearningRateScheduler setting learning rate to 0.0008261687244521454.\n",
            "Epoch 34/50\n",
            "469/469 [==============================] - 2s 5ms/step - loss: 0.0017 - accuracy: 1.0000 - val_loss: 0.0920 - val_accuracy: 0.9796 - lr: 8.2617e-04\n",
            "\n",
            "Epoch 35: LearningRateScheduler setting learning rate to 0.0008179070596816018.\n",
            "Epoch 35/50\n",
            "469/469 [==============================] - 2s 4ms/step - loss: 0.0012 - accuracy: 1.0000 - val_loss: 0.0931 - val_accuracy: 0.9797 - lr: 8.1791e-04\n",
            "\n",
            "Epoch 36: LearningRateScheduler setting learning rate to 0.0008097279723733664.\n",
            "Epoch 36/50\n",
            "469/469 [==============================] - 2s 5ms/step - loss: 0.0012 - accuracy: 1.0000 - val_loss: 0.0942 - val_accuracy: 0.9788 - lr: 8.0973e-04\n",
            "\n",
            "Epoch 37: LearningRateScheduler setting learning rate to 0.000801630713394843.\n",
            "Epoch 37/50\n",
            "469/469 [==============================] - 2s 4ms/step - loss: 0.0015 - accuracy: 0.9998 - val_loss: 0.0947 - val_accuracy: 0.9794 - lr: 8.0163e-04\n",
            "\n",
            "Epoch 38: LearningRateScheduler setting learning rate to 0.0007936144183622674.\n",
            "Epoch 38/50\n",
            "469/469 [==============================] - 2s 5ms/step - loss: 0.0019 - accuracy: 0.9998 - val_loss: 0.1074 - val_accuracy: 0.9763 - lr: 7.9361e-04\n",
            "\n",
            "Epoch 39: LearningRateScheduler setting learning rate to 0.0007856782805174589.\n",
            "Epoch 39/50\n",
            "469/469 [==============================] - 2s 5ms/step - loss: 0.0057 - accuracy: 0.9984 - val_loss: 0.1145 - val_accuracy: 0.9764 - lr: 7.8568e-04\n",
            "\n",
            "Epoch 40: LearningRateScheduler setting learning rate to 0.0007778214931022376.\n",
            "Epoch 40/50\n",
            "469/469 [==============================] - 2s 5ms/step - loss: 0.0017 - accuracy: 0.9998 - val_loss: 0.1012 - val_accuracy: 0.9786 - lr: 7.7782e-04\n",
            "\n",
            "Epoch 41: LearningRateScheduler setting learning rate to 0.0007700433069840073.\n",
            "Epoch 41/50\n",
            "469/469 [==============================] - 2s 4ms/step - loss: 7.2218e-04 - accuracy: 1.0000 - val_loss: 0.0999 - val_accuracy: 0.9795 - lr: 7.7004e-04\n",
            "\n",
            "Epoch 42: LearningRateScheduler setting learning rate to 0.0007623428577790037.\n",
            "Epoch 42/50\n",
            "469/469 [==============================] - 2s 5ms/step - loss: 7.7337e-04 - accuracy: 1.0000 - val_loss: 0.1008 - val_accuracy: 0.9799 - lr: 7.6234e-04\n",
            "\n",
            "Epoch 43: LearningRateScheduler setting learning rate to 0.0007547194539802149.\n",
            "Epoch 43/50\n",
            "469/469 [==============================] - 2s 4ms/step - loss: 5.8916e-04 - accuracy: 1.0000 - val_loss: 0.1023 - val_accuracy: 0.9797 - lr: 7.5472e-04\n",
            "\n",
            "Epoch 44: LearningRateScheduler setting learning rate to 0.0007471722312038764.\n",
            "Epoch 44/50\n",
            "469/469 [==============================] - 2s 4ms/step - loss: 4.9003e-04 - accuracy: 1.0000 - val_loss: 0.1020 - val_accuracy: 0.9790 - lr: 7.4717e-04\n",
            "\n",
            "Epoch 45: LearningRateScheduler setting learning rate to 0.0007397004979429766.\n",
            "Epoch 45/50\n",
            "469/469 [==============================] - 2s 5ms/step - loss: 4.4636e-04 - accuracy: 1.0000 - val_loss: 0.1026 - val_accuracy: 0.9788 - lr: 7.3970e-04\n",
            "\n",
            "Epoch 46: LearningRateScheduler setting learning rate to 0.0007323035050649196.\n",
            "Epoch 46/50\n",
            "469/469 [==============================] - 2s 5ms/step - loss: 5.4324e-04 - accuracy: 1.0000 - val_loss: 0.1176 - val_accuracy: 0.9780 - lr: 7.3230e-04\n",
            "\n",
            "Epoch 47: LearningRateScheduler setting learning rate to 0.000724980445811525.\n",
            "Epoch 47/50\n",
            "469/469 [==============================] - 2s 5ms/step - loss: 0.0080 - accuracy: 0.9975 - val_loss: 0.1086 - val_accuracy: 0.9783 - lr: 7.2498e-04\n",
            "\n",
            "Epoch 48: LearningRateScheduler setting learning rate to 0.0007177306286757812.\n",
            "Epoch 48/50\n",
            "469/469 [==============================] - 2s 4ms/step - loss: 7.3525e-04 - accuracy: 1.0000 - val_loss: 0.1055 - val_accuracy: 0.9789 - lr: 7.1773e-04\n",
            "\n",
            "Epoch 49: LearningRateScheduler setting learning rate to 0.0007105533045250923.\n",
            "Epoch 49/50\n",
            "469/469 [==============================] - 2s 4ms/step - loss: 4.5096e-04 - accuracy: 1.0000 - val_loss: 0.1051 - val_accuracy: 0.9797 - lr: 7.1055e-04\n",
            "\n",
            "Epoch 50: LearningRateScheduler setting learning rate to 0.0007034477818524464.\n",
            "Epoch 50/50\n",
            "469/469 [==============================] - 2s 4ms/step - loss: 3.8209e-04 - accuracy: 1.0000 - val_loss: 0.1055 - val_accuracy: 0.9796 - lr: 7.0345e-04\n"
          ]
        },
        {
          "output_type": "execute_result",
          "data": {
            "text/plain": [
              "<keras.callbacks.History at 0x7f6f5d267090>"
            ]
          },
          "metadata": {},
          "execution_count": 21
        }
      ]
    },
    {
      "cell_type": "code",
      "source": [
        "# accuracy on validation set\n",
        "\n",
        "model.evaluate(X_test_flattened,y_test)"
      ],
      "metadata": {
        "colab": {
          "base_uri": "https://localhost:8080/"
        },
        "id": "B4SlkZmDYoHf",
        "outputId": "fba3ab16-fdfb-474a-f4bf-9dc4ae653829"
      },
      "execution_count": 22,
      "outputs": [
        {
          "output_type": "stream",
          "name": "stdout",
          "text": [
            "313/313 [==============================] - 1s 2ms/step - loss: 0.1055 - accuracy: 0.9796\n"
          ]
        },
        {
          "output_type": "execute_result",
          "data": {
            "text/plain": [
              "[0.10554515570402145, 0.9796000123023987]"
            ]
          },
          "metadata": {},
          "execution_count": 22
        }
      ]
    },
    {
      "cell_type": "code",
      "source": [
        "model.evaluate(X_test_flattened,y_test)"
      ],
      "metadata": {
        "colab": {
          "base_uri": "https://localhost:8080/"
        },
        "id": "Nh9rwYRdYxCv",
        "outputId": "83b41417-a04b-4482-aaad-d8697bea8327"
      },
      "execution_count": 24,
      "outputs": [
        {
          "output_type": "stream",
          "name": "stdout",
          "text": [
            "313/313 [==============================] - 1s 2ms/step - loss: 0.1055 - accuracy: 0.9796\n"
          ]
        },
        {
          "output_type": "execute_result",
          "data": {
            "text/plain": [
              "[0.10554515570402145, 0.9796000123023987]"
            ]
          },
          "metadata": {},
          "execution_count": 24
        }
      ]
    },
    {
      "cell_type": "code",
      "source": [
        ""
      ],
      "metadata": {
        "id": "Wk-2zLOheQGo"
      },
      "execution_count": null,
      "outputs": []
    }
  ]
}