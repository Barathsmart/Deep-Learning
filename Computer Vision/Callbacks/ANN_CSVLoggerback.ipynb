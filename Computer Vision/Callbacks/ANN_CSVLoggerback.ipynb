{
  "nbformat": 4,
  "nbformat_minor": 0,
  "metadata": {
    "kernelspec": {
      "display_name": "Python 3",
      "language": "python",
      "name": "python3"
    },
    "language_info": {
      "codemirror_mode": {
        "name": "ipython",
        "version": 3
      },
      "file_extension": ".py",
      "mimetype": "text/x-python",
      "name": "python",
      "nbconvert_exporter": "python",
      "pygments_lexer": "ipython3",
      "version": "3.8.5"
    },
    "colab": {
      "name": "ANN_CSVLoggerback.ipynb",
      "provenance": [],
      "collapsed_sections": []
    }
  },
  "cells": [
    {
      "cell_type": "markdown",
      "metadata": {
        "id": "-5LlQfLBOvUB"
      },
      "source": [
        "<h2 style=\"color:blue\" align=\"center\">Handwritten digits classification using ANN</h2>"
      ]
    },
    {
      "cell_type": "markdown",
      "metadata": {
        "id": "WhGkTSK-OvUJ"
      },
      "source": [
        "In this notebook we will classify handwritten digits using a simple neural network (ANN) first and than repeat same thing with convolutional neural network. We will see how accuracy improves clickly when you use convolutional neural network."
      ]
    },
    {
      "cell_type": "code",
      "metadata": {
        "id": "alIXxrxAOvUM"
      },
      "source": [
        "import tensorflow as tf\n",
        "from tensorflow import keras\n",
        "from tensorflow.keras import datasets, layers, models\n",
        "import matplotlib.pyplot as plt\n",
        "%matplotlib inline\n",
        "import numpy as np"
      ],
      "execution_count": 1,
      "outputs": []
    },
    {
      "cell_type": "code",
      "metadata": {
        "colab": {
          "base_uri": "https://localhost:8080/"
        },
        "id": "Mros0rldOvUQ",
        "outputId": "57a8f913-70d3-4baf-bb73-991d31e7fbe0"
      },
      "source": [
        "(X_train, y_train) , (X_test, y_test) = keras.datasets.mnist.load_data()"
      ],
      "execution_count": 2,
      "outputs": [
        {
          "output_type": "stream",
          "name": "stdout",
          "text": [
            "Downloading data from https://storage.googleapis.com/tensorflow/tf-keras-datasets/mnist.npz\n",
            "11493376/11490434 [==============================] - 0s 0us/step\n",
            "11501568/11490434 [==============================] - 0s 0us/step\n"
          ]
        }
      ]
    },
    {
      "cell_type": "code",
      "metadata": {
        "colab": {
          "base_uri": "https://localhost:8080/"
        },
        "id": "JZ4BJdD4OvUS",
        "outputId": "9cdc52f5-82ba-473f-f51a-7c1f8bb21c2b"
      },
      "source": [
        "X_train.shape"
      ],
      "execution_count": 3,
      "outputs": [
        {
          "output_type": "execute_result",
          "data": {
            "text/plain": [
              "(60000, 28, 28)"
            ]
          },
          "metadata": {},
          "execution_count": 3
        }
      ]
    },
    {
      "cell_type": "code",
      "metadata": {
        "colab": {
          "base_uri": "https://localhost:8080/"
        },
        "id": "8W_wrVAgOvUW",
        "outputId": "eda7a133-20d5-4794-820a-80d34ad4f985"
      },
      "source": [
        "X_test.shape"
      ],
      "execution_count": 4,
      "outputs": [
        {
          "output_type": "execute_result",
          "data": {
            "text/plain": [
              "(10000, 28, 28)"
            ]
          },
          "metadata": {},
          "execution_count": 4
        }
      ]
    },
    {
      "cell_type": "code",
      "metadata": {
        "colab": {
          "base_uri": "https://localhost:8080/"
        },
        "id": "L_IeauBROvUX",
        "outputId": "a73ece77-aa97-4d1d-ac02-d80abd6485f4"
      },
      "source": [
        "X_train[0].shape"
      ],
      "execution_count": 5,
      "outputs": [
        {
          "output_type": "execute_result",
          "data": {
            "text/plain": [
              "(28, 28)"
            ]
          },
          "metadata": {},
          "execution_count": 5
        }
      ]
    },
    {
      "cell_type": "code",
      "metadata": {
        "colab": {
          "base_uri": "https://localhost:8080/",
          "height": 292
        },
        "id": "dvjIVlTvOvUY",
        "outputId": "8927a902-2995-4a22-8b8f-935cfb6553e9"
      },
      "source": [
        "plt.matshow(X_train[0])"
      ],
      "execution_count": 6,
      "outputs": [
        {
          "output_type": "execute_result",
          "data": {
            "text/plain": [
              "<matplotlib.image.AxesImage at 0x7f169d8057d0>"
            ]
          },
          "metadata": {},
          "execution_count": 6
        },
        {
          "output_type": "display_data",
          "data": {
            "text/plain": [
              "<Figure size 288x288 with 1 Axes>"
            ],
            "image/png": "[encoded data removed]"
          },
          "metadata": {
            "needs_background": "light"
          }
        }
      ]
    },
    {
      "cell_type": "code",
      "metadata": {
        "colab": {
          "base_uri": "https://localhost:8080/"
        },
        "id": "64CiGeIgOvUa",
        "outputId": "5af954b7-85eb-40f8-9fc9-368659a05f6d"
      },
      "source": [
        "y_train[0]"
      ],
      "execution_count": 7,
      "outputs": [
        {
          "output_type": "execute_result",
          "data": {
            "text/plain": [
              "5"
            ]
          },
          "metadata": {},
          "execution_count": 7
        }
      ]
    },
    {
      "cell_type": "code",
      "metadata": {
        "id": "pyAFeNOYOvUd"
      },
      "source": [
        "X_train = X_train / 255\n",
        "X_test = X_test / 255"
      ],
      "execution_count": 8,
      "outputs": []
    },
    {
      "cell_type": "code",
      "source": [
        "X_train_flattened = X_train.reshape(len(X_train), 28*28)\n",
        "X_test_flattened = X_test.reshape(len(X_test), 28*28)"
      ],
      "metadata": {
        "id": "XogYkV9KTyvM"
      },
      "execution_count": 9,
      "outputs": []
    },
    {
      "cell_type": "code",
      "source": [
        "X_train_flattened.shape"
      ],
      "metadata": {
        "colab": {
          "base_uri": "https://localhost:8080/"
        },
        "id": "DQvah_3ST2-X",
        "outputId": "7d40c30a-ad73-4200-805b-ef579f014607"
      },
      "execution_count": 10,
      "outputs": [
        {
          "output_type": "execute_result",
          "data": {
            "text/plain": [
              "(60000, 784)"
            ]
          },
          "metadata": {},
          "execution_count": 10
        }
      ]
    },
    {
      "cell_type": "markdown",
      "metadata": {
        "id": "tOzyt5UwOvUn"
      },
      "source": [
        "# <h3 style='color:purple'>Using ANN for classification</h3>"
      ]
    },
    {
      "cell_type": "code",
      "metadata": {
        "id": "jX5Y2c2aOvUp"
      },
      "source": [
        "model = model = keras.Sequential([\n",
        "    keras.layers.Dense(100, input_shape=(784,), activation='relu'),\n",
        "    keras.layers.Dense(10, activation='sigmoid')\n",
        "])\n"
      ],
      "execution_count": 11,
      "outputs": []
    },
    {
      "cell_type": "code",
      "metadata": {
        "colab": {
          "base_uri": "https://localhost:8080/"
        },
        "id": "HcOtAHLiPbyX",
        "outputId": "5b3015b8-4870-445c-9fa1-fbb1b2789c9e"
      },
      "source": [
        "model.summary()"
      ],
      "execution_count": 12,
      "outputs": [
        {
          "output_type": "stream",
          "name": "stdout",
          "text": [
            "Model: \"sequential\"\n",
            "_________________________________________________________________\n",
            " Layer (type)                Output Shape              Param #   \n",
            "=================================================================\n",
            " dense (Dense)               (None, 100)               78500     \n",
            "                                                                 \n",
            " dense_1 (Dense)             (None, 10)                1010      \n",
            "                                                                 \n",
            "=================================================================\n",
            "Total params: 79,510\n",
            "Trainable params: 79,510\n",
            "Non-trainable params: 0\n",
            "_________________________________________________________________\n"
          ]
        }
      ]
    },
    {
      "cell_type": "code",
      "metadata": {
        "scrolled": true,
        "colab": {
          "base_uri": "https://localhost:8080/"
        },
        "id": "3JeGVJomOvUq",
        "outputId": "09316d9d-c6a3-40df-b1a0-9cd6fc6e7992"
      },
      "source": [
        "model.compile(optimizer='adam',\n",
        "              loss='sparse_categorical_crossentropy',\n",
        "              metrics=['accuracy'])\n",
        "\n",
        "model.fit(X_train_flattened, y_train, epochs=5)"
      ],
      "execution_count": 13,
      "outputs": [
        {
          "output_type": "stream",
          "name": "stdout",
          "text": [
            "Epoch 1/5\n",
            "1875/1875 [==============================] - 7s 3ms/step - loss: 0.2745 - accuracy: 0.9224\n",
            "Epoch 2/5\n",
            "1875/1875 [==============================] - 6s 3ms/step - loss: 0.1213 - accuracy: 0.9641\n",
            "Epoch 3/5\n",
            "1875/1875 [==============================] - 4s 2ms/step - loss: 0.0856 - accuracy: 0.9747\n",
            "Epoch 4/5\n",
            "1875/1875 [==============================] - 4s 2ms/step - loss: 0.0656 - accuracy: 0.9799\n",
            "Epoch 5/5\n",
            "1875/1875 [==============================] - 4s 2ms/step - loss: 0.0515 - accuracy: 0.9842\n"
          ]
        },
        {
          "output_type": "execute_result",
          "data": {
            "text/plain": [
              "<keras.callbacks.History at 0x7f1699196610>"
            ]
          },
          "metadata": {},
          "execution_count": 13
        }
      ]
    },
    {
      "cell_type": "code",
      "metadata": {
        "colab": {
          "base_uri": "https://localhost:8080/"
        },
        "id": "V80mFFE1OvUs",
        "outputId": "cc8c379a-a7c3-4608-e547-a791e0b8cd76"
      },
      "source": [
        "y_train[:5]"
      ],
      "execution_count": 14,
      "outputs": [
        {
          "output_type": "execute_result",
          "data": {
            "text/plain": [
              "array([5, 0, 4, 1, 9], dtype=uint8)"
            ]
          },
          "metadata": {},
          "execution_count": 14
        }
      ]
    },
    {
      "cell_type": "code",
      "metadata": {
        "colab": {
          "base_uri": "https://localhost:8080/"
        },
        "id": "VHjYsJ82OvUt",
        "outputId": "29d2e6fe-2f80-4d23-dcdd-6e977f8085e4"
      },
      "source": [
        "model.evaluate(X_test_flattened,y_test)"
      ],
      "execution_count": 15,
      "outputs": [
        {
          "output_type": "stream",
          "name": "stdout",
          "text": [
            "313/313 [==============================] - 1s 1ms/step - loss: 0.0819 - accuracy: 0.9749\n"
          ]
        },
        {
          "output_type": "execute_result",
          "data": {
            "text/plain": [
              "[0.08192683756351471, 0.9749000072479248]"
            ]
          },
          "metadata": {},
          "execution_count": 15
        }
      ]
    },
    {
      "cell_type": "markdown",
      "source": [
        "# Callbacks"
      ],
      "metadata": {
        "id": "U2xvA0EkYfY5"
      }
    },
    {
      "cell_type": "code",
      "source": [
        "from tensorflow.keras.callbacks import Callback, CSVLogger, EarlyStopping, LearningRateScheduler, ModelCheckpoint, ReduceLROnPlateau,LambdaCallback"
      ],
      "metadata": {
        "id": "9_SXn0KmYjLx"
      },
      "execution_count": 16,
      "outputs": []
    },
    {
      "cell_type": "markdown",
      "source": [
        "# ModelCheckpoint"
      ],
      "metadata": {
        "id": "kzIZ9_-bYCRp"
      }
    },
    {
      "cell_type": "code",
      "source": [
        "model = model = keras.Sequential([\n",
        "    keras.layers.Dense(100, input_shape=(784,), activation='relu'),\n",
        "    keras.layers.Dense(10, activation='sigmoid')\n",
        "])"
      ],
      "metadata": {
        "id": "7oa9wQqTYBlM"
      },
      "execution_count": 17,
      "outputs": []
    },
    {
      "cell_type": "code",
      "source": [
        "model.compile(optimizer='adam',\n",
        "              loss='sparse_categorical_crossentropy',\n",
        "              metrics=['accuracy'])"
      ],
      "metadata": {
        "id": "reP97q2nYBop"
      },
      "execution_count": 18,
      "outputs": []
    },
    {
      "cell_type": "code",
      "source": [
        "checkpoint = CSVLogger('./logs.csv', separator=';', append=True)"
      ],
      "metadata": {
        "id": "9tbptGF3YX39"
      },
      "execution_count": 19,
      "outputs": []
    },
    {
      "cell_type": "code",
      "source": [
        "model.fit(X_train_flattened, y_train, epochs=50, batch_size=128, validation_data=(X_test_flattened,y_test), callbacks=[checkpoint])"
      ],
      "metadata": {
        "colab": {
          "base_uri": "https://localhost:8080/"
        },
        "id": "TeQL75jGYabl",
        "outputId": "2102b411-4485-4446-9cc9-dbc7f2a8c52f"
      },
      "execution_count": 20,
      "outputs": [
        {
          "output_type": "stream",
          "name": "stdout",
          "text": [
            "Epoch 1/50\n",
            "469/469 [==============================] - 2s 4ms/step - loss: 0.3844 - accuracy: 0.8943 - val_loss: 0.2095 - val_accuracy: 0.9410\n",
            "Epoch 2/50\n",
            "469/469 [==============================] - 2s 3ms/step - loss: 0.1793 - accuracy: 0.9497 - val_loss: 0.1481 - val_accuracy: 0.9574\n",
            "Epoch 3/50\n",
            "469/469 [==============================] - 2s 3ms/step - loss: 0.1311 - accuracy: 0.9627 - val_loss: 0.1184 - val_accuracy: 0.9658\n",
            "Epoch 4/50\n",
            "469/469 [==============================] - 2s 3ms/step - loss: 0.1038 - accuracy: 0.9705 - val_loss: 0.1140 - val_accuracy: 0.9664\n",
            "Epoch 5/50\n",
            "469/469 [==============================] - 2s 4ms/step - loss: 0.0848 - accuracy: 0.9757 - val_loss: 0.0983 - val_accuracy: 0.9705\n",
            "Epoch 6/50\n",
            "469/469 [==============================] - 2s 4ms/step - loss: 0.0713 - accuracy: 0.9796 - val_loss: 0.0897 - val_accuracy: 0.9725\n",
            "Epoch 7/50\n",
            "469/469 [==============================] - 2s 4ms/step - loss: 0.0599 - accuracy: 0.9833 - val_loss: 0.0854 - val_accuracy: 0.9750\n",
            "Epoch 8/50\n",
            "469/469 [==============================] - 2s 3ms/step - loss: 0.0525 - accuracy: 0.9847 - val_loss: 0.0845 - val_accuracy: 0.9758\n",
            "Epoch 9/50\n",
            "469/469 [==============================] - 2s 3ms/step - loss: 0.0453 - accuracy: 0.9873 - val_loss: 0.0800 - val_accuracy: 0.9760\n",
            "Epoch 10/50\n",
            "469/469 [==============================] - 2s 3ms/step - loss: 0.0389 - accuracy: 0.9894 - val_loss: 0.0819 - val_accuracy: 0.9751\n",
            "Epoch 11/50\n",
            "469/469 [==============================] - 2s 3ms/step - loss: 0.0348 - accuracy: 0.9903 - val_loss: 0.0764 - val_accuracy: 0.9773\n",
            "Epoch 12/50\n",
            "469/469 [==============================] - 2s 3ms/step - loss: 0.0294 - accuracy: 0.9922 - val_loss: 0.0777 - val_accuracy: 0.9759\n",
            "Epoch 13/50\n",
            "469/469 [==============================] - 2s 3ms/step - loss: 0.0257 - accuracy: 0.9930 - val_loss: 0.0778 - val_accuracy: 0.9767\n",
            "Epoch 14/50\n",
            "469/469 [==============================] - 2s 3ms/step - loss: 0.0219 - accuracy: 0.9946 - val_loss: 0.0740 - val_accuracy: 0.9782\n",
            "Epoch 15/50\n",
            "469/469 [==============================] - 2s 3ms/step - loss: 0.0196 - accuracy: 0.9952 - val_loss: 0.0785 - val_accuracy: 0.9779\n",
            "Epoch 16/50\n",
            "469/469 [==============================] - 2s 3ms/step - loss: 0.0170 - accuracy: 0.9961 - val_loss: 0.0761 - val_accuracy: 0.9768\n",
            "Epoch 17/50\n",
            "469/469 [==============================] - 2s 3ms/step - loss: 0.0154 - accuracy: 0.9964 - val_loss: 0.0883 - val_accuracy: 0.9747\n",
            "Epoch 18/50\n",
            "469/469 [==============================] - 2s 3ms/step - loss: 0.0127 - accuracy: 0.9973 - val_loss: 0.0810 - val_accuracy: 0.9773\n",
            "Epoch 19/50\n",
            "469/469 [==============================] - 2s 3ms/step - loss: 0.0120 - accuracy: 0.9975 - val_loss: 0.0818 - val_accuracy: 0.9779\n",
            "Epoch 20/50\n",
            "469/469 [==============================] - 2s 3ms/step - loss: 0.0096 - accuracy: 0.9981 - val_loss: 0.0833 - val_accuracy: 0.9769\n",
            "Epoch 21/50\n",
            "469/469 [==============================] - 2s 3ms/step - loss: 0.0085 - accuracy: 0.9985 - val_loss: 0.0825 - val_accuracy: 0.9774\n",
            "Epoch 22/50\n",
            "469/469 [==============================] - 2s 3ms/step - loss: 0.0073 - accuracy: 0.9987 - val_loss: 0.0874 - val_accuracy: 0.9775\n",
            "Epoch 23/50\n",
            "469/469 [==============================] - 2s 3ms/step - loss: 0.0070 - accuracy: 0.9988 - val_loss: 0.0919 - val_accuracy: 0.9770\n",
            "Epoch 24/50\n",
            "469/469 [==============================] - 2s 3ms/step - loss: 0.0052 - accuracy: 0.9994 - val_loss: 0.0863 - val_accuracy: 0.9790\n",
            "Epoch 25/50\n",
            "469/469 [==============================] - 2s 3ms/step - loss: 0.0052 - accuracy: 0.9993 - val_loss: 0.0894 - val_accuracy: 0.9785\n",
            "Epoch 26/50\n",
            "469/469 [==============================] - 2s 3ms/step - loss: 0.0043 - accuracy: 0.9994 - val_loss: 0.0915 - val_accuracy: 0.9783\n",
            "Epoch 27/50\n",
            "469/469 [==============================] - 2s 3ms/step - loss: 0.0067 - accuracy: 0.9984 - val_loss: 0.0983 - val_accuracy: 0.9770\n",
            "Epoch 28/50\n",
            "469/469 [==============================] - 2s 3ms/step - loss: 0.0040 - accuracy: 0.9995 - val_loss: 0.0914 - val_accuracy: 0.9791\n",
            "Epoch 29/50\n",
            "469/469 [==============================] - 2s 3ms/step - loss: 0.0028 - accuracy: 0.9997 - val_loss: 0.0928 - val_accuracy: 0.9783\n",
            "Epoch 30/50\n",
            "469/469 [==============================] - 2s 3ms/step - loss: 0.0020 - accuracy: 0.9999 - val_loss: 0.0920 - val_accuracy: 0.9790\n",
            "Epoch 31/50\n",
            "469/469 [==============================] - 2s 3ms/step - loss: 0.0042 - accuracy: 0.9990 - val_loss: 0.1070 - val_accuracy: 0.9760\n",
            "Epoch 32/50\n",
            "469/469 [==============================] - 2s 3ms/step - loss: 0.0041 - accuracy: 0.9992 - val_loss: 0.1072 - val_accuracy: 0.9762\n",
            "Epoch 33/50\n",
            "469/469 [==============================] - 2s 3ms/step - loss: 0.0028 - accuracy: 0.9996 - val_loss: 0.1011 - val_accuracy: 0.9779\n",
            "Epoch 34/50\n",
            "469/469 [==============================] - 2s 3ms/step - loss: 0.0013 - accuracy: 0.9999 - val_loss: 0.0976 - val_accuracy: 0.9784\n",
            "Epoch 35/50\n",
            "469/469 [==============================] - 2s 3ms/step - loss: 0.0014 - accuracy: 0.9999 - val_loss: 0.1004 - val_accuracy: 0.9781\n",
            "Epoch 36/50\n",
            "469/469 [==============================] - 2s 3ms/step - loss: 8.0594e-04 - accuracy: 1.0000 - val_loss: 0.1002 - val_accuracy: 0.9784\n",
            "Epoch 37/50\n",
            "469/469 [==============================] - 2s 4ms/step - loss: 7.7157e-04 - accuracy: 1.0000 - val_loss: 0.0989 - val_accuracy: 0.9793\n",
            "Epoch 38/50\n",
            "469/469 [==============================] - 2s 4ms/step - loss: 0.0106 - accuracy: 0.9962 - val_loss: 0.1248 - val_accuracy: 0.9772\n",
            "Epoch 39/50\n",
            "469/469 [==============================] - 2s 3ms/step - loss: 0.0039 - accuracy: 0.9990 - val_loss: 0.1071 - val_accuracy: 0.9796\n",
            "Epoch 40/50\n",
            "469/469 [==============================] - 2s 3ms/step - loss: 7.9456e-04 - accuracy: 1.0000 - val_loss: 0.1046 - val_accuracy: 0.9799\n",
            "Epoch 41/50\n",
            "469/469 [==============================] - 2s 3ms/step - loss: 5.0648e-04 - accuracy: 1.0000 - val_loss: 0.1056 - val_accuracy: 0.9801\n",
            "Epoch 42/50\n",
            "469/469 [==============================] - 2s 3ms/step - loss: 4.3518e-04 - accuracy: 1.0000 - val_loss: 0.1057 - val_accuracy: 0.9798\n",
            "Epoch 43/50\n",
            "469/469 [==============================] - 2s 3ms/step - loss: 3.9672e-04 - accuracy: 1.0000 - val_loss: 0.1067 - val_accuracy: 0.9800\n",
            "Epoch 44/50\n",
            "469/469 [==============================] - 2s 4ms/step - loss: 3.4889e-04 - accuracy: 1.0000 - val_loss: 0.1078 - val_accuracy: 0.9801\n",
            "Epoch 45/50\n",
            "469/469 [==============================] - 2s 3ms/step - loss: 3.2040e-04 - accuracy: 1.0000 - val_loss: 0.1071 - val_accuracy: 0.9798\n",
            "Epoch 46/50\n",
            "469/469 [==============================] - 2s 3ms/step - loss: 2.9870e-04 - accuracy: 1.0000 - val_loss: 0.1066 - val_accuracy: 0.9801\n",
            "Epoch 47/50\n",
            "469/469 [==============================] - 2s 3ms/step - loss: 0.0111 - accuracy: 0.9964 - val_loss: 0.1232 - val_accuracy: 0.9775\n",
            "Epoch 48/50\n",
            "469/469 [==============================] - 2s 3ms/step - loss: 0.0024 - accuracy: 0.9994 - val_loss: 0.1114 - val_accuracy: 0.9785\n",
            "Epoch 49/50\n",
            "469/469 [==============================] - 2s 4ms/step - loss: 5.7316e-04 - accuracy: 1.0000 - val_loss: 0.1091 - val_accuracy: 0.9793\n",
            "Epoch 50/50\n",
            "469/469 [==============================] - 2s 4ms/step - loss: 3.3828e-04 - accuracy: 1.0000 - val_loss: 0.1104 - val_accuracy: 0.9796\n"
          ]
        },
        {
          "output_type": "execute_result",
          "data": {
            "text/plain": [
              "<keras.callbacks.History at 0x7f16959ec150>"
            ]
          },
          "metadata": {},
          "execution_count": 20
        }
      ]
    },
    {
      "cell_type": "code",
      "source": [
        "# accuracy on validation set\n",
        "\n",
        "model.evaluate(X_test_flattened,y_test)"
      ],
      "metadata": {
        "colab": {
          "base_uri": "https://localhost:8080/"
        },
        "id": "B4SlkZmDYoHf",
        "outputId": "5716aa27-d9f8-466e-e1aa-1fac59cca21d"
      },
      "execution_count": 21,
      "outputs": [
        {
          "output_type": "stream",
          "name": "stdout",
          "text": [
            "313/313 [==============================] - 0s 1ms/step - loss: 0.1104 - accuracy: 0.9796\n"
          ]
        },
        {
          "output_type": "execute_result",
          "data": {
            "text/plain": [
              "[0.11035005748271942, 0.9796000123023987]"
            ]
          },
          "metadata": {},
          "execution_count": 21
        }
      ]
    },
    {
      "cell_type": "code",
      "source": [
        ""
      ],
      "metadata": {
        "id": "Wk-2zLOheQGo"
      },
      "execution_count": null,
      "outputs": []
    }
  ]
}