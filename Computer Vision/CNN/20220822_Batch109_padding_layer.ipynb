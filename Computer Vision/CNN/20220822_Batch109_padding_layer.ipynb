{
  "nbformat": 4,
  "nbformat_minor": 0,
  "metadata": {
    "colab": {
      "name": "padding layer.ipynb",
      "provenance": []
    },
    "kernelspec": {
      "name": "python3",
      "display_name": "Python 3"
    },
    "language_info": {
      "name": "python"
    }
  },
  "cells": [
    {
      "cell_type": "code",
      "metadata": {
        "id": "gzmXRoe0PtKf"
      },
      "source": [
        "from keras import Sequential\n",
        "from keras.layers import Conv2D"
      ],
      "execution_count": 1,
      "outputs": []
    },
    {
      "cell_type": "code",
      "metadata": {
        "id": "zXYaeRSYRvqp"
      },
      "source": [
        "model = Sequential()"
      ],
      "execution_count": 2,
      "outputs": []
    },
    {
      "cell_type": "code",
      "metadata": {
        "id": "8vkUVnrCSWfz"
      },
      "source": [
        "input_shape = (28, 28, 1)"
      ],
      "execution_count": 3,
      "outputs": []
    },
    {
      "cell_type": "code",
      "metadata": {
        "id": "PEDgjPp5RuoR"
      },
      "source": [
        "model.add(Conv2D(32, kernel_size=(3, 3), activation='relu', input_shape=(28, 28, 1)))\n",
        "model.add(Conv2D(64, kernel_size=(3, 3), activation='relu'))\n",
        "model.add(Conv2D(128, kernel_size=(3, 3), activation='relu'))"
      ],
      "execution_count": 4,
      "outputs": []
    },
    {
      "cell_type": "code",
      "metadata": {
        "colab": {
          "base_uri": "https://localhost:8080/"
        },
        "id": "anFseVeCSY6a",
        "outputId": "702031de-a940-43f2-f4ec-c211a7972297"
      },
      "source": [
        "model.summary()"
      ],
      "execution_count": 5,
      "outputs": [
        {
          "output_type": "stream",
          "name": "stdout",
          "text": [
            "Model: \"sequential\"\n",
            "_________________________________________________________________\n",
            " Layer (type)                Output Shape              Param #   \n",
            "=================================================================\n",
            " conv2d (Conv2D)             (None, 26, 26, 32)        320       \n",
            "                                                                 \n",
            " conv2d_1 (Conv2D)           (None, 24, 24, 64)        18496     \n",
            "                                                                 \n",
            " conv2d_2 (Conv2D)           (None, 22, 22, 128)       73856     \n",
            "                                                                 \n",
            "=================================================================\n",
            "Total params: 92,672\n",
            "Trainable params: 92,672\n",
            "Non-trainable params: 0\n",
            "_________________________________________________________________\n"
          ]
        }
      ]
    },
    {
      "cell_type": "code",
      "metadata": {
        "id": "vZBbu7R5TIXu"
      },
      "source": [
        "modelv = Sequential()\n",
        "modelv.add(Conv2D(32, kernel_size=(3, 3), activation='relu', input_shape=input_shape, padding = 'valid'))\n",
        "modelv.add(Conv2D(64, kernel_size=(3, 3), activation='relu', padding = 'valid'))\n",
        "modelv.add(Conv2D(128, kernel_size=(3, 3), activation='relu', padding = 'valid'))"
      ],
      "execution_count": 6,
      "outputs": []
    },
    {
      "cell_type": "code",
      "metadata": {
        "colab": {
          "base_uri": "https://localhost:8080/"
        },
        "id": "HZnU3z5ZUS5j",
        "outputId": "66102bdd-748a-4be3-eec2-af042d872db9"
      },
      "source": [
        "modelv.summary()"
      ],
      "execution_count": 7,
      "outputs": [
        {
          "output_type": "stream",
          "name": "stdout",
          "text": [
            "Model: \"sequential_1\"\n",
            "_________________________________________________________________\n",
            " Layer (type)                Output Shape              Param #   \n",
            "=================================================================\n",
            " conv2d_3 (Conv2D)           (None, 26, 26, 32)        320       \n",
            "                                                                 \n",
            " conv2d_4 (Conv2D)           (None, 24, 24, 64)        18496     \n",
            "                                                                 \n",
            " conv2d_5 (Conv2D)           (None, 22, 22, 128)       73856     \n",
            "                                                                 \n",
            "=================================================================\n",
            "Total params: 92,672\n",
            "Trainable params: 92,672\n",
            "Non-trainable params: 0\n",
            "_________________________________________________________________\n"
          ]
        }
      ]
    },
    {
      "cell_type": "code",
      "metadata": {
        "id": "PYxALwD0UY--"
      },
      "source": [
        "\n",
        "models = Sequential()\n",
        "models.add(Conv2D(32, kernel_size=(3, 3), activation='relu', input_shape=input_shape, padding='same'))\n",
        "models.add(Conv2D(64, kernel_size=(3, 3), activation='relu', padding='same'))\n",
        "models.add(Conv2D(128, kernel_size=(3, 3), activation='relu', padding='same'))"
      ],
      "execution_count": 8,
      "outputs": []
    },
    {
      "cell_type": "code",
      "metadata": {
        "colab": {
          "base_uri": "https://localhost:8080/"
        },
        "id": "hifka8Q0Uzut",
        "outputId": "cf386797-ea8e-4466-aa46-589d59eec9f9"
      },
      "source": [
        "models.summary()"
      ],
      "execution_count": 9,
      "outputs": [
        {
          "output_type": "stream",
          "name": "stdout",
          "text": [
            "Model: \"sequential_2\"\n",
            "_________________________________________________________________\n",
            " Layer (type)                Output Shape              Param #   \n",
            "=================================================================\n",
            " conv2d_6 (Conv2D)           (None, 28, 28, 32)        320       \n",
            "                                                                 \n",
            " conv2d_7 (Conv2D)           (None, 28, 28, 64)        18496     \n",
            "                                                                 \n",
            " conv2d_8 (Conv2D)           (None, 28, 28, 128)       73856     \n",
            "                                                                 \n",
            "=================================================================\n",
            "Total params: 92,672\n",
            "Trainable params: 92,672\n",
            "Non-trainable params: 0\n",
            "_________________________________________________________________\n"
          ]
        }
      ]
    },
    {
      "cell_type": "code",
      "metadata": {
        "id": "tNh6lHSIVFQA"
      },
      "source": [
        "from keras.layers import Conv1D\n",
        "modelc = Sequential()\n",
        "modelc.add(Conv1D(32, kernel_size=4, activation='relu', input_shape=input_shape, padding='causal'))\n",
        "modelc.add(Conv1D(64, kernel_size=4, activation='relu', padding='causal'))\n",
        "modelc.add(Conv1D(128, kernel_size=4, activation='relu', padding='causal'))"
      ],
      "execution_count": 10,
      "outputs": []
    },
    {
      "cell_type": "code",
      "metadata": {
        "colab": {
          "base_uri": "https://localhost:8080/"
        },
        "id": "Mo2web4rWCuc",
        "outputId": "d4e12def-965c-4add-aa6b-52899ceb0a5c"
      },
      "source": [
        "modelc.summary()"
      ],
      "execution_count": 11,
      "outputs": [
        {
          "output_type": "stream",
          "name": "stdout",
          "text": [
            "Model: \"sequential_3\"\n",
            "_________________________________________________________________\n",
            " Layer (type)                Output Shape              Param #   \n",
            "=================================================================\n",
            " conv1d (Conv1D)             (None, 28, 28, 32)        160       \n",
            "                                                                 \n",
            " conv1d_1 (Conv1D)           (None, 28, 28, 64)        8256      \n",
            "                                                                 \n",
            " conv1d_2 (Conv1D)           (None, 28, 28, 128)       32896     \n",
            "                                                                 \n",
            "=================================================================\n",
            "Total params: 41,312\n",
            "Trainable params: 41,312\n",
            "Non-trainable params: 0\n",
            "_________________________________________________________________\n"
          ]
        }
      ]
    },
    {
      "cell_type": "code",
      "source": [
        ""
      ],
      "metadata": {
        "id": "lEyaojmVHfow"
      },
      "execution_count": 11,
      "outputs": []
    }
  ]
}