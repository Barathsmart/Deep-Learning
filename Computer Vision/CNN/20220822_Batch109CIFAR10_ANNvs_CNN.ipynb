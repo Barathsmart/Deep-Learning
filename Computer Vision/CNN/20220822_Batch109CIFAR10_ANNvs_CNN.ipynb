{
  "nbformat": 4,
  "nbformat_minor": 0,
  "metadata": {
    "kernelspec": {
      "display_name": "Python 3",
      "language": "python",
      "name": "python3"
    },
    "language_info": {
      "codemirror_mode": {
        "name": "ipython",
        "version": 3
      },
      "file_extension": ".py",
      "mimetype": "text/x-python",
      "name": "python",
      "nbconvert_exporter": "python",
      "pygments_lexer": "ipython3",
      "version": "3.8.5"
    },
    "colab": {
      "name": "20211009_Batch97_CIFAR10_ANNvs_CNN.ipynb",
      "provenance": [],
      "collapsed_sections": []
    }
  },
  "cells": [
    {
      "cell_type": "markdown",
      "metadata": {
        "id": "4QiiSHRRLkn_"
      },
      "source": [
        "<h2 style='color:blue' align='center'>Small Image Classification Using Convolutional Neural Network (CNN)</h2>"
      ]
    },
    {
      "cell_type": "markdown",
      "metadata": {
        "id": "MZvx4wXBLkoH"
      },
      "source": [
        "In this notebook, we will classify small images cifar10 dataset from tensorflow keras datasets. There are total 10 classes as shown below. We will use CNN for classification"
      ]
    },
    {
      "cell_type": "markdown",
      "metadata": {
        "id": "hk8r7nT1LkoJ"
      },
      "source": [
        "<img src=\"small_images.jpg\" />"
      ]
    },
    {
      "cell_type": "code",
      "metadata": {
        "id": "vPI_KmPsLkoM"
      },
      "source": [
        "import tensorflow as tf\n",
        "from tensorflow.keras import datasets, layers, models\n",
        "import matplotlib.pyplot as plt\n",
        "import numpy as np"
      ],
      "execution_count": 1,
      "outputs": []
    },
    {
      "cell_type": "markdown",
      "metadata": {
        "id": "Ow3liEfqLkoR"
      },
      "source": [
        "<h4 style=\"color:purple\">Load the dataset</h4>"
      ]
    },
    {
      "cell_type": "code",
      "metadata": {
        "colab": {
          "base_uri": "https://localhost:8080/"
        },
        "id": "jFmpGaOuLkoS",
        "outputId": "b1b349f9-2599-42a2-e91b-1dfe5638879b"
      },
      "source": [
        "(X_train, y_train), (X_test,y_test) = datasets.cifar10.load_data()\n",
        "X_train.shape"
      ],
      "execution_count": 2,
      "outputs": [
        {
          "output_type": "stream",
          "name": "stdout",
          "text": [
            "Downloading data from https://www.cs.toronto.edu/~kriz/cifar-10-python.tar.gz\n",
            "170500096/170498071 [==============================] - 11s 0us/step\n",
            "170508288/170498071 [==============================] - 11s 0us/step\n"
          ]
        },
        {
          "output_type": "execute_result",
          "data": {
            "text/plain": [
              "(50000, 32, 32, 3)"
            ]
          },
          "metadata": {},
          "execution_count": 2
        }
      ]
    },
    {
      "cell_type": "code",
      "metadata": {
        "colab": {
          "base_uri": "https://localhost:8080/"
        },
        "id": "-kAsFQMcLkoY",
        "outputId": "9146edb0-5409-46e8-94a2-06878069dfe8"
      },
      "source": [
        "X_test.shape"
      ],
      "execution_count": 3,
      "outputs": [
        {
          "output_type": "execute_result",
          "data": {
            "text/plain": [
              "(10000, 32, 32, 3)"
            ]
          },
          "metadata": {},
          "execution_count": 3
        }
      ]
    },
    {
      "cell_type": "markdown",
      "metadata": {
        "id": "IULr_2BMLkoa"
      },
      "source": [
        "Here we see there are 50000 training images and 1000 test images"
      ]
    },
    {
      "cell_type": "code",
      "metadata": {
        "colab": {
          "base_uri": "https://localhost:8080/"
        },
        "id": "0tmZkPBeLkob",
        "outputId": "63ac877c-4f5b-48be-d9d7-cbee970443ab"
      },
      "source": [
        "y_train.shape"
      ],
      "execution_count": 4,
      "outputs": [
        {
          "output_type": "execute_result",
          "data": {
            "text/plain": [
              "(50000, 1)"
            ]
          },
          "metadata": {},
          "execution_count": 4
        }
      ]
    },
    {
      "cell_type": "code",
      "metadata": {
        "colab": {
          "base_uri": "https://localhost:8080/"
        },
        "id": "G5gYPGKBLkoc",
        "outputId": "80109a3a-c080-4c37-c756-7fef189a42a0"
      },
      "source": [
        "y_train[:5]"
      ],
      "execution_count": 5,
      "outputs": [
        {
          "output_type": "execute_result",
          "data": {
            "text/plain": [
              "array([[6],\n",
              "       [9],\n",
              "       [9],\n",
              "       [4],\n",
              "       [1]], dtype=uint8)"
            ]
          },
          "metadata": {},
          "execution_count": 5
        }
      ]
    },
    {
      "cell_type": "markdown",
      "metadata": {
        "id": "2woN_b6yLkoe"
      },
      "source": [
        "y_train is a 2D array, for our classification having 1D array is good enough. so we will convert this to now 1D array"
      ]
    },
    {
      "cell_type": "code",
      "metadata": {
        "scrolled": true,
        "colab": {
          "base_uri": "https://localhost:8080/"
        },
        "id": "oNod0QmrLkof",
        "outputId": "13b5e2da-fbe6-4254-d838-f79206562615"
      },
      "source": [
        "y_train = y_train.reshape(-1,)\n",
        "y_train[:5]"
      ],
      "execution_count": 6,
      "outputs": [
        {
          "output_type": "execute_result",
          "data": {
            "text/plain": [
              "array([6, 9, 9, 4, 1], dtype=uint8)"
            ]
          },
          "metadata": {},
          "execution_count": 6
        }
      ]
    },
    {
      "cell_type": "code",
      "metadata": {
        "id": "dbFdH_GJLkoh"
      },
      "source": [
        "y_test = y_test.reshape(-1,)"
      ],
      "execution_count": 7,
      "outputs": []
    },
    {
      "cell_type": "code",
      "metadata": {
        "id": "eMMfwtrtLkoi"
      },
      "source": [
        "classes = [\"airplane\",\"automobile\",\"bird\",\"cat\",\"deer\",\"dog\",\"frog\",\"horse\",\"ship\",\"truck\"]"
      ],
      "execution_count": 8,
      "outputs": []
    },
    {
      "cell_type": "markdown",
      "metadata": {
        "id": "3qFVKsWNLkoj"
      },
      "source": [
        "Let's plot some images to see what they are "
      ]
    },
    {
      "cell_type": "code",
      "metadata": {
        "id": "y5jgtqm3Lkok"
      },
      "source": [
        "def plot_sample(X, y, index):\n",
        "    plt.figure(figsize = (15,2))\n",
        "    plt.imshow(X[index])\n",
        "    plt.xlabel(classes[y[index]])"
      ],
      "execution_count": 9,
      "outputs": []
    },
    {
      "cell_type": "code",
      "metadata": {
        "scrolled": true,
        "colab": {
          "base_uri": "https://localhost:8080/",
          "height": 173
        },
        "id": "CckAEicHLkom",
        "outputId": "c330a612-8eab-4757-9b5e-681ecbfee777"
      },
      "source": [
        "plot_sample(X_train, y_train, 0)"
      ],
      "execution_count": 10,
      "outputs": [
        {
          "output_type": "display_data",
          "data": {
            "image/png": "[encoded data removed]",
            "text/plain": [
              "<Figure size 1080x144 with 1 Axes>"
            ]
          },
          "metadata": {
            "needs_background": "light"
          }
        }
      ]
    },
    {
      "cell_type": "code",
      "metadata": {
        "colab": {
          "base_uri": "https://localhost:8080/",
          "height": 173
        },
        "id": "KfHaXHOYLkon",
        "outputId": "101ba328-4ce1-4ad6-c4b0-6ae932eada91"
      },
      "source": [
        "plot_sample(X_train, y_train, 1)"
      ],
      "execution_count": 11,
      "outputs": [
        {
          "output_type": "display_data",
          "data": {
            "image/png": "[encoded data removed]",
            "text/plain": [
              "<Figure size 1080x144 with 1 Axes>"
            ]
          },
          "metadata": {
            "needs_background": "light"
          }
        }
      ]
    },
    {
      "cell_type": "markdown",
      "metadata": {
        "id": "TD8o2BkPLkop"
      },
      "source": [
        "Normalize the images to a number from 0 to 1. Image has 3 channels (R,G,B) and each value in the channel can range from 0 to 255. Hence to normalize in 0-->1 range, we need to divide it by 255"
      ]
    },
    {
      "cell_type": "markdown",
      "metadata": {
        "id": "vsi7uuKpLkoq"
      },
      "source": [
        "<h4 style=\"color:purple\">Normalizing the training data</h4>"
      ]
    },
    {
      "cell_type": "code",
      "metadata": {
        "id": "scA7DICWLkor"
      },
      "source": [
        "X_train = X_train / 255.0\n",
        "X_test = X_test / 255.0"
      ],
      "execution_count": 12,
      "outputs": []
    },
    {
      "cell_type": "markdown",
      "metadata": {
        "id": "sGVQoL3iLkos"
      },
      "source": [
        "<h4 style=\"color:purple\">Build simple artificial neural network for image classification</h4>"
      ]
    },
    {
      "cell_type": "code",
      "metadata": {
        "scrolled": true,
        "id": "P--nckkbLkou"
      },
      "source": [
        "ann = models.Sequential([\n",
        "        layers.Flatten(input_shape=(32,32,3)),\n",
        "        layers.Dense(3000, activation='relu'),\n",
        "        layers.Dense(1000, activation='relu'),\n",
        "        layers.Dense(10, activation='softmax')    \n",
        "    ])\n",
        "\n"
      ],
      "execution_count": 13,
      "outputs": []
    },
    {
      "cell_type": "code",
      "metadata": {
        "colab": {
          "base_uri": "https://localhost:8080/"
        },
        "id": "z2DB-d4uLyl3",
        "outputId": "7a47fdc8-88ff-41a1-c5dc-1a97bf8a8378"
      },
      "source": [
        "ann.summary()"
      ],
      "execution_count": 14,
      "outputs": [
        {
          "output_type": "stream",
          "name": "stdout",
          "text": [
            "Model: \"sequential\"\n",
            "_________________________________________________________________\n",
            "Layer (type)                 Output Shape              Param #   \n",
            "=================================================================\n",
            "flatten (Flatten)            (None, 3072)              0         \n",
            "_________________________________________________________________\n",
            "dense (Dense)                (None, 3000)              9219000   \n",
            "_________________________________________________________________\n",
            "dense_1 (Dense)              (None, 1000)              3001000   \n",
            "_________________________________________________________________\n",
            "dense_2 (Dense)              (None, 10)                10010     \n",
            "=================================================================\n",
            "Total params: 12,230,010\n",
            "Trainable params: 12,230,010\n",
            "Non-trainable params: 0\n",
            "_________________________________________________________________\n"
          ]
        }
      ]
    },
    {
      "cell_type": "code",
      "metadata": {
        "colab": {
          "base_uri": "https://localhost:8080/",
          "height": 466
        },
        "id": "c6vT6gnorcaz",
        "outputId": "c8fb9bbb-c85d-4ab6-be4b-ac8919a528fb"
      },
      "source": [
        "import pydot\n",
        "from tensorflow import keras\n",
        "keras.utils.plot_model(ann)"
      ],
      "execution_count": 16,
      "outputs": [
        {
          "output_type": "execute_result",
          "data": {
            "image/png": "[encoded data removed]",
            "text/plain": [
              "<IPython.core.display.Image object>"
            ]
          },
          "metadata": {},
          "execution_count": 16
        }
      ]
    },
    {
      "cell_type": "code",
      "metadata": {
        "id": "gneyWHPzLy82"
      },
      "source": [
        "ann.compile(optimizer='SGD',\n",
        "              loss='sparse_categorical_crossentropy',\n",
        "              metrics=['accuracy'])"
      ],
      "execution_count": 17,
      "outputs": []
    },
    {
      "cell_type": "code",
      "metadata": {
        "colab": {
          "base_uri": "https://localhost:8080/"
        },
        "id": "kIff6zuCLzOA",
        "outputId": "87b6f216-9297-4590-d25d-f0265b2e3edb"
      },
      "source": [
        "\n",
        "\n",
        "ann.fit(X_train, y_train, epochs=5)"
      ],
      "execution_count": 18,
      "outputs": [
        {
          "output_type": "stream",
          "name": "stdout",
          "text": [
            "Epoch 1/5\n",
            "1563/1563 [==============================] - 97s 62ms/step - loss: 1.8114 - accuracy: 0.3562\n",
            "Epoch 2/5\n",
            "1563/1563 [==============================] - 96s 61ms/step - loss: 1.6215 - accuracy: 0.4260\n",
            "Epoch 3/5\n",
            "1563/1563 [==============================] - 96s 62ms/step - loss: 1.5395 - accuracy: 0.4553\n",
            "Epoch 4/5\n",
            "1563/1563 [==============================] - 98s 63ms/step - loss: 1.4806 - accuracy: 0.4778\n",
            "Epoch 5/5\n",
            "1563/1563 [==============================] - 96s 62ms/step - loss: 1.4317 - accuracy: 0.4949\n"
          ]
        },
        {
          "output_type": "execute_result",
          "data": {
            "text/plain": [
              "<keras.callbacks.History at 0x7fd311cb0210>"
            ]
          },
          "metadata": {},
          "execution_count": 18
        }
      ]
    },
    {
      "cell_type": "markdown",
      "metadata": {
        "id": "7iJHP6U1Lkox"
      },
      "source": [
        "**You can see that at the end of 5 epochs, accuracy is at around 49%**"
      ]
    },
    {
      "cell_type": "code",
      "metadata": {
        "colab": {
          "base_uri": "https://localhost:8080/"
        },
        "id": "WU3RKMvNLkoy",
        "outputId": "cda6b95b-d342-42db-a7c6-09991b17875c"
      },
      "source": [
        "from sklearn.metrics import confusion_matrix , classification_report\n",
        "import numpy as np\n",
        "y_pred = ann.predict(X_test)\n",
        "y_pred_classes = [np.argmax(element) for element in y_pred]\n",
        "\n",
        "print(\"Classification Report: \\n\", classification_report(y_test, y_pred_classes))"
      ],
      "execution_count": 21,
      "outputs": [
        {
          "output_type": "stream",
          "name": "stdout",
          "text": [
            "Classification Report: \n",
            "               precision    recall  f1-score   support\n",
            "\n",
            "           0       0.73      0.35      0.47      1000\n",
            "           1       0.70      0.48      0.57      1000\n",
            "           2       0.40      0.20      0.27      1000\n",
            "           3       0.27      0.55      0.36      1000\n",
            "           4       0.41      0.49      0.44      1000\n",
            "           5       0.48      0.27      0.34      1000\n",
            "           6       0.45      0.62      0.52      1000\n",
            "           7       0.50      0.57      0.53      1000\n",
            "           8       0.63      0.60      0.61      1000\n",
            "           9       0.55      0.59      0.57      1000\n",
            "\n",
            "    accuracy                           0.47     10000\n",
            "   macro avg       0.51      0.47      0.47     10000\n",
            "weighted avg       0.51      0.47      0.47     10000\n",
            "\n"
          ]
        }
      ]
    },
    {
      "cell_type": "markdown",
      "metadata": {
        "id": "n46KQ9R-Lko1"
      },
      "source": [
        "<h4 style=\"color:purple\">Now let us build a convolutional neural network to train our images</h4>"
      ]
    },
    {
      "cell_type": "code",
      "metadata": {
        "id": "8smNYBxLLko2"
      },
      "source": [
        "cnn = models.Sequential([\n",
        "    layers.Conv2D(filters=32, kernel_size=(3, 3), activation='relu', input_shape=(32, 32, 3)),\n",
        "    layers.MaxPooling2D((2, 2)),\n",
        "    \n",
        "    layers.Conv2D(filters=64, kernel_size=(3, 3), activation='relu'),\n",
        "    layers.MaxPooling2D((2, 2)),\n",
        "    \n",
        "    layers.Flatten(),\n",
        "    layers.Dense(64, activation='relu'),\n",
        "    layers.Dense(10, activation='softmax')\n",
        "])"
      ],
      "execution_count": 22,
      "outputs": []
    },
    {
      "cell_type": "code",
      "metadata": {
        "colab": {
          "base_uri": "https://localhost:8080/"
        },
        "id": "Fq716QKrMZfQ",
        "outputId": "82146764-dfff-46af-82f6-0e3611e33305"
      },
      "source": [
        "cnn.summary()"
      ],
      "execution_count": 23,
      "outputs": [
        {
          "output_type": "stream",
          "name": "stdout",
          "text": [
            "Model: \"sequential_1\"\n",
            "_________________________________________________________________\n",
            "Layer (type)                 Output Shape              Param #   \n",
            "=================================================================\n",
            "conv2d (Conv2D)              (None, 30, 30, 32)        896       \n",
            "_________________________________________________________________\n",
            "max_pooling2d (MaxPooling2D) (None, 15, 15, 32)        0         \n",
            "_________________________________________________________________\n",
            "conv2d_1 (Conv2D)            (None, 13, 13, 64)        18496     \n",
            "_________________________________________________________________\n",
            "max_pooling2d_1 (MaxPooling2 (None, 6, 6, 64)          0         \n",
            "_________________________________________________________________\n",
            "flatten_1 (Flatten)          (None, 2304)              0         \n",
            "_________________________________________________________________\n",
            "dense_3 (Dense)              (None, 64)                147520    \n",
            "_________________________________________________________________\n",
            "dense_4 (Dense)              (None, 10)                650       \n",
            "=================================================================\n",
            "Total params: 167,562\n",
            "Trainable params: 167,562\n",
            "Non-trainable params: 0\n",
            "_________________________________________________________________\n"
          ]
        }
      ]
    },
    {
      "cell_type": "markdown",
      "metadata": {
        "id": "H1uMitcsu1sX"
      },
      "source": [
        "Number of parameters in a CONV layer would be : \n",
        "\n",
        "((m * n * d)+1)* k), added 1 because of the bias term for each filter. The same expression can be written as follows: \n",
        "\n",
        "((shape of width of the filter (m) * shape of height of the filter (n)* number of filters in the previous layer (d)+1)*number of filters (k)).\n",
        "\n",
        " Where the term “filter” refer to the number of filters in the current layer.\n",
        "\n",
        "\n",
        "First Conv2D Layer= ((3x3x3) +1) x 32 = 896\n",
        "\n",
        "---\n",
        "\n",
        "\n",
        "\n",
        "\n",
        "Second Conv2D Layer = ((3x3x32)+1) x 64= 18496\n",
        "\n",
        "\n",
        "Dense_3= (2304x64)+64= 147520\n",
        "\n",
        "\n",
        "Dense_4=(64x10)+10=650\n",
        "\n",
        "\n",
        "\n",
        "\n",
        "\n"
      ]
    },
    {
      "cell_type": "code",
      "metadata": {
        "colab": {
          "base_uri": "https://localhost:8080/",
          "height": 758
        },
        "id": "tuJxfVpesbAW",
        "outputId": "24122e0a-6fb4-4dc5-8ba2-cca3b32a9dc7"
      },
      "source": [
        "import pydot\n",
        "from tensorflow import keras\n",
        "keras.utils.plot_model(cnn)"
      ],
      "execution_count": 24,
      "outputs": [
        {
          "output_type": "execute_result",
          "data": {
            "image/png": "[encoded data removed]",
            "text/plain": [
              "<IPython.core.display.Image object>"
            ]
          },
          "metadata": {},
          "execution_count": 24
        }
      ]
    },
    {
      "cell_type": "code",
      "metadata": {
        "id": "ikXcNJuQLko6"
      },
      "source": [
        "cnn.compile(optimizer='adam',\n",
        "              loss='sparse_categorical_crossentropy',\n",
        "              metrics=['accuracy'])"
      ],
      "execution_count": 25,
      "outputs": []
    },
    {
      "cell_type": "code",
      "metadata": {
        "scrolled": false,
        "colab": {
          "base_uri": "https://localhost:8080/"
        },
        "id": "1zlu6DptLko7",
        "outputId": "9d995bb4-f10b-4be1-de67-5663c4202807"
      },
      "source": [
        "cnn.fit(X_train, y_train, epochs=10)"
      ],
      "execution_count": 26,
      "outputs": [
        {
          "output_type": "stream",
          "name": "stdout",
          "text": [
            "Epoch 1/10\n",
            "1563/1563 [==============================] - 60s 38ms/step - loss: 1.4427 - accuracy: 0.4818\n",
            "Epoch 2/10\n",
            "1563/1563 [==============================] - 60s 38ms/step - loss: 1.0960 - accuracy: 0.6145\n",
            "Epoch 3/10\n",
            "1563/1563 [==============================] - 60s 38ms/step - loss: 0.9648 - accuracy: 0.6625\n",
            "Epoch 4/10\n",
            "1563/1563 [==============================] - 60s 38ms/step - loss: 0.8752 - accuracy: 0.6960\n",
            "Epoch 5/10\n",
            "1563/1563 [==============================] - 61s 39ms/step - loss: 0.7999 - accuracy: 0.7228\n",
            "Epoch 6/10\n",
            "1563/1563 [==============================] - 59s 38ms/step - loss: 0.7385 - accuracy: 0.7432\n",
            "Epoch 7/10\n",
            "1563/1563 [==============================] - 59s 38ms/step - loss: 0.6825 - accuracy: 0.7634\n",
            "Epoch 8/10\n",
            "1563/1563 [==============================] - 59s 38ms/step - loss: 0.6280 - accuracy: 0.7810\n",
            "Epoch 9/10\n",
            "1563/1563 [==============================] - 59s 38ms/step - loss: 0.5853 - accuracy: 0.7957\n",
            "Epoch 10/10\n",
            "1563/1563 [==============================] - 59s 38ms/step - loss: 0.5396 - accuracy: 0.8107\n"
          ]
        },
        {
          "output_type": "execute_result",
          "data": {
            "text/plain": [
              "<keras.callbacks.History at 0x7fd307af72d0>"
            ]
          },
          "metadata": {},
          "execution_count": 26
        }
      ]
    },
    {
      "cell_type": "markdown",
      "metadata": {
        "id": "H7aOYw3HLko-"
      },
      "source": [
        "**With CNN, at the end 5 epochs, accuracy was at around 70% which is a significant improvement over ANN. CNN's are best for image classification and gives superb accuracy. Also computation is much less compared to simple ANN as maxpooling reduces the image dimensions while still preserving the features**"
      ]
    },
    {
      "cell_type": "code",
      "metadata": {
        "scrolled": true,
        "colab": {
          "base_uri": "https://localhost:8080/"
        },
        "id": "I5E9LOWlLko_",
        "outputId": "d2da3a89-a60a-4c38-9544-d4392bde34ca"
      },
      "source": [
        "cnn.evaluate(X_test,y_test)"
      ],
      "execution_count": 27,
      "outputs": [
        {
          "output_type": "stream",
          "name": "stdout",
          "text": [
            "313/313 [==============================] - 4s 12ms/step - loss: 0.9506 - accuracy: 0.7019\n"
          ]
        },
        {
          "output_type": "execute_result",
          "data": {
            "text/plain": [
              "[0.9505505561828613, 0.7019000053405762]"
            ]
          },
          "metadata": {},
          "execution_count": 27
        }
      ]
    },
    {
      "cell_type": "code",
      "metadata": {
        "colab": {
          "base_uri": "https://localhost:8080/"
        },
        "id": "gP60IGGALkpB",
        "outputId": "43b16696-fd32-4f25-a94e-7f6b1d431c7f"
      },
      "source": [
        "y_pred = cnn.predict(X_test)\n",
        "y_pred[:5]"
      ],
      "execution_count": 28,
      "outputs": [
        {
          "output_type": "execute_result",
          "data": {
            "text/plain": [
              "array([[1.7746466e-03, 3.7375203e-04, 4.5428060e-02, 8.1822598e-01,\n",
              "        2.8198713e-03, 7.8246944e-02, 3.6360871e-02, 5.6218926e-04,\n",
              "        1.3739554e-02, 2.4681401e-03],\n",
              "       [2.5622178e-06, 7.4722972e-03, 7.3144080e-10, 6.5927969e-10,\n",
              "        4.8379789e-10, 6.6026056e-12, 1.3024664e-11, 7.2739982e-12,\n",
              "        9.9252290e-01, 2.1994811e-06],\n",
              "       [2.0059118e-02, 1.4310659e-01, 7.2252566e-05, 2.5324282e-04,\n",
              "        3.5401501e-04, 5.0063834e-05, 5.9991949e-06, 1.4185057e-04,\n",
              "        8.3485782e-01, 1.0990133e-03],\n",
              "       [8.1249398e-01, 2.7068323e-03, 4.7866493e-03, 9.5919095e-04,\n",
              "        3.2600766e-04, 1.6551495e-06, 6.1299198e-07, 2.5961881e-05,\n",
              "        1.7861857e-01, 8.0570600e-05],\n",
              "       [2.1889080e-06, 1.2422830e-06, 8.3246233e-04, 8.4025934e-03,\n",
              "        2.4391282e-01, 4.9429214e-05, 7.4605864e-01, 7.4150499e-08,\n",
              "        7.3949178e-04, 1.0506703e-06]], dtype=float32)"
            ]
          },
          "metadata": {},
          "execution_count": 28
        }
      ]
    },
    {
      "cell_type": "code",
      "metadata": {
        "colab": {
          "base_uri": "https://localhost:8080/"
        },
        "id": "tj9bHHH1LkpC",
        "outputId": "2d09ac66-f097-466c-8408-88320b1b117f"
      },
      "source": [
        "y_classes = [np.argmax(element) for element in y_pred]\n",
        "y_classes[:5]"
      ],
      "execution_count": 29,
      "outputs": [
        {
          "output_type": "execute_result",
          "data": {
            "text/plain": [
              "[3, 8, 8, 0, 6]"
            ]
          },
          "metadata": {},
          "execution_count": 29
        }
      ]
    },
    {
      "cell_type": "code",
      "metadata": {
        "colab": {
          "base_uri": "https://localhost:8080/"
        },
        "id": "QrJX8R10LkpD",
        "outputId": "dc9e1e52-24c8-4caf-f666-8ec5cc088502"
      },
      "source": [
        "y_test[:5]"
      ],
      "execution_count": 30,
      "outputs": [
        {
          "output_type": "execute_result",
          "data": {
            "text/plain": [
              "array([3, 8, 8, 0, 6], dtype=uint8)"
            ]
          },
          "metadata": {},
          "execution_count": 30
        }
      ]
    },
    {
      "cell_type": "code",
      "metadata": {
        "colab": {
          "base_uri": "https://localhost:8080/",
          "height": 173
        },
        "id": "pf-zkdi9LkpE",
        "outputId": "72e35034-6aff-4025-d21a-7b535050f459"
      },
      "source": [
        "plot_sample(X_test, y_test,3)"
      ],
      "execution_count": 31,
      "outputs": [
        {
          "output_type": "display_data",
          "data": {
            "image/png": "[encoded data removed]",
            "text/plain": [
              "<Figure size 1080x144 with 1 Axes>"
            ]
          },
          "metadata": {
            "needs_background": "light"
          }
        }
      ]
    },
    {
      "cell_type": "code",
      "metadata": {
        "colab": {
          "base_uri": "https://localhost:8080/",
          "height": 35
        },
        "id": "rYdYPP_VLkpF",
        "outputId": "1ef8612c-b963-4f6a-9cf7-f457a8e47ac5"
      },
      "source": [
        "classes[y_classes[3]]"
      ],
      "execution_count": 32,
      "outputs": [
        {
          "output_type": "execute_result",
          "data": {
            "application/vnd.google.colaboratory.intrinsic+json": {
              "type": "string"
            },
            "text/plain": [
              "'airplane'"
            ]
          },
          "metadata": {},
          "execution_count": 32
        }
      ]
    },
    {
      "cell_type": "code",
      "metadata": {
        "colab": {
          "base_uri": "https://localhost:8080/",
          "height": 35
        },
        "id": "PTCIikpHLkpH",
        "outputId": "79649ba5-0d5b-4955-c5e5-e2fcee3a7d51"
      },
      "source": [
        "classes[y_classes[3]]"
      ],
      "execution_count": 33,
      "outputs": [
        {
          "output_type": "execute_result",
          "data": {
            "application/vnd.google.colaboratory.intrinsic+json": {
              "type": "string"
            },
            "text/plain": [
              "'airplane'"
            ]
          },
          "metadata": {},
          "execution_count": 33
        }
      ]
    },
    {
      "cell_type": "code",
      "metadata": {
        "id": "R_AJRAaSRhpI"
      },
      "source": [
        ""
      ],
      "execution_count": null,
      "outputs": []
    }
  ]
}