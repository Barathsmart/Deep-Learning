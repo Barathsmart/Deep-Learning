{
  "nbformat": 4,
  "nbformat_minor": 0,
  "metadata": {
    "kernelspec": {
      "display_name": "Python 3",
      "language": "python",
      "name": "python3"
    },
    "language_info": {
      "codemirror_mode": {
        "name": "ipython",
        "version": 3
      },
      "file_extension": ".py",
      "mimetype": "text/x-python",
      "name": "python",
      "nbconvert_exporter": "python",
      "pygments_lexer": "ipython3",
      "version": "3.8.5"
    },
    "colab": {
      "name": "ANN_TerminateonNAN.ipynb",
      "provenance": [],
      "collapsed_sections": []
    }
  },
  "cells": [
    {
      "cell_type": "markdown",
      "metadata": {
        "id": "-5LlQfLBOvUB"
      },
      "source": [
        "<h2 style=\"color:blue\" align=\"center\">Handwritten digits classification using ANN</h2>"
      ]
    },
    {
      "cell_type": "markdown",
      "metadata": {
        "id": "WhGkTSK-OvUJ"
      },
      "source": [
        "In this notebook we will classify handwritten digits using a simple neural network (ANN) first and than repeat same thing with convolutional neural network. We will see how accuracy improves clickly when you use convolutional neural network."
      ]
    },
    {
      "cell_type": "code",
      "metadata": {
        "id": "alIXxrxAOvUM"
      },
      "source": [
        "import tensorflow as tf\n",
        "from tensorflow import keras\n",
        "from tensorflow.keras import datasets, layers, models\n",
        "import matplotlib.pyplot as plt\n",
        "%matplotlib inline\n",
        "import numpy as np"
      ],
      "execution_count": 1,
      "outputs": []
    },
    {
      "cell_type": "code",
      "metadata": {
        "colab": {
          "base_uri": "https://localhost:8080/"
        },
        "id": "Mros0rldOvUQ",
        "outputId": "863fe48d-4db1-4a70-ac52-f9f43c5080e4"
      },
      "source": [
        "(X_train, y_train) , (X_test, y_test) = keras.datasets.mnist.load_data()"
      ],
      "execution_count": 2,
      "outputs": [
        {
          "output_type": "stream",
          "name": "stdout",
          "text": [
            "Downloading data from https://storage.googleapis.com/tensorflow/tf-keras-datasets/mnist.npz\n",
            "11493376/11490434 [==============================] - 0s 0us/step\n",
            "11501568/11490434 [==============================] - 0s 0us/step\n"
          ]
        }
      ]
    },
    {
      "cell_type": "code",
      "metadata": {
        "colab": {
          "base_uri": "https://localhost:8080/"
        },
        "id": "JZ4BJdD4OvUS",
        "outputId": "abb658ed-85c0-4dd8-81e5-5a05219d171d"
      },
      "source": [
        "X_train.shape"
      ],
      "execution_count": 3,
      "outputs": [
        {
          "output_type": "execute_result",
          "data": {
            "text/plain": [
              "(60000, 28, 28)"
            ]
          },
          "metadata": {},
          "execution_count": 3
        }
      ]
    },
    {
      "cell_type": "code",
      "metadata": {
        "colab": {
          "base_uri": "https://localhost:8080/"
        },
        "id": "8W_wrVAgOvUW",
        "outputId": "e1620aaf-d04b-4505-a5e3-755c65bf2fa8"
      },
      "source": [
        "X_test.shape"
      ],
      "execution_count": 4,
      "outputs": [
        {
          "output_type": "execute_result",
          "data": {
            "text/plain": [
              "(10000, 28, 28)"
            ]
          },
          "metadata": {},
          "execution_count": 4
        }
      ]
    },
    {
      "cell_type": "code",
      "metadata": {
        "colab": {
          "base_uri": "https://localhost:8080/"
        },
        "id": "L_IeauBROvUX",
        "outputId": "bf03ca7f-df90-451f-fdca-5852cc19902f"
      },
      "source": [
        "X_train[0].shape"
      ],
      "execution_count": 5,
      "outputs": [
        {
          "output_type": "execute_result",
          "data": {
            "text/plain": [
              "(28, 28)"
            ]
          },
          "metadata": {},
          "execution_count": 5
        }
      ]
    },
    {
      "cell_type": "code",
      "metadata": {
        "colab": {
          "base_uri": "https://localhost:8080/",
          "height": 292
        },
        "id": "dvjIVlTvOvUY",
        "outputId": "268db258-b7ef-4eae-d62a-3c7491e8fa6e"
      },
      "source": [
        "plt.matshow(X_train[0])"
      ],
      "execution_count": 6,
      "outputs": [
        {
          "output_type": "execute_result",
          "data": {
            "text/plain": [
              "<matplotlib.image.AxesImage at 0x7fa82e650550>"
            ]
          },
          "metadata": {},
          "execution_count": 6
        },
        {
          "output_type": "display_data",
          "data": {
            "text/plain": [
              "<Figure size 288x288 with 1 Axes>"
            ],
            "image/png": "[encoded data removed]"
          },
          "metadata": {
            "needs_background": "light"
          }
        }
      ]
    },
    {
      "cell_type": "code",
      "metadata": {
        "colab": {
          "base_uri": "https://localhost:8080/"
        },
        "id": "64CiGeIgOvUa",
        "outputId": "7c887bd6-98ed-4a4d-e445-6764d534a06d"
      },
      "source": [
        "y_train[0]"
      ],
      "execution_count": 7,
      "outputs": [
        {
          "output_type": "execute_result",
          "data": {
            "text/plain": [
              "5"
            ]
          },
          "metadata": {},
          "execution_count": 7
        }
      ]
    },
    {
      "cell_type": "code",
      "metadata": {
        "id": "pyAFeNOYOvUd"
      },
      "source": [
        "X_train = X_train / 255\n",
        "X_test = X_test / 255"
      ],
      "execution_count": 8,
      "outputs": []
    },
    {
      "cell_type": "code",
      "source": [
        "X_train_flattened = X_train.reshape(len(X_train), 28*28)\n",
        "X_test_flattened = X_test.reshape(len(X_test), 28*28)"
      ],
      "metadata": {
        "id": "XogYkV9KTyvM"
      },
      "execution_count": 9,
      "outputs": []
    },
    {
      "cell_type": "code",
      "source": [
        "X_train_flattened.shape"
      ],
      "metadata": {
        "colab": {
          "base_uri": "https://localhost:8080/"
        },
        "id": "DQvah_3ST2-X",
        "outputId": "e46aa0e0-5af3-4093-e7f7-9a1496ec4d03"
      },
      "execution_count": 10,
      "outputs": [
        {
          "output_type": "execute_result",
          "data": {
            "text/plain": [
              "(60000, 784)"
            ]
          },
          "metadata": {},
          "execution_count": 10
        }
      ]
    },
    {
      "cell_type": "markdown",
      "metadata": {
        "id": "tOzyt5UwOvUn"
      },
      "source": [
        "# <h3 style='color:purple'>Using ANN for classification</h3>"
      ]
    },
    {
      "cell_type": "code",
      "metadata": {
        "id": "jX5Y2c2aOvUp"
      },
      "source": [
        "model = model = keras.Sequential([\n",
        "    keras.layers.Dense(100, input_shape=(784,), activation='relu'),\n",
        "    keras.layers.Dense(10, activation='sigmoid')\n",
        "])\n"
      ],
      "execution_count": 11,
      "outputs": []
    },
    {
      "cell_type": "code",
      "metadata": {
        "colab": {
          "base_uri": "https://localhost:8080/"
        },
        "id": "HcOtAHLiPbyX",
        "outputId": "25c226a8-1ec5-4c6d-bb2a-50520d87cf9d"
      },
      "source": [
        "model.summary()"
      ],
      "execution_count": 12,
      "outputs": [
        {
          "output_type": "stream",
          "name": "stdout",
          "text": [
            "Model: \"sequential\"\n",
            "_________________________________________________________________\n",
            " Layer (type)                Output Shape              Param #   \n",
            "=================================================================\n",
            " dense (Dense)               (None, 100)               78500     \n",
            "                                                                 \n",
            " dense_1 (Dense)             (None, 10)                1010      \n",
            "                                                                 \n",
            "=================================================================\n",
            "Total params: 79,510\n",
            "Trainable params: 79,510\n",
            "Non-trainable params: 0\n",
            "_________________________________________________________________\n"
          ]
        }
      ]
    },
    {
      "cell_type": "code",
      "metadata": {
        "scrolled": true,
        "colab": {
          "base_uri": "https://localhost:8080/"
        },
        "id": "3JeGVJomOvUq",
        "outputId": "f02149c0-9966-422e-b9ee-1754a5b475ed"
      },
      "source": [
        "model.compile(optimizer='adam',\n",
        "              loss='sparse_categorical_crossentropy',\n",
        "              metrics=['accuracy'])\n",
        "\n",
        "model.fit(X_train_flattened, y_train, epochs=5)"
      ],
      "execution_count": 13,
      "outputs": [
        {
          "output_type": "stream",
          "name": "stdout",
          "text": [
            "Epoch 1/5\n",
            "1875/1875 [==============================] - 9s 4ms/step - loss: 0.2790 - accuracy: 0.9210\n",
            "Epoch 2/5\n",
            "1875/1875 [==============================] - 8s 4ms/step - loss: 0.1227 - accuracy: 0.9644\n",
            "Epoch 3/5\n",
            "1875/1875 [==============================] - 5s 2ms/step - loss: 0.0859 - accuracy: 0.9746\n",
            "Epoch 4/5\n",
            "1875/1875 [==============================] - 4s 2ms/step - loss: 0.0649 - accuracy: 0.9803\n",
            "Epoch 5/5\n",
            "1875/1875 [==============================] - 4s 2ms/step - loss: 0.0503 - accuracy: 0.9848\n"
          ]
        },
        {
          "output_type": "execute_result",
          "data": {
            "text/plain": [
              "<keras.callbacks.History at 0x7fa829fe0e90>"
            ]
          },
          "metadata": {},
          "execution_count": 13
        }
      ]
    },
    {
      "cell_type": "code",
      "metadata": {
        "colab": {
          "base_uri": "https://localhost:8080/"
        },
        "id": "V80mFFE1OvUs",
        "outputId": "6da3ea49-9110-47c7-ac37-767ec09ba9a1"
      },
      "source": [
        "y_train[:5]"
      ],
      "execution_count": 14,
      "outputs": [
        {
          "output_type": "execute_result",
          "data": {
            "text/plain": [
              "array([5, 0, 4, 1, 9], dtype=uint8)"
            ]
          },
          "metadata": {},
          "execution_count": 14
        }
      ]
    },
    {
      "cell_type": "code",
      "metadata": {
        "colab": {
          "base_uri": "https://localhost:8080/"
        },
        "id": "VHjYsJ82OvUt",
        "outputId": "8f18989e-10ad-4ec0-95e9-3af8bb251911"
      },
      "source": [
        "model.evaluate(X_test_flattened,y_test)"
      ],
      "execution_count": 15,
      "outputs": [
        {
          "output_type": "stream",
          "name": "stdout",
          "text": [
            "313/313 [==============================] - 1s 2ms/step - loss: 0.0765 - accuracy: 0.9767\n"
          ]
        },
        {
          "output_type": "execute_result",
          "data": {
            "text/plain": [
              "[0.07653237134218216, 0.9767000079154968]"
            ]
          },
          "metadata": {},
          "execution_count": 15
        }
      ]
    },
    {
      "cell_type": "markdown",
      "source": [
        "# Callbacks"
      ],
      "metadata": {
        "id": "U2xvA0EkYfY5"
      }
    },
    {
      "cell_type": "code",
      "source": [
        "from tensorflow.keras.callbacks import Callback, CSVLogger, EarlyStopping, LearningRateScheduler, ModelCheckpoint, ReduceLROnPlateau,TerminateOnNaN"
      ],
      "metadata": {
        "id": "9_SXn0KmYjLx"
      },
      "execution_count": 17,
      "outputs": []
    },
    {
      "cell_type": "markdown",
      "source": [
        "# ModelCheckpoint"
      ],
      "metadata": {
        "id": "kzIZ9_-bYCRp"
      }
    },
    {
      "cell_type": "code",
      "source": [
        "model = model = keras.Sequential([\n",
        "    keras.layers.Dense(100, input_shape=(784,), activation='relu'),\n",
        "    keras.layers.Dense(10, activation='sigmoid')\n",
        "])"
      ],
      "metadata": {
        "id": "7oa9wQqTYBlM"
      },
      "execution_count": 18,
      "outputs": []
    },
    {
      "cell_type": "code",
      "source": [
        "model.compile(optimizer='adam',\n",
        "              loss='sparse_categorical_crossentropy',\n",
        "              metrics=['accuracy'])"
      ],
      "metadata": {
        "id": "reP97q2nYBop"
      },
      "execution_count": 19,
      "outputs": []
    },
    {
      "cell_type": "code",
      "source": [
        "checkpoint = TerminateOnNaN()"
      ],
      "metadata": {
        "id": "9tbptGF3YX39"
      },
      "execution_count": 21,
      "outputs": []
    },
    {
      "cell_type": "code",
      "source": [
        "model.fit(X_train_flattened, y_train, epochs=50, batch_size=128, validation_data=(X_test_flattened,y_test), callbacks=[checkpoint])"
      ],
      "metadata": {
        "colab": {
          "base_uri": "https://localhost:8080/"
        },
        "id": "TeQL75jGYabl",
        "outputId": "d53e692f-c6e4-4034-be76-c3c31e2086dd"
      },
      "execution_count": 22,
      "outputs": [
        {
          "output_type": "stream",
          "name": "stdout",
          "text": [
            "Epoch 1/50\n",
            "469/469 [==============================] - 3s 5ms/step - loss: 0.3654 - accuracy: 0.8996 - val_loss: 0.1993 - val_accuracy: 0.9445\n",
            "Epoch 2/50\n",
            "469/469 [==============================] - 2s 5ms/step - loss: 0.1698 - accuracy: 0.9518 - val_loss: 0.1456 - val_accuracy: 0.9580\n",
            "Epoch 3/50\n",
            "469/469 [==============================] - 2s 5ms/step - loss: 0.1245 - accuracy: 0.9640 - val_loss: 0.1213 - val_accuracy: 0.9646\n",
            "Epoch 4/50\n",
            "469/469 [==============================] - 2s 5ms/step - loss: 0.0990 - accuracy: 0.9718 - val_loss: 0.1015 - val_accuracy: 0.9708\n",
            "Epoch 5/50\n",
            "469/469 [==============================] - 2s 5ms/step - loss: 0.0807 - accuracy: 0.9771 - val_loss: 0.0909 - val_accuracy: 0.9729\n",
            "Epoch 6/50\n",
            "469/469 [==============================] - 2s 4ms/step - loss: 0.0679 - accuracy: 0.9808 - val_loss: 0.0843 - val_accuracy: 0.9745\n",
            "Epoch 7/50\n",
            "469/469 [==============================] - 3s 5ms/step - loss: 0.0574 - accuracy: 0.9836 - val_loss: 0.0812 - val_accuracy: 0.9764\n",
            "Epoch 8/50\n",
            "469/469 [==============================] - 2s 5ms/step - loss: 0.0493 - accuracy: 0.9863 - val_loss: 0.0832 - val_accuracy: 0.9748\n",
            "Epoch 9/50\n",
            "469/469 [==============================] - 2s 5ms/step - loss: 0.0421 - accuracy: 0.9883 - val_loss: 0.0799 - val_accuracy: 0.9759\n",
            "Epoch 10/50\n",
            "469/469 [==============================] - 2s 5ms/step - loss: 0.0364 - accuracy: 0.9895 - val_loss: 0.0755 - val_accuracy: 0.9776\n",
            "Epoch 11/50\n",
            "469/469 [==============================] - 2s 4ms/step - loss: 0.0308 - accuracy: 0.9918 - val_loss: 0.0750 - val_accuracy: 0.9778\n",
            "Epoch 12/50\n",
            "469/469 [==============================] - 2s 5ms/step - loss: 0.0275 - accuracy: 0.9932 - val_loss: 0.0716 - val_accuracy: 0.9779\n",
            "Epoch 13/50\n",
            "469/469 [==============================] - 2s 4ms/step - loss: 0.0229 - accuracy: 0.9942 - val_loss: 0.0723 - val_accuracy: 0.9784\n",
            "Epoch 14/50\n",
            "469/469 [==============================] - 2s 5ms/step - loss: 0.0200 - accuracy: 0.9951 - val_loss: 0.0726 - val_accuracy: 0.9798\n",
            "Epoch 15/50\n",
            "469/469 [==============================] - 2s 5ms/step - loss: 0.0176 - accuracy: 0.9959 - val_loss: 0.0737 - val_accuracy: 0.9796\n",
            "Epoch 16/50\n",
            "469/469 [==============================] - 2s 5ms/step - loss: 0.0147 - accuracy: 0.9966 - val_loss: 0.0728 - val_accuracy: 0.9778\n",
            "Epoch 17/50\n",
            "469/469 [==============================] - 2s 5ms/step - loss: 0.0130 - accuracy: 0.9973 - val_loss: 0.0760 - val_accuracy: 0.9780\n",
            "Epoch 18/50\n",
            "469/469 [==============================] - 2s 4ms/step - loss: 0.0117 - accuracy: 0.9975 - val_loss: 0.0779 - val_accuracy: 0.9786\n",
            "Epoch 19/50\n",
            "469/469 [==============================] - 2s 5ms/step - loss: 0.0099 - accuracy: 0.9982 - val_loss: 0.0782 - val_accuracy: 0.9781\n",
            "Epoch 20/50\n",
            "469/469 [==============================] - 2s 5ms/step - loss: 0.0078 - accuracy: 0.9988 - val_loss: 0.0808 - val_accuracy: 0.9781\n",
            "Epoch 21/50\n",
            "469/469 [==============================] - 2s 5ms/step - loss: 0.0072 - accuracy: 0.9988 - val_loss: 0.0812 - val_accuracy: 0.9787\n",
            "Epoch 22/50\n",
            "469/469 [==============================] - 2s 4ms/step - loss: 0.0066 - accuracy: 0.9988 - val_loss: 0.0878 - val_accuracy: 0.9763\n",
            "Epoch 23/50\n",
            "469/469 [==============================] - 2s 5ms/step - loss: 0.0057 - accuracy: 0.9991 - val_loss: 0.0838 - val_accuracy: 0.9787\n",
            "Epoch 24/50\n",
            "469/469 [==============================] - 2s 5ms/step - loss: 0.0052 - accuracy: 0.9992 - val_loss: 0.0886 - val_accuracy: 0.9770\n",
            "Epoch 25/50\n",
            "469/469 [==============================] - 2s 5ms/step - loss: 0.0043 - accuracy: 0.9993 - val_loss: 0.0897 - val_accuracy: 0.9784\n",
            "Epoch 26/50\n",
            "469/469 [==============================] - 2s 4ms/step - loss: 0.0043 - accuracy: 0.9992 - val_loss: 0.0924 - val_accuracy: 0.9772\n",
            "Epoch 27/50\n",
            "469/469 [==============================] - 2s 4ms/step - loss: 0.0043 - accuracy: 0.9994 - val_loss: 0.0884 - val_accuracy: 0.9793\n",
            "Epoch 28/50\n",
            "469/469 [==============================] - 2s 5ms/step - loss: 0.0027 - accuracy: 0.9998 - val_loss: 0.1015 - val_accuracy: 0.9779\n",
            "Epoch 29/50\n",
            "469/469 [==============================] - 2s 5ms/step - loss: 0.0027 - accuracy: 0.9997 - val_loss: 0.1003 - val_accuracy: 0.9782\n",
            "Epoch 30/50\n",
            "469/469 [==============================] - 2s 5ms/step - loss: 0.0036 - accuracy: 0.9995 - val_loss: 0.0984 - val_accuracy: 0.9779\n",
            "Epoch 31/50\n",
            "469/469 [==============================] - 2s 5ms/step - loss: 0.0039 - accuracy: 0.9992 - val_loss: 0.0984 - val_accuracy: 0.9780\n",
            "Epoch 32/50\n",
            "469/469 [==============================] - 2s 5ms/step - loss: 0.0023 - accuracy: 0.9996 - val_loss: 0.0949 - val_accuracy: 0.9795\n",
            "Epoch 33/50\n",
            "469/469 [==============================] - 2s 5ms/step - loss: 0.0014 - accuracy: 0.9999 - val_loss: 0.0982 - val_accuracy: 0.9791\n",
            "Epoch 34/50\n",
            "469/469 [==============================] - 2s 5ms/step - loss: 8.5311e-04 - accuracy: 1.0000 - val_loss: 0.0961 - val_accuracy: 0.9796\n",
            "Epoch 35/50\n",
            "469/469 [==============================] - 2s 4ms/step - loss: 7.0417e-04 - accuracy: 1.0000 - val_loss: 0.0970 - val_accuracy: 0.9788\n",
            "Epoch 36/50\n",
            "469/469 [==============================] - 2s 4ms/step - loss: 0.0129 - accuracy: 0.9960 - val_loss: 0.1063 - val_accuracy: 0.9798\n",
            "Epoch 37/50\n",
            "469/469 [==============================] - 2s 5ms/step - loss: 0.0021 - accuracy: 0.9996 - val_loss: 0.0988 - val_accuracy: 0.9805\n",
            "Epoch 38/50\n",
            "469/469 [==============================] - 2s 5ms/step - loss: 7.5412e-04 - accuracy: 1.0000 - val_loss: 0.1013 - val_accuracy: 0.9798\n",
            "Epoch 39/50\n",
            "469/469 [==============================] - 2s 5ms/step - loss: 5.3868e-04 - accuracy: 1.0000 - val_loss: 0.1002 - val_accuracy: 0.9798\n",
            "Epoch 40/50\n",
            "469/469 [==============================] - 2s 5ms/step - loss: 4.3634e-04 - accuracy: 1.0000 - val_loss: 0.1015 - val_accuracy: 0.9796\n",
            "Epoch 41/50\n",
            "469/469 [==============================] - 2s 4ms/step - loss: 3.9633e-04 - accuracy: 1.0000 - val_loss: 0.1007 - val_accuracy: 0.9800\n",
            "Epoch 42/50\n",
            "469/469 [==============================] - 2s 4ms/step - loss: 3.7037e-04 - accuracy: 1.0000 - val_loss: 0.1021 - val_accuracy: 0.9797\n",
            "Epoch 43/50\n",
            "469/469 [==============================] - 2s 5ms/step - loss: 3.2678e-04 - accuracy: 1.0000 - val_loss: 0.1032 - val_accuracy: 0.9793\n",
            "Epoch 44/50\n",
            "469/469 [==============================] - 2s 5ms/step - loss: 0.0040 - accuracy: 0.9987 - val_loss: 0.1437 - val_accuracy: 0.9733\n",
            "Epoch 45/50\n",
            "469/469 [==============================] - 2s 5ms/step - loss: 0.0092 - accuracy: 0.9969 - val_loss: 0.1119 - val_accuracy: 0.9786\n",
            "Epoch 46/50\n",
            "469/469 [==============================] - 2s 5ms/step - loss: 9.9058e-04 - accuracy: 0.9999 - val_loss: 0.1087 - val_accuracy: 0.9794\n",
            "Epoch 47/50\n",
            "469/469 [==============================] - 2s 5ms/step - loss: 4.0424e-04 - accuracy: 1.0000 - val_loss: 0.1064 - val_accuracy: 0.9797\n",
            "Epoch 48/50\n",
            "469/469 [==============================] - 2s 5ms/step - loss: 2.9059e-04 - accuracy: 1.0000 - val_loss: 0.1070 - val_accuracy: 0.9796\n",
            "Epoch 49/50\n",
            "469/469 [==============================] - 2s 5ms/step - loss: 2.5084e-04 - accuracy: 1.0000 - val_loss: 0.1061 - val_accuracy: 0.9797\n",
            "Epoch 50/50\n",
            "469/469 [==============================] - 2s 5ms/step - loss: 2.2961e-04 - accuracy: 1.0000 - val_loss: 0.1069 - val_accuracy: 0.9799\n"
          ]
        },
        {
          "output_type": "execute_result",
          "data": {
            "text/plain": [
              "<keras.callbacks.History at 0x7fa82685a290>"
            ]
          },
          "metadata": {},
          "execution_count": 22
        }
      ]
    },
    {
      "cell_type": "code",
      "source": [
        "# accuracy on validation set\n",
        "\n",
        "model.evaluate(X_test_flattened,y_test)"
      ],
      "metadata": {
        "colab": {
          "base_uri": "https://localhost:8080/"
        },
        "id": "B4SlkZmDYoHf",
        "outputId": "e74eb5c5-fe0b-4997-9b9f-872de5415276"
      },
      "execution_count": 23,
      "outputs": [
        {
          "output_type": "stream",
          "name": "stdout",
          "text": [
            "313/313 [==============================] - 1s 2ms/step - loss: 0.1069 - accuracy: 0.9799\n"
          ]
        },
        {
          "output_type": "execute_result",
          "data": {
            "text/plain": [
              "[0.10693635046482086, 0.9799000024795532]"
            ]
          },
          "metadata": {},
          "execution_count": 23
        }
      ]
    },
    {
      "cell_type": "code",
      "source": [
        "model.evaluate(X_test_flattened,y_test)"
      ],
      "metadata": {
        "colab": {
          "base_uri": "https://localhost:8080/"
        },
        "id": "Nh9rwYRdYxCv",
        "outputId": "b03e97d8-fc0f-46e0-c5c0-93d9d8c134d1"
      },
      "execution_count": 24,
      "outputs": [
        {
          "output_type": "stream",
          "name": "stdout",
          "text": [
            "313/313 [==============================] - 1s 2ms/step - loss: 0.1069 - accuracy: 0.9799\n"
          ]
        },
        {
          "output_type": "execute_result",
          "data": {
            "text/plain": [
              "[0.10693635046482086, 0.9799000024795532]"
            ]
          },
          "metadata": {},
          "execution_count": 24
        }
      ]
    },
    {
      "cell_type": "code",
      "source": [
        ""
      ],
      "metadata": {
        "id": "Wk-2zLOheQGo"
      },
      "execution_count": null,
      "outputs": []
    }
  ]
}