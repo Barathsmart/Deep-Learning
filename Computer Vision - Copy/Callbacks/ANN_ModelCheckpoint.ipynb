{
  "nbformat": 4,
  "nbformat_minor": 0,
  "metadata": {
    "kernelspec": {
      "display_name": "Python 3",
      "language": "python",
      "name": "python3"
    },
    "language_info": {
      "codemirror_mode": {
        "name": "ipython",
        "version": 3
      },
      "file_extension": ".py",
      "mimetype": "text/x-python",
      "name": "python",
      "nbconvert_exporter": "python",
      "pygments_lexer": "ipython3",
      "version": "3.8.5"
    },
    "colab": {
      "name": "ANN_ModelCheckpoint.ipynb",
      "provenance": [],
      "collapsed_sections": []
    }
  },
  "cells": [
    {
      "cell_type": "markdown",
      "metadata": {
        "id": "-5LlQfLBOvUB"
      },
      "source": [
        "<h2 style=\"color:blue\" align=\"center\">Handwritten digits classification using ANN</h2>"
      ]
    },
    {
      "cell_type": "markdown",
      "metadata": {
        "id": "WhGkTSK-OvUJ"
      },
      "source": [
        "In this notebook we will classify handwritten digits using a simple neural network (ANN) first and than repeat same thing with convolutional neural network. We will see how accuracy improves clickly when you use convolutional neural network."
      ]
    },
    {
      "cell_type": "code",
      "metadata": {
        "id": "alIXxrxAOvUM"
      },
      "source": [
        "import tensorflow as tf\n",
        "from tensorflow import keras\n",
        "from tensorflow.keras import datasets, layers, models\n",
        "import matplotlib.pyplot as plt\n",
        "%matplotlib inline\n",
        "import numpy as np"
      ],
      "execution_count": 1,
      "outputs": []
    },
    {
      "cell_type": "code",
      "metadata": {
        "colab": {
          "base_uri": "https://localhost:8080/"
        },
        "id": "Mros0rldOvUQ",
        "outputId": "ddc3d70f-b871-4c1d-ce7c-74433cd9eda7"
      },
      "source": [
        "(X_train, y_train) , (X_test, y_test) = keras.datasets.mnist.load_data()"
      ],
      "execution_count": 2,
      "outputs": [
        {
          "output_type": "stream",
          "name": "stdout",
          "text": [
            "Downloading data from https://storage.googleapis.com/tensorflow/tf-keras-datasets/mnist.npz\n",
            "11493376/11490434 [==============================] - 0s 0us/step\n",
            "11501568/11490434 [==============================] - 0s 0us/step\n"
          ]
        }
      ]
    },
    {
      "cell_type": "code",
      "metadata": {
        "colab": {
          "base_uri": "https://localhost:8080/"
        },
        "id": "JZ4BJdD4OvUS",
        "outputId": "b2bf3ec6-bae3-407f-c60c-5cfc4733f81f"
      },
      "source": [
        "X_train.shape"
      ],
      "execution_count": 3,
      "outputs": [
        {
          "output_type": "execute_result",
          "data": {
            "text/plain": [
              "(60000, 28, 28)"
            ]
          },
          "metadata": {},
          "execution_count": 3
        }
      ]
    },
    {
      "cell_type": "code",
      "metadata": {
        "colab": {
          "base_uri": "https://localhost:8080/"
        },
        "id": "8W_wrVAgOvUW",
        "outputId": "d4f40b03-e81a-471c-cd14-a0b13852881c"
      },
      "source": [
        "X_test.shape"
      ],
      "execution_count": 4,
      "outputs": [
        {
          "output_type": "execute_result",
          "data": {
            "text/plain": [
              "(10000, 28, 28)"
            ]
          },
          "metadata": {},
          "execution_count": 4
        }
      ]
    },
    {
      "cell_type": "code",
      "metadata": {
        "colab": {
          "base_uri": "https://localhost:8080/"
        },
        "id": "L_IeauBROvUX",
        "outputId": "ea78e3f0-4c18-4d57-b2a7-8f38d9ddff0e"
      },
      "source": [
        "X_train[0].shape"
      ],
      "execution_count": 5,
      "outputs": [
        {
          "output_type": "execute_result",
          "data": {
            "text/plain": [
              "(28, 28)"
            ]
          },
          "metadata": {},
          "execution_count": 5
        }
      ]
    },
    {
      "cell_type": "code",
      "metadata": {
        "colab": {
          "base_uri": "https://localhost:8080/",
          "height": 292
        },
        "id": "dvjIVlTvOvUY",
        "outputId": "339cd998-c12d-42f6-8f5b-beeff637a8ae"
      },
      "source": [
        "plt.matshow(X_train[0])"
      ],
      "execution_count": 6,
      "outputs": [
        {
          "output_type": "execute_result",
          "data": {
            "text/plain": [
              "<matplotlib.image.AxesImage at 0x7fb85d4f0750>"
            ]
          },
          "metadata": {},
          "execution_count": 6
        },
        {
          "output_type": "display_data",
          "data": {
            "text/plain": [
              "<Figure size 288x288 with 1 Axes>"
            ],
            "image/png": "[encoded data removed]"
          },
          "metadata": {
            "needs_background": "light"
          }
        }
      ]
    },
    {
      "cell_type": "code",
      "metadata": {
        "colab": {
          "base_uri": "https://localhost:8080/"
        },
        "id": "64CiGeIgOvUa",
        "outputId": "633de0ff-db1c-4339-d906-c20df5de1f1e"
      },
      "source": [
        "y_train[0]"
      ],
      "execution_count": 7,
      "outputs": [
        {
          "output_type": "execute_result",
          "data": {
            "text/plain": [
              "5"
            ]
          },
          "metadata": {},
          "execution_count": 7
        }
      ]
    },
    {
      "cell_type": "code",
      "metadata": {
        "id": "pyAFeNOYOvUd"
      },
      "source": [
        "X_train = X_train / 255\n",
        "X_test = X_test / 255"
      ],
      "execution_count": 8,
      "outputs": []
    },
    {
      "cell_type": "code",
      "source": [
        "X_train_flattened = X_train.reshape(len(X_train), 28*28)\n",
        "X_test_flattened = X_test.reshape(len(X_test), 28*28)"
      ],
      "metadata": {
        "id": "XogYkV9KTyvM"
      },
      "execution_count": 9,
      "outputs": []
    },
    {
      "cell_type": "code",
      "source": [
        "X_train_flattened.shape"
      ],
      "metadata": {
        "colab": {
          "base_uri": "https://localhost:8080/"
        },
        "id": "DQvah_3ST2-X",
        "outputId": "b6061ba1-3680-490d-b7a1-4827ae353f2f"
      },
      "execution_count": 10,
      "outputs": [
        {
          "output_type": "execute_result",
          "data": {
            "text/plain": [
              "(60000, 784)"
            ]
          },
          "metadata": {},
          "execution_count": 10
        }
      ]
    },
    {
      "cell_type": "markdown",
      "metadata": {
        "id": "tOzyt5UwOvUn"
      },
      "source": [
        "# <h3 style='color:purple'>Using ANN for classification</h3>"
      ]
    },
    {
      "cell_type": "code",
      "metadata": {
        "id": "jX5Y2c2aOvUp"
      },
      "source": [
        "model = model = keras.Sequential([\n",
        "    keras.layers.Dense(100, input_shape=(784,), activation='relu'),\n",
        "    keras.layers.Dense(10, activation='sigmoid')\n",
        "])\n"
      ],
      "execution_count": 11,
      "outputs": []
    },
    {
      "cell_type": "code",
      "metadata": {
        "colab": {
          "base_uri": "https://localhost:8080/"
        },
        "id": "HcOtAHLiPbyX",
        "outputId": "2e648432-408b-4129-c1dc-41c17a5e1179"
      },
      "source": [
        "model.summary()"
      ],
      "execution_count": 12,
      "outputs": [
        {
          "output_type": "stream",
          "name": "stdout",
          "text": [
            "Model: \"sequential\"\n",
            "_________________________________________________________________\n",
            " Layer (type)                Output Shape              Param #   \n",
            "=================================================================\n",
            " dense (Dense)               (None, 100)               78500     \n",
            "                                                                 \n",
            " dense_1 (Dense)             (None, 10)                1010      \n",
            "                                                                 \n",
            "=================================================================\n",
            "Total params: 79,510\n",
            "Trainable params: 79,510\n",
            "Non-trainable params: 0\n",
            "_________________________________________________________________\n"
          ]
        }
      ]
    },
    {
      "cell_type": "code",
      "metadata": {
        "scrolled": true,
        "colab": {
          "base_uri": "https://localhost:8080/"
        },
        "id": "3JeGVJomOvUq",
        "outputId": "9c209bde-f95a-4d8f-cd91-875eb3390449"
      },
      "source": [
        "model.compile(optimizer='adam',\n",
        "              loss='sparse_categorical_crossentropy',\n",
        "              metrics=['accuracy'])\n",
        "\n",
        "model.fit(X_train_flattened, y_train, epochs=5)"
      ],
      "execution_count": 13,
      "outputs": [
        {
          "output_type": "stream",
          "name": "stdout",
          "text": [
            "Epoch 1/5\n",
            "1875/1875 [==============================] - 8s 4ms/step - loss: 0.2764 - accuracy: 0.9218\n",
            "Epoch 2/5\n",
            "1875/1875 [==============================] - 6s 3ms/step - loss: 0.1253 - accuracy: 0.9631\n",
            "Epoch 3/5\n",
            "1875/1875 [==============================] - 4s 2ms/step - loss: 0.0854 - accuracy: 0.9746\n",
            "Epoch 4/5\n",
            "1875/1875 [==============================] - 4s 2ms/step - loss: 0.0639 - accuracy: 0.9804\n",
            "Epoch 5/5\n",
            "1875/1875 [==============================] - 4s 2ms/step - loss: 0.0508 - accuracy: 0.9843\n"
          ]
        },
        {
          "output_type": "execute_result",
          "data": {
            "text/plain": [
              "<keras.callbacks.History at 0x7fb858e831d0>"
            ]
          },
          "metadata": {},
          "execution_count": 13
        }
      ]
    },
    {
      "cell_type": "code",
      "metadata": {
        "colab": {
          "base_uri": "https://localhost:8080/"
        },
        "id": "V80mFFE1OvUs",
        "outputId": "8b7b4046-f491-4551-926c-892ba95f0ead"
      },
      "source": [
        "y_train[:5]"
      ],
      "execution_count": 14,
      "outputs": [
        {
          "output_type": "execute_result",
          "data": {
            "text/plain": [
              "array([5, 0, 4, 1, 9], dtype=uint8)"
            ]
          },
          "metadata": {},
          "execution_count": 14
        }
      ]
    },
    {
      "cell_type": "code",
      "metadata": {
        "colab": {
          "base_uri": "https://localhost:8080/"
        },
        "id": "VHjYsJ82OvUt",
        "outputId": "9a01912e-b4fb-422e-89c6-74fb863bfb88"
      },
      "source": [
        "model.evaluate(X_test_flattened,y_test)"
      ],
      "execution_count": 15,
      "outputs": [
        {
          "output_type": "stream",
          "name": "stdout",
          "text": [
            "313/313 [==============================] - 1s 1ms/step - loss: 0.0721 - accuracy: 0.9785\n"
          ]
        },
        {
          "output_type": "execute_result",
          "data": {
            "text/plain": [
              "[0.07209555059671402, 0.9785000085830688]"
            ]
          },
          "metadata": {},
          "execution_count": 15
        }
      ]
    },
    {
      "cell_type": "markdown",
      "source": [
        "# Callbacks"
      ],
      "metadata": {
        "id": "U2xvA0EkYfY5"
      }
    },
    {
      "cell_type": "code",
      "source": [
        "from tensorflow.keras.callbacks import Callback, CSVLogger, EarlyStopping, LearningRateScheduler, ModelCheckpoint, ReduceLROnPlateau"
      ],
      "metadata": {
        "id": "9_SXn0KmYjLx"
      },
      "execution_count": 16,
      "outputs": []
    },
    {
      "cell_type": "markdown",
      "source": [
        "# ModelCheckpoint"
      ],
      "metadata": {
        "id": "kzIZ9_-bYCRp"
      }
    },
    {
      "cell_type": "code",
      "source": [
        "model = model = keras.Sequential([\n",
        "    keras.layers.Dense(100, input_shape=(784,), activation='relu'),\n",
        "    keras.layers.Dense(10, activation='sigmoid')\n",
        "])"
      ],
      "metadata": {
        "id": "7oa9wQqTYBlM"
      },
      "execution_count": 17,
      "outputs": []
    },
    {
      "cell_type": "code",
      "source": [
        "model.compile(optimizer='adam',\n",
        "              loss='sparse_categorical_crossentropy',\n",
        "              metrics=['accuracy'])"
      ],
      "metadata": {
        "id": "reP97q2nYBop"
      },
      "execution_count": 18,
      "outputs": []
    },
    {
      "cell_type": "code",
      "metadata": {
        "id": "TzeFMRmSQGsA"
      },
      "source": [
        "# defining model checkpointing\n",
        "\n",
        "# defining the path to store the weights\n",
        "filepath=\"best_weights.hdf5\""
      ],
      "execution_count": 19,
      "outputs": []
    },
    {
      "cell_type": "code",
      "source": [
        "checkpoint = ModelCheckpoint(filepath, monitor='val_accuracy', verbose=1, save_best_only=True, mode='max')"
      ],
      "metadata": {
        "id": "9tbptGF3YX39"
      },
      "execution_count": 20,
      "outputs": []
    },
    {
      "cell_type": "code",
      "source": [
        "model.fit(X_train_flattened, y_train, epochs=50, batch_size=128, validation_data=(X_test_flattened,y_test), callbacks=[checkpoint])"
      ],
      "metadata": {
        "colab": {
          "base_uri": "https://localhost:8080/"
        },
        "id": "TeQL75jGYabl",
        "outputId": "ed12724c-bb22-4a96-8609-bd3b0cfc0496"
      },
      "execution_count": 21,
      "outputs": [
        {
          "output_type": "stream",
          "name": "stdout",
          "text": [
            "Epoch 1/50\n",
            "460/469 [============================>.] - ETA: 0s - loss: 0.3792 - accuracy: 0.8982\n",
            "Epoch 1: val_accuracy improved from -inf to 0.94110, saving model to best_weights.hdf5\n",
            "469/469 [==============================] - 2s 4ms/step - loss: 0.3757 - accuracy: 0.8991 - val_loss: 0.2035 - val_accuracy: 0.9411\n",
            "Epoch 2/50\n",
            "467/469 [============================>.] - ETA: 0s - loss: 0.1769 - accuracy: 0.9502\n",
            "Epoch 2: val_accuracy improved from 0.94110 to 0.95650, saving model to best_weights.hdf5\n",
            "469/469 [==============================] - 2s 4ms/step - loss: 0.1767 - accuracy: 0.9503 - val_loss: 0.1484 - val_accuracy: 0.9565\n",
            "Epoch 3/50\n",
            "459/469 [============================>.] - ETA: 0s - loss: 0.1311 - accuracy: 0.9627\n",
            "Epoch 3: val_accuracy improved from 0.95650 to 0.96330, saving model to best_weights.hdf5\n",
            "469/469 [==============================] - 2s 4ms/step - loss: 0.1306 - accuracy: 0.9627 - val_loss: 0.1227 - val_accuracy: 0.9633\n",
            "Epoch 4/50\n",
            "463/469 [============================>.] - ETA: 0s - loss: 0.1029 - accuracy: 0.9710\n",
            "Epoch 4: val_accuracy improved from 0.96330 to 0.96770, saving model to best_weights.hdf5\n",
            "469/469 [==============================] - 2s 4ms/step - loss: 0.1029 - accuracy: 0.9709 - val_loss: 0.1045 - val_accuracy: 0.9677\n",
            "Epoch 5/50\n",
            "466/469 [============================>.] - ETA: 0s - loss: 0.0843 - accuracy: 0.9760\n",
            "Epoch 5: val_accuracy improved from 0.96770 to 0.96820, saving model to best_weights.hdf5\n",
            "469/469 [==============================] - 2s 4ms/step - loss: 0.0845 - accuracy: 0.9759 - val_loss: 0.1027 - val_accuracy: 0.9682\n",
            "Epoch 6/50\n",
            "460/469 [============================>.] - ETA: 0s - loss: 0.0713 - accuracy: 0.9793\n",
            "Epoch 6: val_accuracy improved from 0.96820 to 0.97200, saving model to best_weights.hdf5\n",
            "469/469 [==============================] - 2s 4ms/step - loss: 0.0715 - accuracy: 0.9792 - val_loss: 0.0924 - val_accuracy: 0.9720\n",
            "Epoch 7/50\n",
            "458/469 [============================>.] - ETA: 0s - loss: 0.0610 - accuracy: 0.9829\n",
            "Epoch 7: val_accuracy improved from 0.97200 to 0.97580, saving model to best_weights.hdf5\n",
            "469/469 [==============================] - 2s 4ms/step - loss: 0.0615 - accuracy: 0.9828 - val_loss: 0.0810 - val_accuracy: 0.9758\n",
            "Epoch 8/50\n",
            "455/469 [============================>.] - ETA: 0s - loss: 0.0525 - accuracy: 0.9847\n",
            "Epoch 8: val_accuracy did not improve from 0.97580\n",
            "469/469 [==============================] - 2s 4ms/step - loss: 0.0530 - accuracy: 0.9846 - val_loss: 0.0800 - val_accuracy: 0.9749\n",
            "Epoch 9/50\n",
            "462/469 [============================>.] - ETA: 0s - loss: 0.0446 - accuracy: 0.9876\n",
            "Epoch 9: val_accuracy did not improve from 0.97580\n",
            "469/469 [==============================] - 2s 4ms/step - loss: 0.0448 - accuracy: 0.9875 - val_loss: 0.0782 - val_accuracy: 0.9750\n",
            "Epoch 10/50\n",
            "467/469 [============================>.] - ETA: 0s - loss: 0.0393 - accuracy: 0.9890\n",
            "Epoch 10: val_accuracy did not improve from 0.97580\n",
            "469/469 [==============================] - 2s 4ms/step - loss: 0.0393 - accuracy: 0.9890 - val_loss: 0.0762 - val_accuracy: 0.9757\n",
            "Epoch 11/50\n",
            "463/469 [============================>.] - ETA: 0s - loss: 0.0340 - accuracy: 0.9909\n",
            "Epoch 11: val_accuracy improved from 0.97580 to 0.97640, saving model to best_weights.hdf5\n",
            "469/469 [==============================] - 2s 4ms/step - loss: 0.0339 - accuracy: 0.9909 - val_loss: 0.0753 - val_accuracy: 0.9764\n",
            "Epoch 12/50\n",
            "458/469 [============================>.] - ETA: 0s - loss: 0.0293 - accuracy: 0.9925\n",
            "Epoch 12: val_accuracy did not improve from 0.97640\n",
            "469/469 [==============================] - 2s 4ms/step - loss: 0.0294 - accuracy: 0.9924 - val_loss: 0.0821 - val_accuracy: 0.9751\n",
            "Epoch 13/50\n",
            "462/469 [============================>.] - ETA: 0s - loss: 0.0258 - accuracy: 0.9935\n",
            "Epoch 13: val_accuracy improved from 0.97640 to 0.97670, saving model to best_weights.hdf5\n",
            "469/469 [==============================] - 2s 4ms/step - loss: 0.0258 - accuracy: 0.9935 - val_loss: 0.0759 - val_accuracy: 0.9767\n",
            "Epoch 14/50\n",
            "465/469 [============================>.] - ETA: 0s - loss: 0.0229 - accuracy: 0.9945\n",
            "Epoch 14: val_accuracy improved from 0.97670 to 0.97720, saving model to best_weights.hdf5\n",
            "469/469 [==============================] - 2s 4ms/step - loss: 0.0229 - accuracy: 0.9944 - val_loss: 0.0742 - val_accuracy: 0.9772\n",
            "Epoch 15/50\n",
            "458/469 [============================>.] - ETA: 0s - loss: 0.0204 - accuracy: 0.9950\n",
            "Epoch 15: val_accuracy did not improve from 0.97720\n",
            "469/469 [==============================] - 2s 4ms/step - loss: 0.0205 - accuracy: 0.9949 - val_loss: 0.0784 - val_accuracy: 0.9766\n",
            "Epoch 16/50\n",
            "468/469 [============================>.] - ETA: 0s - loss: 0.0180 - accuracy: 0.9957\n",
            "Epoch 16: val_accuracy improved from 0.97720 to 0.97810, saving model to best_weights.hdf5\n",
            "469/469 [==============================] - 2s 4ms/step - loss: 0.0180 - accuracy: 0.9958 - val_loss: 0.0749 - val_accuracy: 0.9781\n",
            "Epoch 17/50\n",
            "456/469 [============================>.] - ETA: 0s - loss: 0.0153 - accuracy: 0.9966\n",
            "Epoch 17: val_accuracy did not improve from 0.97810\n",
            "469/469 [==============================] - 2s 4ms/step - loss: 0.0153 - accuracy: 0.9965 - val_loss: 0.0761 - val_accuracy: 0.9779\n",
            "Epoch 18/50\n",
            "467/469 [============================>.] - ETA: 0s - loss: 0.0141 - accuracy: 0.9968\n",
            "Epoch 18: val_accuracy improved from 0.97810 to 0.97850, saving model to best_weights.hdf5\n",
            "469/469 [==============================] - 2s 4ms/step - loss: 0.0141 - accuracy: 0.9968 - val_loss: 0.0774 - val_accuracy: 0.9785\n",
            "Epoch 19/50\n",
            "463/469 [============================>.] - ETA: 0s - loss: 0.0119 - accuracy: 0.9974\n",
            "Epoch 19: val_accuracy did not improve from 0.97850\n",
            "469/469 [==============================] - 2s 4ms/step - loss: 0.0119 - accuracy: 0.9974 - val_loss: 0.0822 - val_accuracy: 0.9774\n",
            "Epoch 20/50\n",
            "467/469 [============================>.] - ETA: 0s - loss: 0.0106 - accuracy: 0.9979\n",
            "Epoch 20: val_accuracy did not improve from 0.97850\n",
            "469/469 [==============================] - 2s 4ms/step - loss: 0.0106 - accuracy: 0.9979 - val_loss: 0.0889 - val_accuracy: 0.9764\n",
            "Epoch 21/50\n",
            "464/469 [============================>.] - ETA: 0s - loss: 0.0098 - accuracy: 0.9979\n",
            "Epoch 21: val_accuracy did not improve from 0.97850\n",
            "469/469 [==============================] - 2s 4ms/step - loss: 0.0099 - accuracy: 0.9979 - val_loss: 0.0895 - val_accuracy: 0.9755\n",
            "Epoch 22/50\n",
            "457/469 [============================>.] - ETA: 0s - loss: 0.0077 - accuracy: 0.9987\n",
            "Epoch 22: val_accuracy did not improve from 0.97850\n",
            "469/469 [==============================] - 2s 4ms/step - loss: 0.0078 - accuracy: 0.9987 - val_loss: 0.0827 - val_accuracy: 0.9773\n",
            "Epoch 23/50\n",
            "460/469 [============================>.] - ETA: 0s - loss: 0.0061 - accuracy: 0.9992\n",
            "Epoch 23: val_accuracy improved from 0.97850 to 0.97940, saving model to best_weights.hdf5\n",
            "469/469 [==============================] - 2s 4ms/step - loss: 0.0062 - accuracy: 0.9992 - val_loss: 0.0808 - val_accuracy: 0.9794\n",
            "Epoch 24/50\n",
            "458/469 [============================>.] - ETA: 0s - loss: 0.0057 - accuracy: 0.9991\n",
            "Epoch 24: val_accuracy did not improve from 0.97940\n",
            "469/469 [==============================] - 2s 4ms/step - loss: 0.0058 - accuracy: 0.9991 - val_loss: 0.0954 - val_accuracy: 0.9768\n",
            "Epoch 25/50\n",
            "459/469 [============================>.] - ETA: 0s - loss: 0.0063 - accuracy: 0.9989\n",
            "Epoch 25: val_accuracy did not improve from 0.97940\n",
            "469/469 [==============================] - 2s 4ms/step - loss: 0.0063 - accuracy: 0.9988 - val_loss: 0.0898 - val_accuracy: 0.9773\n",
            "Epoch 26/50\n",
            "458/469 [============================>.] - ETA: 0s - loss: 0.0059 - accuracy: 0.9987\n",
            "Epoch 26: val_accuracy did not improve from 0.97940\n",
            "469/469 [==============================] - 2s 4ms/step - loss: 0.0058 - accuracy: 0.9987 - val_loss: 0.0849 - val_accuracy: 0.9772\n",
            "Epoch 27/50\n",
            "468/469 [============================>.] - ETA: 0s - loss: 0.0046 - accuracy: 0.9992\n",
            "Epoch 27: val_accuracy did not improve from 0.97940\n",
            "469/469 [==============================] - 2s 4ms/step - loss: 0.0046 - accuracy: 0.9992 - val_loss: 0.0929 - val_accuracy: 0.9752\n",
            "Epoch 28/50\n",
            "464/469 [============================>.] - ETA: 0s - loss: 0.0035 - accuracy: 0.9996\n",
            "Epoch 28: val_accuracy did not improve from 0.97940\n",
            "469/469 [==============================] - 2s 4ms/step - loss: 0.0035 - accuracy: 0.9996 - val_loss: 0.1043 - val_accuracy: 0.9737\n",
            "Epoch 29/50\n",
            "465/469 [============================>.] - ETA: 0s - loss: 0.0039 - accuracy: 0.9994\n",
            "Epoch 29: val_accuracy did not improve from 0.97940\n",
            "469/469 [==============================] - 2s 4ms/step - loss: 0.0039 - accuracy: 0.9994 - val_loss: 0.1048 - val_accuracy: 0.9747\n",
            "Epoch 30/50\n",
            "467/469 [============================>.] - ETA: 0s - loss: 0.0046 - accuracy: 0.9991\n",
            "Epoch 30: val_accuracy did not improve from 0.97940\n",
            "469/469 [==============================] - 2s 4ms/step - loss: 0.0046 - accuracy: 0.9991 - val_loss: 0.1059 - val_accuracy: 0.9757\n",
            "Epoch 31/50\n",
            "466/469 [============================>.] - ETA: 0s - loss: 0.0042 - accuracy: 0.9991\n",
            "Epoch 31: val_accuracy did not improve from 0.97940\n",
            "469/469 [==============================] - 2s 4ms/step - loss: 0.0042 - accuracy: 0.9991 - val_loss: 0.0924 - val_accuracy: 0.9774\n",
            "Epoch 32/50\n",
            "460/469 [============================>.] - ETA: 0s - loss: 0.0023 - accuracy: 0.9998\n",
            "Epoch 32: val_accuracy did not improve from 0.97940\n",
            "469/469 [==============================] - 2s 4ms/step - loss: 0.0023 - accuracy: 0.9998 - val_loss: 0.1127 - val_accuracy: 0.9739\n",
            "Epoch 33/50\n",
            "463/469 [============================>.] - ETA: 0s - loss: 0.0029 - accuracy: 0.9995\n",
            "Epoch 33: val_accuracy did not improve from 0.97940\n",
            "469/469 [==============================] - 2s 4ms/step - loss: 0.0029 - accuracy: 0.9995 - val_loss: 0.0950 - val_accuracy: 0.9781\n",
            "Epoch 34/50\n",
            "455/469 [============================>.] - ETA: 0s - loss: 0.0012 - accuracy: 1.0000\n",
            "Epoch 34: val_accuracy did not improve from 0.97940\n",
            "469/469 [==============================] - 2s 4ms/step - loss: 0.0012 - accuracy: 1.0000 - val_loss: 0.0956 - val_accuracy: 0.9789\n",
            "Epoch 35/50\n",
            "457/469 [============================>.] - ETA: 0s - loss: 0.0013 - accuracy: 0.9999\n",
            "Epoch 35: val_accuracy did not improve from 0.97940\n",
            "469/469 [==============================] - 2s 4ms/step - loss: 0.0014 - accuracy: 0.9998 - val_loss: 0.1139 - val_accuracy: 0.9752\n",
            "Epoch 36/50\n",
            "466/469 [============================>.] - ETA: 0s - loss: 0.0100 - accuracy: 0.9969\n",
            "Epoch 36: val_accuracy did not improve from 0.97940\n",
            "469/469 [==============================] - 2s 5ms/step - loss: 0.0100 - accuracy: 0.9969 - val_loss: 0.1040 - val_accuracy: 0.9784\n",
            "Epoch 37/50\n",
            "463/469 [============================>.] - ETA: 0s - loss: 0.0022 - accuracy: 0.9997\n",
            "Epoch 37: val_accuracy did not improve from 0.97940\n",
            "469/469 [==============================] - 2s 4ms/step - loss: 0.0022 - accuracy: 0.9997 - val_loss: 0.1022 - val_accuracy: 0.9778\n",
            "Epoch 38/50\n",
            "460/469 [============================>.] - ETA: 0s - loss: 9.5321e-04 - accuracy: 1.0000\n",
            "Epoch 38: val_accuracy did not improve from 0.97940\n",
            "469/469 [==============================] - 2s 4ms/step - loss: 9.5583e-04 - accuracy: 1.0000 - val_loss: 0.0970 - val_accuracy: 0.9793\n",
            "Epoch 39/50\n",
            "468/469 [============================>.] - ETA: 0s - loss: 6.2323e-04 - accuracy: 1.0000\n",
            "Epoch 39: val_accuracy improved from 0.97940 to 0.97990, saving model to best_weights.hdf5\n",
            "469/469 [==============================] - 2s 4ms/step - loss: 6.2408e-04 - accuracy: 1.0000 - val_loss: 0.0991 - val_accuracy: 0.9799\n",
            "Epoch 40/50\n",
            "468/469 [============================>.] - ETA: 0s - loss: 5.3045e-04 - accuracy: 1.0000\n",
            "Epoch 40: val_accuracy did not improve from 0.97990\n",
            "469/469 [==============================] - 2s 4ms/step - loss: 5.2979e-04 - accuracy: 1.0000 - val_loss: 0.0994 - val_accuracy: 0.9790\n",
            "Epoch 41/50\n",
            "461/469 [============================>.] - ETA: 0s - loss: 4.8538e-04 - accuracy: 1.0000\n",
            "Epoch 41: val_accuracy did not improve from 0.97990\n",
            "469/469 [==============================] - 2s 4ms/step - loss: 4.8729e-04 - accuracy: 1.0000 - val_loss: 0.0991 - val_accuracy: 0.9790\n",
            "Epoch 42/50\n",
            "466/469 [============================>.] - ETA: 0s - loss: 6.0697e-04 - accuracy: 1.0000\n",
            "Epoch 42: val_accuracy did not improve from 0.97990\n",
            "469/469 [==============================] - 2s 4ms/step - loss: 6.0724e-04 - accuracy: 1.0000 - val_loss: 0.1074 - val_accuracy: 0.9774\n",
            "Epoch 43/50\n",
            "456/469 [============================>.] - ETA: 0s - loss: 0.0114 - accuracy: 0.9965\n",
            "Epoch 43: val_accuracy did not improve from 0.97990\n",
            "469/469 [==============================] - 2s 4ms/step - loss: 0.0113 - accuracy: 0.9965 - val_loss: 0.1261 - val_accuracy: 0.9739\n",
            "Epoch 44/50\n",
            "460/469 [============================>.] - ETA: 0s - loss: 0.0019 - accuracy: 0.9997\n",
            "Epoch 44: val_accuracy did not improve from 0.97990\n",
            "469/469 [==============================] - 2s 4ms/step - loss: 0.0019 - accuracy: 0.9998 - val_loss: 0.1104 - val_accuracy: 0.9769\n",
            "Epoch 45/50\n",
            "459/469 [============================>.] - ETA: 0s - loss: 5.4765e-04 - accuracy: 1.0000\n",
            "Epoch 45: val_accuracy did not improve from 0.97990\n",
            "469/469 [==============================] - 2s 4ms/step - loss: 5.4869e-04 - accuracy: 1.0000 - val_loss: 0.1104 - val_accuracy: 0.9780\n",
            "Epoch 46/50\n",
            "465/469 [============================>.] - ETA: 0s - loss: 3.9852e-04 - accuracy: 1.0000\n",
            "Epoch 46: val_accuracy did not improve from 0.97990\n",
            "469/469 [==============================] - 2s 4ms/step - loss: 4.0010e-04 - accuracy: 1.0000 - val_loss: 0.1091 - val_accuracy: 0.9779\n",
            "Epoch 47/50\n",
            "464/469 [============================>.] - ETA: 0s - loss: 3.4090e-04 - accuracy: 1.0000\n",
            "Epoch 47: val_accuracy did not improve from 0.97990\n",
            "469/469 [==============================] - 2s 4ms/step - loss: 3.4037e-04 - accuracy: 1.0000 - val_loss: 0.1116 - val_accuracy: 0.9779\n",
            "Epoch 48/50\n",
            "463/469 [============================>.] - ETA: 0s - loss: 3.0498e-04 - accuracy: 1.0000\n",
            "Epoch 48: val_accuracy did not improve from 0.97990\n",
            "469/469 [==============================] - 2s 4ms/step - loss: 3.0431e-04 - accuracy: 1.0000 - val_loss: 0.1097 - val_accuracy: 0.9779\n",
            "Epoch 49/50\n",
            "466/469 [============================>.] - ETA: 0s - loss: 2.8003e-04 - accuracy: 1.0000\n",
            "Epoch 49: val_accuracy did not improve from 0.97990\n",
            "469/469 [==============================] - 2s 4ms/step - loss: 2.7977e-04 - accuracy: 1.0000 - val_loss: 0.1103 - val_accuracy: 0.9782\n",
            "Epoch 50/50\n",
            "454/469 [============================>.] - ETA: 0s - loss: 2.5683e-04 - accuracy: 1.0000\n",
            "Epoch 50: val_accuracy did not improve from 0.97990\n",
            "469/469 [==============================] - 2s 4ms/step - loss: 2.6112e-04 - accuracy: 1.0000 - val_loss: 0.1108 - val_accuracy: 0.9776\n"
          ]
        },
        {
          "output_type": "execute_result",
          "data": {
            "text/plain": [
              "<keras.callbacks.History at 0x7fb858dddcd0>"
            ]
          },
          "metadata": {},
          "execution_count": 21
        }
      ]
    },
    {
      "cell_type": "code",
      "source": [
        "# loading the best model\n",
        "model.load_weights(\"best_weights.hdf5\")"
      ],
      "metadata": {
        "id": "60BfGqvqYw3s"
      },
      "execution_count": 23,
      "outputs": []
    },
    {
      "cell_type": "code",
      "source": [
        "model.evaluate(X_test_flattened,y_test)"
      ],
      "metadata": {
        "colab": {
          "base_uri": "https://localhost:8080/"
        },
        "id": "Nh9rwYRdYxCv",
        "outputId": "6b1a613c-21f7-46f7-ff71-2aae4a9c7edf"
      },
      "execution_count": 24,
      "outputs": [
        {
          "output_type": "stream",
          "name": "stdout",
          "text": [
            "313/313 [==============================] - 0s 1ms/step - loss: 0.0991 - accuracy: 0.9799\n"
          ]
        },
        {
          "output_type": "execute_result",
          "data": {
            "text/plain": [
              "[0.09913076460361481, 0.9799000024795532]"
            ]
          },
          "metadata": {},
          "execution_count": 24
        }
      ]
    },
    {
      "cell_type": "code",
      "source": [
        ""
      ],
      "metadata": {
        "id": "Wk-2zLOheQGo"
      },
      "execution_count": null,
      "outputs": []
    }
  ]
}